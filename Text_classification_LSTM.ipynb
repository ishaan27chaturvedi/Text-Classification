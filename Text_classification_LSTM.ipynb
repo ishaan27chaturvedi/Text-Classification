{
  "nbformat": 4,
  "nbformat_minor": 0,
  "metadata": {
    "colab": {
      "name": "Text classification LSTM",
      "provenance": [],
      "collapsed_sections": [],
      "toc_visible": true,
      "machine_shape": "hm",
      "include_colab_link": true
    },
    "kernelspec": {
      "name": "python3",
      "display_name": "Python 3"
    },
    "accelerator": "GPU"
  },
  "cells": [
    {
      "cell_type": "markdown",
      "metadata": {
        "id": "view-in-github",
        "colab_type": "text"
      },
      "source": [
        "<a href=\"https://colab.research.google.com/github/ishaan27chaturvedi/Text-Classification/blob/main/Text_classification_LSTM.ipynb\" target=\"_parent\"><img src=\"https://colab.research.google.com/assets/colab-badge.svg\" alt=\"Open In Colab\"/></a>"
      ]
    },
    {
      "cell_type": "markdown",
      "metadata": {
        "id": "t_yvQBKrD8Se"
      },
      "source": [
        "# **ECS 7001 - NN & NNLP**\n",
        "\n",
        "## **Lab 2: LSTM for Text Classification**\n",
        "\n",
        "<br>\n",
        "\n",
        "**February 2nd and 3rd**\n",
        "\n",
        "In Lab 2, you trained word embeddings by casting the unsupervised learning problem as a binary classification problem (i.e. using the skip-gram model). This week, you will build an LSTM model to classify movie reviews as either positive or negative. After training, you will extract the word embeddings learned by the model.\n",
        "\n"
      ]
    },
    {
      "cell_type": "markdown",
      "metadata": {
        "id": "Ep2X91YdJpkG"
      },
      "source": [
        "### **0. Prepare the environment**\n",
        "\n",
        "Open Google Colab or activate the virtual environment you’ve created"
      ]
    },
    {
      "cell_type": "markdown",
      "metadata": {
        "id": "w6Pi5uvTLRCo"
      },
      "source": [
        "### **1. Getting the Dataset**\n",
        "\n",
        "You will be using the imdb dataset from Lab 0. This is a dataset of 25,000 movie reviews from IMDB, labeled by sentiment - positive (1) or negative (0). \n",
        "<br>\n",
        "\n",
        "The reviews have been preprocessed, and each review is encoded as a list of word indices. Last week, you assigned the indices to the word randomly (or in order of their first appearance in the corpus) but in this preprocessed corpus, the words are indexed by overall frequency in the dataset, such that a word with index 3 occurs more frequently than a word with index 10.\n",
        "<br>\n",
        "\n",
        "In the following blocks of code in this section, we will load and visualize the data.\n"
      ]
    },
    {
      "cell_type": "code",
      "metadata": {
        "id": "xn7sWMG-KoBV"
      },
      "source": [
        "from tensorflow.keras import datasets\n",
        "\n",
        "imdb = datasets.imdb"
      ],
      "execution_count": null,
      "outputs": []
    },
    {
      "cell_type": "code",
      "metadata": {
        "id": "yCH0PmPcL83f"
      },
      "source": [
        "%%capture\n",
        "\n",
        "# we'll use the most frequent 10000 words in the vocabulary\n",
        "VOCAB_SIZE = 10000\n",
        "\n",
        "# 0 is reserved for ‘<PAD>’, 1 for ‘<START>’ and 2 for ‘<UNK>’ i.e. words not in vocabulary\n",
        "# the documentation says index_from = 3 but actually uses the value as an offset. The words\n",
        "# in the dictionary are indexed from 1 by default so, saying index_from=3 means any actual\n",
        "# words would start from 4 (1+3) and index 3 will be left unused. We use index_from=offset=2 to avoid this\n",
        "# If you want to explore this further, you may look up the source_code for load_data here\n",
        "# https://github.com/tensorflow/tensorflow/blob/v2.4.1/tensorflow/python/keras/datasets/imdb.py#L31-L162\n",
        "OFFSET = 2\n",
        "\n",
        "# for more information on the load_data method, type(help(load_data))\n",
        "(train_data,train_labels),(test_data,test_labels) = imdb.load_data(num_words=VOCAB_SIZE, index_from=OFFSET)"
      ],
      "execution_count": null,
      "outputs": []
    },
    {
      "cell_type": "markdown",
      "metadata": {
        "id": "lVgaL5JIYBRm"
      },
      "source": [
        "***Sanity Check***\n",
        "\n",
        "Each instance in the training data is a list of word indices representing the words in a movie review.\n",
        "\n",
        "Each label is 1 if that review is positive, else 0."
      ]
    },
    {
      "cell_type": "code",
      "metadata": {
        "colab": {
          "base_uri": "https://localhost:8080/"
        },
        "id": "APFWiEejv9i5",
        "outputId": "892f0300-ec6e-4fbd-c848-634ec2eef4e4"
      },
      "source": [
        "print('Sample review:', train_data[0])"
      ],
      "execution_count": null,
      "outputs": [
        {
          "output_type": "stream",
          "name": "stdout",
          "text": [
            "Sample review: [1, 13, 21, 15, 42, 529, 972, 1621, 1384, 64, 457, 4467, 65, 3940, 3, 172, 35, 255, 4, 24, 99, 42, 837, 111, 49, 669, 2, 8, 34, 479, 283, 4, 149, 3, 171, 111, 166, 2, 335, 384, 38, 3, 171, 4535, 1110, 16, 545, 37, 12, 446, 3, 191, 49, 15, 5, 146, 2024, 18, 13, 21, 3, 1919, 4612, 468, 3, 21, 70, 86, 11, 15, 42, 529, 37, 75, 14, 12, 1246, 3, 21, 16, 514, 16, 11, 15, 625, 17, 2, 4, 61, 385, 11, 7, 315, 7, 105, 4, 3, 2222, 5243, 15, 479, 65, 3784, 32, 3, 129, 11, 15, 37, 618, 4, 24, 123, 50, 35, 134, 47, 24, 1414, 32, 5, 21, 11, 214, 27, 76, 51, 4, 13, 406, 15, 81, 2, 7, 3, 106, 116, 5951, 14, 255, 3, 2, 6, 3765, 4, 722, 35, 70, 42, 529, 475, 25, 399, 316, 45, 6, 3, 2, 1028, 12, 103, 87, 3, 380, 14, 296, 97, 31, 2070, 55, 25, 140, 5, 193, 7485, 17, 3, 225, 21, 20, 133, 475, 25, 479, 4, 143, 29, 5534, 17, 50, 35, 27, 223, 91, 24, 103, 3, 225, 64, 15, 37, 1333, 87, 11, 15, 282, 4, 15, 4471, 112, 102, 31, 14, 15, 5344, 18, 177, 31]\n"
          ]
        }
      ]
    },
    {
      "cell_type": "code",
      "metadata": {
        "id": "CwgeiaF7n_lX",
        "colab": {
          "base_uri": "https://localhost:8080/"
        },
        "outputId": "3a788cb7-a168-4296-823f-2e46513881e2"
      },
      "source": [
        "print('\\n Sample label:', train_labels[0])"
      ],
      "execution_count": null,
      "outputs": [
        {
          "output_type": "stream",
          "name": "stdout",
          "text": [
            "\n",
            " Sample label: 1\n"
          ]
        }
      ]
    },
    {
      "cell_type": "markdown",
      "metadata": {
        "id": "4c14vElNvMGX"
      },
      "source": [
        "### **2. Readying the Inputs for the LSTM**\n",
        "\n",
        "The movie reviews are of different lengths. The standard way of dealing with varying length inputs is to ***pad*** or ***truncate*** each sentence to a fixed length (which we choose heuristically). \n",
        "\n",
        "Keras provides a way to do this.  In this section, you will use the keras.preprocessing.sequence method <pad_sequences> handle padding and truncating.\n",
        "\n",
        "**Hints**\n",
        "\n",
        "*  help(pad_sequences) will give you more information about how this works.\n",
        "*  You can experiment with 'pre' vs 'post' padding/truncating. In practice, 'pre' padding is more effective for our purposes; can you hypothesize about why this is?\n",
        "*  Since we have reserved 0 for \\<PAD\\>, your pad value should be set to 0.\n",
        "*  The maximum length has been specified below as MAX_LENGTH."
      ]
    },
    {
      "cell_type": "markdown",
      "source": [
        "*If you use post-pad, meaningful words from your input will be washed out in the end, so model kind of “forgets” what is in the beginning, so pre-pad is more powerful.*"
      ],
      "metadata": {
        "id": "P5YyNgbt5oTC"
      }
    },
    {
      "cell_type": "code",
      "metadata": {
        "id": "7XPwN_COagT9"
      },
      "source": [
        "from keras.preprocessing.sequence import pad_sequences\n",
        "\n",
        "\n",
        "MAX_LENGHT = 500\n",
        "\n",
        "# YOUR CODE GOES HERE\n",
        "padded_train_data = pad_sequences(train_data, maxlen = MAX_LENGHT, value =0, padding='pre')\n",
        "padded_test_data = pad_sequences(test_data, maxlen = MAX_LENGHT, value =0, padding='pre')"
      ],
      "execution_count": null,
      "outputs": []
    },
    {
      "cell_type": "markdown",
      "metadata": {
        "id": "RhrUvhC2dO87"
      },
      "source": [
        "***Sanity Check***\n",
        "\n",
        "For the first training example, print its length and the padded sequence to see the effect of your padding process. \n",
        "\n",
        "PS: Pre-padding was used for the output you see below."
      ]
    },
    {
      "cell_type": "code",
      "metadata": {
        "colab": {
          "base_uri": "https://localhost:8080/"
        },
        "id": "DZb7keBfdKc_",
        "outputId": "22b9b998-9bc6-4596-da61-6c02d1c4ab36"
      },
      "source": [
        "print('Length of sample train_data before preprocessing:', len(train_data[0]))\n",
        "print('Length of sample train_data after preprocessing:', len(padded_train_data[0]))\n",
        "print('Sample train data:', padded_train_data[0])"
      ],
      "execution_count": null,
      "outputs": [
        {
          "output_type": "stream",
          "name": "stdout",
          "text": [
            "Length of sample train_data before preprocessing: 218\n",
            "Length of sample train_data after preprocessing: 500\n",
            "Sample train data: [   0    0    0    0    0    0    0    0    0    0    0    0    0    0\n",
            "    0    0    0    0    0    0    0    0    0    0    0    0    0    0\n",
            "    0    0    0    0    0    0    0    0    0    0    0    0    0    0\n",
            "    0    0    0    0    0    0    0    0    0    0    0    0    0    0\n",
            "    0    0    0    0    0    0    0    0    0    0    0    0    0    0\n",
            "    0    0    0    0    0    0    0    0    0    0    0    0    0    0\n",
            "    0    0    0    0    0    0    0    0    0    0    0    0    0    0\n",
            "    0    0    0    0    0    0    0    0    0    0    0    0    0    0\n",
            "    0    0    0    0    0    0    0    0    0    0    0    0    0    0\n",
            "    0    0    0    0    0    0    0    0    0    0    0    0    0    0\n",
            "    0    0    0    0    0    0    0    0    0    0    0    0    0    0\n",
            "    0    0    0    0    0    0    0    0    0    0    0    0    0    0\n",
            "    0    0    0    0    0    0    0    0    0    0    0    0    0    0\n",
            "    0    0    0    0    0    0    0    0    0    0    0    0    0    0\n",
            "    0    0    0    0    0    0    0    0    0    0    0    0    0    0\n",
            "    0    0    0    0    0    0    0    0    0    0    0    0    0    0\n",
            "    0    0    0    0    0    0    0    0    0    0    0    0    0    0\n",
            "    0    0    0    0    0    0    0    0    0    0    0    0    0    0\n",
            "    0    0    0    0    0    0    0    0    0    0    0    0    0    0\n",
            "    0    0    0    0    0    0    0    0    0    0    0    0    0    0\n",
            "    0    0    1   13   21   15   42  529  972 1621 1384   64  457 4467\n",
            "   65 3940    3  172   35  255    4   24   99   42  837  111   49  669\n",
            "    2    8   34  479  283    4  149    3  171  111  166    2  335  384\n",
            "   38    3  171 4535 1110   16  545   37   12  446    3  191   49   15\n",
            "    5  146 2024   18   13   21    3 1919 4612  468    3   21   70   86\n",
            "   11   15   42  529   37   75   14   12 1246    3   21   16  514   16\n",
            "   11   15  625   17    2    4   61  385   11    7  315    7  105    4\n",
            "    3 2222 5243   15  479   65 3784   32    3  129   11   15   37  618\n",
            "    4   24  123   50   35  134   47   24 1414   32    5   21   11  214\n",
            "   27   76   51    4   13  406   15   81    2    7    3  106  116 5951\n",
            "   14  255    3    2    6 3765    4  722   35   70   42  529  475   25\n",
            "  399  316   45    6    3    2 1028   12  103   87    3  380   14  296\n",
            "   97   31 2070   55   25  140    5  193 7485   17    3  225   21   20\n",
            "  133  475   25  479    4  143   29 5534   17   50   35   27  223   91\n",
            "   24  103    3  225   64   15   37 1333   87   11   15  282    4   15\n",
            " 4471  112  102   31   14   15 5344   18  177   31]\n"
          ]
        }
      ]
    },
    {
      "cell_type": "markdown",
      "metadata": {
        "id": "rghchHA66d-V"
      },
      "source": [
        "### **3. Building the Model**\n",
        "\n",
        "In this section, you will use the keras Model API to build a classification model.\n",
        "\n",
        "*   The first step is to tell the model what sort of input to expect using the keras \\<Input\\> layer \n",
        "*   The second step is to add an embedding layer like we did last week. \n",
        "This embedding layer creates a lookup table of the form {word:embedding} for each of the unique words in our corpus. Use EMBED_SIZE = 100 (i.e each word is represented by a 100D vector such that each movie review is 500 X 100 in dimension.  Don't forget to set mask_zero=True since we are using 0 index as out padding.\n",
        "*  The third step is to add an LSTM with 100 units. By leaving 'return_sequences' as False, the output of this model will be the output of the final time step of the LSTM. https://keras.io/api/layers/recurrent_layers/lstm/ \n",
        "*  The final layer of the model is a fully connected (Dense) layer. Can you figure out what activation function would be appropriate for this layer given the binary nature of the task?\n",
        "*  The model should be compiled with a 'binary_crossentropy' loss function, an 'adam' optimizer. We also want to visualize the model accuracy during training so the 'metrics' parameter of the compile method should be set to ['accuracy']."
      ]
    },
    {
      "cell_type": "markdown",
      "source": [
        "\n",
        "*   *The input layer length shall be 500 as each input string is 500 words long*\n",
        "*   *Embed layer will give us a 500x100 vector for each row in the input batch. Setting mask_zero=True helps the embed layer to understand that we have used zero as padding and to not consider it as a real word. Therefore, it is masked.*\n",
        "*  *If return_sequence=True, the LSTM will output the hidden state for each of the timesteps, not just the final timestep. Therefore it will return a sequence of outputs* \n",
        "*  *Since it is a binary classification task, sigmoid is obviously the most appropriate activation function.*\n",
        "\n",
        "\n"
      ],
      "metadata": {
        "id": "1i3QtB84ChzR"
      }
    },
    {
      "cell_type": "code",
      "metadata": {
        "id": "L1EHilHl1l2m"
      },
      "source": [
        "from keras.layers import Input, Embedding, Dense, LSTM\n",
        "from keras.models import Model\n",
        "\n",
        "EMBED_SIZE = 100\n",
        "# YOUR CODE GOES HERE\n",
        "\n",
        "input_1 = Input(shape=(500,), dtype='int32')\n",
        "embedding_1 = Embedding( input_length=500, input_dim=VOCAB_SIZE, output_dim=EMBED_SIZE, name='embed_layer',\n",
        "                        embeddings_initializer='glorot_uniform', mask_zero=True)(input_1)\n",
        "lstm_1 = LSTM(100)(embedding_1)\n",
        "dense_1 = Dense(1, activation='sigmoid')(lstm_1)\n",
        "\n",
        "model_1 = Model(inputs=[input_1], outputs=[dense_1])\n",
        "\n",
        "model_1.compile(loss = 'binary_crossentropy',  optimizer = 'adam', metrics=['accuracy'])\n"
      ],
      "execution_count": null,
      "outputs": []
    },
    {
      "cell_type": "markdown",
      "metadata": {
        "id": "6OMqaFQusbp-"
      },
      "source": [
        "***Sanity Check***\n",
        "\n",
        "Print the model summary and visualize it using vis_utils."
      ]
    },
    {
      "cell_type": "code",
      "metadata": {
        "colab": {
          "base_uri": "https://localhost:8080/"
        },
        "id": "PB7Gv4V6raWd",
        "outputId": "751ae77a-938a-4ca7-caf3-597171e101cc"
      },
      "source": [
        "model_1.summary()"
      ],
      "execution_count": null,
      "outputs": [
        {
          "output_type": "stream",
          "name": "stdout",
          "text": [
            "Model: \"model_5\"\n",
            "_________________________________________________________________\n",
            " Layer (type)                Output Shape              Param #   \n",
            "=================================================================\n",
            " input_7 (InputLayer)        [(None, 500)]             0         \n",
            "                                                                 \n",
            " embed_layer (Embedding)     (None, 500, 100)          1000000   \n",
            "                                                                 \n",
            " lstm_5 (LSTM)               (None, 100)               80400     \n",
            "                                                                 \n",
            " dense_5 (Dense)             (None, 1)                 101       \n",
            "                                                                 \n",
            "=================================================================\n",
            "Total params: 1,080,501\n",
            "Trainable params: 1,080,501\n",
            "Non-trainable params: 0\n",
            "_________________________________________________________________\n"
          ]
        }
      ]
    },
    {
      "cell_type": "code",
      "metadata": {
        "colab": {
          "base_uri": "https://localhost:8080/",
          "height": 358
        },
        "id": "ZTq8GsWgsqCe",
        "outputId": "ae413284-c81b-4796-939c-a937ce6f2915"
      },
      "source": [
        "from IPython.display import SVG\n",
        "from keras.utils import vis_utils\n",
        "SVG(vis_utils.model_to_dot(model_1, show_shapes=True, show_layer_names=True, dpi=60).create(prog='dot', format='svg'))  \n"
      ],
      "execution_count": null,
      "outputs": [
        {
          "output_type": "execute_result",
          "data": {
            "text/plain": [
              "<IPython.core.display.SVG object>"
            ],
            "image/svg+xml": "<svg height=\"253pt\" viewBox=\"0.00 0.00 360.00 304.00\" width=\"300pt\" xmlns=\"http://www.w3.org/2000/svg\" xmlns:xlink=\"http://www.w3.org/1999/xlink\">\n<g class=\"graph\" id=\"graph0\" transform=\"scale(.8333 .8333) rotate(0) translate(4 300)\">\n<title>G</title>\n<polygon fill=\"#ffffff\" points=\"-4,4 -4,-300 356,-300 356,4 -4,4\" stroke=\"transparent\"/>\n<!-- 140342266050704 -->\n<g class=\"node\" id=\"node1\">\n<title>140342266050704</title>\n<polygon fill=\"none\" points=\"11,-249.5 11,-295.5 341,-295.5 341,-249.5 11,-249.5\" stroke=\"#000000\"/>\n<text fill=\"#000000\" font-family=\"Times,serif\" font-size=\"14.00\" text-anchor=\"middle\" x=\"51\" y=\"-280.3\">input_1</text>\n<polyline fill=\"none\" points=\"11,-272.5 91,-272.5 \" stroke=\"#000000\"/>\n<text fill=\"#000000\" font-family=\"Times,serif\" font-size=\"14.00\" text-anchor=\"middle\" x=\"51\" y=\"-257.3\">InputLayer</text>\n<polyline fill=\"none\" points=\"91,-249.5 91,-295.5 \" stroke=\"#000000\"/>\n<text fill=\"#000000\" font-family=\"Times,serif\" font-size=\"14.00\" text-anchor=\"middle\" x=\"120\" y=\"-280.3\">input:</text>\n<polyline fill=\"none\" points=\"91,-272.5 149,-272.5 \" stroke=\"#000000\"/>\n<text fill=\"#000000\" font-family=\"Times,serif\" font-size=\"14.00\" text-anchor=\"middle\" x=\"120\" y=\"-257.3\">output:</text>\n<polyline fill=\"none\" points=\"149,-249.5 149,-295.5 \" stroke=\"#000000\"/>\n<text fill=\"#000000\" font-family=\"Times,serif\" font-size=\"14.00\" text-anchor=\"middle\" x=\"197\" y=\"-268.8\">[(None, 500)]</text>\n<polyline fill=\"none\" points=\"245,-249.5 245,-295.5 \" stroke=\"#000000\"/>\n<text fill=\"#000000\" font-family=\"Times,serif\" font-size=\"14.00\" text-anchor=\"middle\" x=\"293\" y=\"-268.8\">[(None, 500)]</text>\n</g>\n<!-- 140344448499088 -->\n<g class=\"node\" id=\"node2\">\n<title>140344448499088</title>\n<polygon fill=\"none\" points=\"0,-166.5 0,-212.5 352,-212.5 352,-166.5 0,-166.5\" stroke=\"#000000\"/>\n<text fill=\"#000000\" font-family=\"Times,serif\" font-size=\"14.00\" text-anchor=\"middle\" x=\"45\" y=\"-197.3\">embed_layer</text>\n<polyline fill=\"none\" points=\"0,-189.5 90,-189.5 \" stroke=\"#000000\"/>\n<text fill=\"#000000\" font-family=\"Times,serif\" font-size=\"14.00\" text-anchor=\"middle\" x=\"45\" y=\"-174.3\">Embedding</text>\n<polyline fill=\"none\" points=\"90,-166.5 90,-212.5 \" stroke=\"#000000\"/>\n<text fill=\"#000000\" font-family=\"Times,serif\" font-size=\"14.00\" text-anchor=\"middle\" x=\"119\" y=\"-197.3\">input:</text>\n<polyline fill=\"none\" points=\"90,-189.5 148,-189.5 \" stroke=\"#000000\"/>\n<text fill=\"#000000\" font-family=\"Times,serif\" font-size=\"14.00\" text-anchor=\"middle\" x=\"119\" y=\"-174.3\">output:</text>\n<polyline fill=\"none\" points=\"148,-166.5 148,-212.5 \" stroke=\"#000000\"/>\n<text fill=\"#000000\" font-family=\"Times,serif\" font-size=\"14.00\" text-anchor=\"middle\" x=\"191.5\" y=\"-185.8\">(None, 500)</text>\n<polyline fill=\"none\" points=\"235,-166.5 235,-212.5 \" stroke=\"#000000\"/>\n<text fill=\"#000000\" font-family=\"Times,serif\" font-size=\"14.00\" text-anchor=\"middle\" x=\"293.5\" y=\"-185.8\">(None, 500, 100)</text>\n</g>\n<!-- 140342266050704&#45;&gt;140344448499088 -->\n<g class=\"edge\" id=\"edge1\">\n<title>140342266050704-&gt;140344448499088</title>\n<path d=\"M176,-249.3799C176,-241.1745 176,-231.7679 176,-222.8786\" fill=\"none\" stroke=\"#000000\"/>\n<polygon fill=\"#000000\" points=\"179.5001,-222.784 176,-212.784 172.5001,-222.784 179.5001,-222.784\" stroke=\"#000000\"/>\n</g>\n<!-- 140342265443664 -->\n<g class=\"node\" id=\"node3\">\n<title>140342265443664</title>\n<polygon fill=\"none\" points=\"17,-83.5 17,-129.5 335,-129.5 335,-83.5 17,-83.5\" stroke=\"#000000\"/>\n<text fill=\"#000000\" font-family=\"Times,serif\" font-size=\"14.00\" text-anchor=\"middle\" x=\"45\" y=\"-114.3\">lstm</text>\n<polyline fill=\"none\" points=\"17,-106.5 73,-106.5 \" stroke=\"#000000\"/>\n<text fill=\"#000000\" font-family=\"Times,serif\" font-size=\"14.00\" text-anchor=\"middle\" x=\"45\" y=\"-91.3\">LSTM</text>\n<polyline fill=\"none\" points=\"73,-83.5 73,-129.5 \" stroke=\"#000000\"/>\n<text fill=\"#000000\" font-family=\"Times,serif\" font-size=\"14.00\" text-anchor=\"middle\" x=\"102\" y=\"-114.3\">input:</text>\n<polyline fill=\"none\" points=\"73,-106.5 131,-106.5 \" stroke=\"#000000\"/>\n<text fill=\"#000000\" font-family=\"Times,serif\" font-size=\"14.00\" text-anchor=\"middle\" x=\"102\" y=\"-91.3\">output:</text>\n<polyline fill=\"none\" points=\"131,-83.5 131,-129.5 \" stroke=\"#000000\"/>\n<text fill=\"#000000\" font-family=\"Times,serif\" font-size=\"14.00\" text-anchor=\"middle\" x=\"189.5\" y=\"-102.8\">(None, 500, 100)</text>\n<polyline fill=\"none\" points=\"248,-83.5 248,-129.5 \" stroke=\"#000000\"/>\n<text fill=\"#000000\" font-family=\"Times,serif\" font-size=\"14.00\" text-anchor=\"middle\" x=\"291.5\" y=\"-102.8\">(None, 100)</text>\n</g>\n<!-- 140344448499088&#45;&gt;140342265443664 -->\n<g class=\"edge\" id=\"edge2\">\n<title>140344448499088-&gt;140342265443664</title>\n<path d=\"M176,-166.3799C176,-158.1745 176,-148.7679 176,-139.8786\" fill=\"none\" stroke=\"#000000\"/>\n<polygon fill=\"#000000\" points=\"179.5001,-139.784 176,-129.784 172.5001,-139.784 179.5001,-139.784\" stroke=\"#000000\"/>\n</g>\n<!-- 140342252976912 -->\n<g class=\"node\" id=\"node4\">\n<title>140342252976912</title>\n<polygon fill=\"none\" points=\"41.5,-.5 41.5,-46.5 310.5,-46.5 310.5,-.5 41.5,-.5\" stroke=\"#000000\"/>\n<text fill=\"#000000\" font-family=\"Times,serif\" font-size=\"14.00\" text-anchor=\"middle\" x=\"67.5\" y=\"-31.3\">dense</text>\n<polyline fill=\"none\" points=\"41.5,-23.5 93.5,-23.5 \" stroke=\"#000000\"/>\n<text fill=\"#000000\" font-family=\"Times,serif\" font-size=\"14.00\" text-anchor=\"middle\" x=\"67.5\" y=\"-8.3\">Dense</text>\n<polyline fill=\"none\" points=\"93.5,-.5 93.5,-46.5 \" stroke=\"#000000\"/>\n<text fill=\"#000000\" font-family=\"Times,serif\" font-size=\"14.00\" text-anchor=\"middle\" x=\"122.5\" y=\"-31.3\">input:</text>\n<polyline fill=\"none\" points=\"93.5,-23.5 151.5,-23.5 \" stroke=\"#000000\"/>\n<text fill=\"#000000\" font-family=\"Times,serif\" font-size=\"14.00\" text-anchor=\"middle\" x=\"122.5\" y=\"-8.3\">output:</text>\n<polyline fill=\"none\" points=\"151.5,-.5 151.5,-46.5 \" stroke=\"#000000\"/>\n<text fill=\"#000000\" font-family=\"Times,serif\" font-size=\"14.00\" text-anchor=\"middle\" x=\"195\" y=\"-19.8\">(None, 100)</text>\n<polyline fill=\"none\" points=\"238.5,-.5 238.5,-46.5 \" stroke=\"#000000\"/>\n<text fill=\"#000000\" font-family=\"Times,serif\" font-size=\"14.00\" text-anchor=\"middle\" x=\"274.5\" y=\"-19.8\">(None, 1)</text>\n</g>\n<!-- 140342265443664&#45;&gt;140342252976912 -->\n<g class=\"edge\" id=\"edge3\">\n<title>140342265443664-&gt;140342252976912</title>\n<path d=\"M176,-83.3799C176,-75.1745 176,-65.7679 176,-56.8786\" fill=\"none\" stroke=\"#000000\"/>\n<polygon fill=\"#000000\" points=\"179.5001,-56.784 176,-46.784 172.5001,-56.784 179.5001,-56.784\" stroke=\"#000000\"/>\n</g>\n</g>\n</svg>"
          },
          "metadata": {},
          "execution_count": 9
        }
      ]
    },
    {
      "cell_type": "markdown",
      "metadata": {
        "id": "WXhJNdf9TIed"
      },
      "source": [
        "### **4. Training the Model**\n",
        "\n",
        "A model can memorize the training data (this is called 'overfitting' and when it does so, it's training accuracy can continue to go up but it's accuracy on previously unseen (i.e. non-training) examples can be very poor. To ensure that this doesn't happen, researchers often intermittently check the performance of a model being trained on a held back dataset called the ***validation dataset***. This way, 'early stopping' or 'random search' can be used to select the model that will generalize best to unseen data. \n",
        "<br>\n",
        "\n",
        "\n",
        "In this lab, you will just plot training accuracy against validation accuracy to monitor the progress of your model. And, using the plot, you will theorize about what the optimal stopping point for your model should have been.\n"
      ]
    },
    {
      "cell_type": "markdown",
      "metadata": {
        "id": "LFJtD1EgvPND"
      },
      "source": [
        "**Step 1: Getting a validation dataset**\n",
        "\n",
        "Before we begin training, you will split the padded training data into training and validation data. To avoid losing too much training data, use 2000 samples (i.e 8%) for validation and the other 23000 for training.\n",
        "\n",
        "We will do this using the sklearn train_test_split function. "
      ]
    },
    {
      "cell_type": "code",
      "metadata": {
        "id": "zqHSAlOev6kB"
      },
      "source": [
        "from sklearn.model_selection import train_test_split\n",
        "\n",
        "train_x, validation_x, train_y, validation_y = train_test_split(padded_train_data, train_labels, test_size=0.08) "
      ],
      "execution_count": null,
      "outputs": []
    },
    {
      "cell_type": "markdown",
      "metadata": {
        "id": "xArEfNkX0DnN"
      },
      "source": [
        "Alternatively, we could have chosen to set validation_size=0.08 in our model.fit() function below instead of passing in a separate validation dataset."
      ]
    },
    {
      "cell_type": "markdown",
      "metadata": {
        "id": "3oXtkSBuyiWt"
      },
      "source": [
        "**Step 2: Training the model**\n",
        "\n",
        "We will use model.fit() to train the model. We will set our batch_size to 1000, which means the model will train int(23000/1000) batches each epoch. In other words, at each epoch the model will train 23 batches, each one consisting of 1000 movie reviews."
      ]
    },
    {
      "cell_type": "code",
      "metadata": {
        "colab": {
          "base_uri": "https://localhost:8080/"
        },
        "id": "Fgp3GWqiySHB",
        "outputId": "37fef119-eb35-4ee9-c44a-08ffb725e727"
      },
      "source": [
        "history = model_1.fit(train_x, train_y, epochs=6, batch_size=1000, validation_data=(validation_x, validation_y))"
      ],
      "execution_count": null,
      "outputs": [
        {
          "output_type": "stream",
          "name": "stdout",
          "text": [
            "Epoch 1/6\n",
            "23/23 [==============================] - 16s 569ms/step - loss: 0.6400 - accuracy: 0.6436 - val_loss: 0.5573 - val_accuracy: 0.8070\n",
            "Epoch 2/6\n",
            "23/23 [==============================] - 12s 525ms/step - loss: 0.3856 - accuracy: 0.8503 - val_loss: 0.3372 - val_accuracy: 0.8625\n",
            "Epoch 3/6\n",
            "23/23 [==============================] - 13s 557ms/step - loss: 0.2521 - accuracy: 0.9049 - val_loss: 0.2991 - val_accuracy: 0.8795\n",
            "Epoch 4/6\n",
            "23/23 [==============================] - 13s 549ms/step - loss: 0.1865 - accuracy: 0.9350 - val_loss: 0.2895 - val_accuracy: 0.8795\n",
            "Epoch 5/6\n",
            "23/23 [==============================] - 13s 557ms/step - loss: 0.1451 - accuracy: 0.9536 - val_loss: 0.3021 - val_accuracy: 0.8825\n",
            "Epoch 6/6\n",
            "23/23 [==============================] - 13s 550ms/step - loss: 0.1167 - accuracy: 0.9659 - val_loss: 0.3298 - val_accuracy: 0.8770\n"
          ]
        }
      ]
    },
    {
      "cell_type": "markdown",
      "metadata": {
        "id": "2OaWng6v835A"
      },
      "source": [
        "**Step 3: Visualize the model plot**"
      ]
    },
    {
      "cell_type": "code",
      "metadata": {
        "colab": {
          "base_uri": "https://localhost:8080/"
        },
        "id": "R6xASJOM897O",
        "outputId": "27dbead2-ff9b-4a47-f1f3-ac371d472a63"
      },
      "source": [
        "pip install plot_keras_history"
      ],
      "execution_count": null,
      "outputs": [
        {
          "output_type": "stream",
          "name": "stdout",
          "text": [
            "Collecting plot_keras_history\n",
            "  Downloading plot_keras_history-1.1.30.tar.gz (8.6 kB)\n",
            "Requirement already satisfied: matplotlib in /usr/local/lib/python3.7/dist-packages (from plot_keras_history) (3.2.2)\n",
            "Requirement already satisfied: pandas in /usr/local/lib/python3.7/dist-packages (from plot_keras_history) (1.3.5)\n",
            "Requirement already satisfied: scipy in /usr/local/lib/python3.7/dist-packages (from plot_keras_history) (1.4.1)\n",
            "Collecting sanitize_ml_labels>=1.0.28\n",
            "  Downloading sanitize_ml_labels-1.0.29.tar.gz (7.4 kB)\n",
            "Collecting compress_json\n",
            "  Downloading compress_json-1.0.4.tar.gz (4.7 kB)\n",
            "Requirement already satisfied: numpy>=1.11 in /usr/local/lib/python3.7/dist-packages (from matplotlib->plot_keras_history) (1.21.5)\n",
            "Requirement already satisfied: cycler>=0.10 in /usr/local/lib/python3.7/dist-packages (from matplotlib->plot_keras_history) (0.11.0)\n",
            "Requirement already satisfied: pyparsing!=2.0.4,!=2.1.2,!=2.1.6,>=2.0.1 in /usr/local/lib/python3.7/dist-packages (from matplotlib->plot_keras_history) (3.0.7)\n",
            "Requirement already satisfied: kiwisolver>=1.0.1 in /usr/local/lib/python3.7/dist-packages (from matplotlib->plot_keras_history) (1.3.2)\n",
            "Requirement already satisfied: python-dateutil>=2.1 in /usr/local/lib/python3.7/dist-packages (from matplotlib->plot_keras_history) (2.8.2)\n",
            "Requirement already satisfied: six>=1.5 in /usr/local/lib/python3.7/dist-packages (from python-dateutil>=2.1->matplotlib->plot_keras_history) (1.15.0)\n",
            "Requirement already satisfied: pytz>=2017.3 in /usr/local/lib/python3.7/dist-packages (from pandas->plot_keras_history) (2018.9)\n",
            "Building wheels for collected packages: plot-keras-history, sanitize-ml-labels, compress-json\n",
            "  Building wheel for plot-keras-history (setup.py) ... \u001b[?25l\u001b[?25hdone\n",
            "  Created wheel for plot-keras-history: filename=plot_keras_history-1.1.30-py3-none-any.whl size=8794 sha256=71e01b1e4e900c30b2af5d04cabfdff6c79964583885e632e0f5bb3dd14ef358\n",
            "  Stored in directory: /root/.cache/pip/wheels/b0/60/47/8c5aa37c06be5e97879ec467bc2e6a30b315d95f662c63a503\n",
            "  Building wheel for sanitize-ml-labels (setup.py) ... \u001b[?25l\u001b[?25hdone\n",
            "  Created wheel for sanitize-ml-labels: filename=sanitize_ml_labels-1.0.29-py3-none-any.whl size=7878 sha256=5f069c158fa7f6e966082cda98ae24284159053e91a3447c557ba0561163e5ef\n",
            "  Stored in directory: /root/.cache/pip/wheels/c2/f5/71/d1c459da10abec864a1979b449edbf37d4a82ab3e38a3625a8\n",
            "  Building wheel for compress-json (setup.py) ... \u001b[?25l\u001b[?25hdone\n",
            "  Created wheel for compress-json: filename=compress_json-1.0.4-py3-none-any.whl size=4588 sha256=92e26a1a65a72c67f5fe32914ddac12deb7db817e034fc62095de25762d969a9\n",
            "  Stored in directory: /root/.cache/pip/wheels/1e/ef/1e/5d403c5632b0462471a8d26049d0c138134d0255ec60ce4c14\n",
            "Successfully built plot-keras-history sanitize-ml-labels compress-json\n",
            "Installing collected packages: compress-json, sanitize-ml-labels, plot-keras-history\n",
            "Successfully installed compress-json-1.0.4 plot-keras-history-1.1.30 sanitize-ml-labels-1.0.29\n"
          ]
        }
      ]
    },
    {
      "cell_type": "code",
      "metadata": {
        "id": "0-Qq9lwGDHVl"
      },
      "source": [
        "from plot_keras_history import plot_history\n",
        "import matplotlib.pyplot as plt"
      ],
      "execution_count": null,
      "outputs": []
    },
    {
      "cell_type": "code",
      "metadata": {
        "colab": {
          "base_uri": "https://localhost:8080/",
          "height": 385
        },
        "id": "6jS3_xzmDJmk",
        "outputId": "be6dad9d-695f-431d-ca4a-2286f49b1cc7"
      },
      "source": [
        "plot_history(history.history, path=\"standard.png\")\n",
        "plt.show()"
      ],
      "execution_count": null,
      "outputs": [
        {
          "output_type": "display_data",
          "data": {
            "text/plain": [
              "<Figure size 720x360 with 2 Axes>"
            ],
            "image/png": "[encoded data removed]"
          },
          "metadata": {
            "needs_background": "light"
          }
        }
      ]
    },
    {
      "cell_type": "code",
      "source": [
        "results = model_1.evaluate(padded_test_data, test_labels, batch_size=1000)\n",
        "\n",
        "print('test_loss:', results[0], 'test_accuracy:', results[1])"
      ],
      "metadata": {
        "colab": {
          "base_uri": "https://localhost:8080/"
        },
        "id": "i57ylbPhaDfk",
        "outputId": "ec373f56-51da-463c-e36a-785d3a8f8102"
      },
      "execution_count": null,
      "outputs": [
        {
          "output_type": "stream",
          "name": "stdout",
          "text": [
            "25/25 [==============================] - 3s 102ms/step - loss: 0.3605 - accuracy: 0.8646\n",
            "test_loss: 0.3605085015296936 test_accuracy: 0.8645600080490112\n"
          ]
        }
      ]
    },
    {
      "cell_type": "markdown",
      "metadata": {
        "id": "8Xy45WzGCkFJ"
      },
      "source": [
        "**Based on the accuracy plot, what do you think the optimal stopping point for your model should\n",
        "have been?**"
      ]
    },
    {
      "cell_type": "markdown",
      "source": [
        "*Early stopping entails stopping the model training when the validation accuracy starts to reduce. Here we see that after the 2nd epoch the validation accuracy stabilizes and the training accuracy continues increasing, which could signify overfitting. We can also see that the validation loss is significant and stabilizing after the 2nd epoch. Therefore, the model should early stop its training at the 2nd epoch.*"
      ],
      "metadata": {
        "id": "CXstNbJOM-Xk"
      }
    },
    {
      "cell_type": "markdown",
      "source": [
        "## Model with early stopping"
      ],
      "metadata": {
        "id": "t0PH-hHgTSGI"
      }
    },
    {
      "cell_type": "code",
      "source": [
        "from tensorflow.keras.callbacks import EarlyStopping\n",
        "callback = EarlyStopping(monitor='val_loss', patience=1, mode='min', verbose=1, min_delta=0.01)\n",
        "\n",
        "history = model_1.fit(train_x, train_y, epochs=6, batch_size=1000, validation_data=(validation_x, validation_y), callbacks = [callback])"
      ],
      "metadata": {
        "colab": {
          "base_uri": "https://localhost:8080/"
        },
        "id": "ta_ACJkOTWDw",
        "outputId": "59dedfd9-99e5-44c9-b58e-02bc66d53571"
      },
      "execution_count": null,
      "outputs": [
        {
          "output_type": "stream",
          "name": "stdout",
          "text": [
            "Epoch 1/6\n",
            "23/23 [==============================] - 17s 594ms/step - loss: 0.6502 - accuracy: 0.6303 - val_loss: 0.4792 - val_accuracy: 0.8215\n",
            "Epoch 2/6\n",
            "23/23 [==============================] - 13s 550ms/step - loss: 0.3852 - accuracy: 0.8483 - val_loss: 0.3195 - val_accuracy: 0.8695\n",
            "Epoch 3/6\n",
            "23/23 [==============================] - 13s 550ms/step - loss: 0.2599 - accuracy: 0.9004 - val_loss: 0.2985 - val_accuracy: 0.8870\n",
            "Epoch 4/6\n",
            "23/23 [==============================] - 13s 550ms/step - loss: 0.1963 - accuracy: 0.9295 - val_loss: 0.2871 - val_accuracy: 0.8745\n",
            "Epoch 5/6\n",
            "23/23 [==============================] - 13s 562ms/step - loss: 0.1545 - accuracy: 0.9486 - val_loss: 0.3010 - val_accuracy: 0.8805\n",
            "Epoch 5: early stopping\n"
          ]
        }
      ]
    },
    {
      "cell_type": "code",
      "source": [
        "plot_history(history.history, path=\"standard.png\")\n",
        "plt.show()"
      ],
      "metadata": {
        "colab": {
          "base_uri": "https://localhost:8080/",
          "height": 385
        },
        "id": "i_QFKJAJToxL",
        "outputId": "dd7cc0ca-94b8-41b7-8745-16caa0dcb755"
      },
      "execution_count": null,
      "outputs": [
        {
          "output_type": "display_data",
          "data": {
            "text/plain": [
              "<Figure size 720x360 with 2 Axes>"
            ],
            "image/png": "[encoded data removed]"
          },
          "metadata": {
            "needs_background": "light"
          }
        }
      ]
    },
    {
      "cell_type": "markdown",
      "metadata": {
        "id": "uMQJAolZWVLx"
      },
      "source": [
        "### **5. Evaluating the Model on the Test Data**\n",
        "\n",
        "Evaluate the model on the padded test data using the code in the following cell block."
      ]
    },
    {
      "cell_type": "code",
      "metadata": {
        "id": "fi0JmuY-Tlsp",
        "colab": {
          "base_uri": "https://localhost:8080/"
        },
        "outputId": "b57d0fa3-f698-4365-c57e-c4785c9a4120"
      },
      "source": [
        "# YOUR CODE TO EVALUATE THE MODEL ON TEST DATA GOES HERE\n",
        "results = model_1.evaluate(padded_test_data, test_labels, batch_size=1000)\n",
        "\n",
        "print('test_loss:', results[0], 'test_accuracy:', results[1])"
      ],
      "execution_count": null,
      "outputs": [
        {
          "output_type": "stream",
          "name": "stdout",
          "text": [
            "25/25 [==============================] - 3s 98ms/step - loss: 0.3181 - accuracy: 0.8714\n",
            "test_loss: 0.3180568814277649 test_accuracy: 0.8714399933815002\n"
          ]
        }
      ]
    },
    {
      "cell_type": "markdown",
      "metadata": {
        "id": "zbOcZD6igpxy"
      },
      "source": [
        "###**6. Extracting the Word Embeddings**\n",
        "\n",
        "Extract the word embeddings from the embedding layer model like we did in the last lab. \n",
        "\n",
        "**Hints**\n",
        "\n",
        "*  You can use model.get_layer(layer_name).get_weights()[0] or model.layers[layer_number].get_weights()[0].  The layer number indicates the order in which the layers were added to the model.\n",
        "\n",
        "*  If you didn't explicitly name your layers, you can check layer names and numbers about the order from model.summary() or by calling model.layers"
      ]
    },
    {
      "cell_type": "code",
      "metadata": {
        "id": "dVG1le_LWBtq"
      },
      "source": [
        "word_embeddings = model_1.get_layer('embed_layer').get_weights()[0]"
      ],
      "execution_count": null,
      "outputs": []
    },
    {
      "cell_type": "markdown",
      "metadata": {
        "id": "fXzDQ-7IE5Ou"
      },
      "source": [
        "***Sanity Check***\n",
        "\n",
        "Print the shape of the word embeddings using the line of code below. It should return (VOCAB_SIZE, EMBED_SIZE)"
      ]
    },
    {
      "cell_type": "code",
      "metadata": {
        "colab": {
          "base_uri": "https://localhost:8080/"
        },
        "id": "swJFPaX_E4f0",
        "outputId": "675ed445-4819-448f-809a-a99c4b7c4df1"
      },
      "source": [
        "print('Shape of word_embeddings:', word_embeddings.shape)"
      ],
      "execution_count": null,
      "outputs": [
        {
          "output_type": "stream",
          "name": "stdout",
          "text": [
            "Shape of word_embeddings: (10000, 100)\n"
          ]
        }
      ]
    },
    {
      "cell_type": "markdown",
      "metadata": {
        "id": "Bwz_8kTZ6UVF"
      },
      "source": [
        "###**7. Visualizing the Reviews**\n",
        "\n",
        "In this section, we will view the effects of padding the dataset. \n",
        "\n",
        "As mentioned before, Keras already preprocessed the corpus. In this preprocessed corpus, all the words have already been mapped to indices and were assigned these numbers in order of their frequency such that index 2 is the 2nd most frequent word in the dataset, and so on. However, when we loaded our training dataset, we reserved the first 3 indices - 0, 1, 2 - for \\<PAD\\>, \\<START\\> and \\<UNK\\>. Additionally, we limited our vocabulary to only the top 10000 most frequent words (9997 if you exclude the padding). We will now visualize what a movie review will look like with these changes\n",
        "\n"
      ]
    },
    {
      "cell_type": "markdown",
      "metadata": {
        "id": "lOmorAwXGZS9"
      },
      "source": [
        "\n",
        "**Step 1: Create a word2idx dictionary**\n",
        "\n",
        "Create the word2idx dictionary using the following lines of code."
      ]
    },
    {
      "cell_type": "code",
      "metadata": {
        "id": "AtU7lOD6GYtB",
        "colab": {
          "base_uri": "https://localhost:8080/"
        },
        "outputId": "588149c7-6ada-4221-c39a-0bcd031c28d4"
      },
      "source": [
        "# in this dictionary, the words start from 1, 0 is reserved for padding but \n",
        "# <start> and <unknown> are not accounted for.\n",
        "word_indices = imdb.get_word_index()\n",
        "\n",
        "# so we shift each original word two places to make room for the two new tokens\n",
        "offset = 2\n",
        "word2idx = {k:(v+offset) for k,v in word_indices.items() if v < 9998}\n",
        "word2idx[\"<PAD>\"] = 0\n",
        "word2idx[\"<START>\"] = 1\n",
        "word2idx[\"<UNK>\"] = 2"
      ],
      "execution_count": null,
      "outputs": [
        {
          "output_type": "stream",
          "name": "stdout",
          "text": [
            "Downloading data from https://storage.googleapis.com/tensorflow/tf-keras-datasets/imdb_word_index.json\n",
            "1646592/1641221 [==============================] - 0s 0us/step\n",
            "1654784/1641221 [==============================] - 0s 0us/step\n"
          ]
        }
      ]
    },
    {
      "cell_type": "markdown",
      "metadata": {
        "id": "H3oZeE74HCvL"
      },
      "source": [
        "\n",
        "**Step 2: Create a the idx2word dictionary**"
      ]
    },
    {
      "cell_type": "code",
      "metadata": {
        "id": "F0sWRDRIHIzp"
      },
      "source": [
        "# YOUR CODE GOES HERE\n",
        "idx2word = {v: k for k, v in word2idx.items()}"
      ],
      "execution_count": null,
      "outputs": []
    },
    {
      "cell_type": "code",
      "source": [
        "idx2word"
      ],
      "metadata": {
        "colab": {
          "base_uri": "https://localhost:8080/"
        },
        "id": "etx9ae04PIxQ",
        "outputId": "d92d2d3f-5858-4109-e9e5-82ea7b49ee3e"
      },
      "execution_count": null,
      "outputs": [
        {
          "output_type": "execute_result",
          "data": {
            "text/plain": [
              "{1410: 'woods',\n",
              " 2347: 'hanging',\n",
              " 2291: 'woody',\n",
              " 6748: 'arranged',\n",
              " 2340: 'bringing',\n",
              " 1638: 'wooden',\n",
              " 4012: 'errors',\n",
              " 3232: 'dialogs',\n",
              " 361: 'kids',\n",
              " 5036: 'uplifting',\n",
              " 7095: 'controversy',\n",
              " 9880: 'projection',\n",
              " 7182: 'stern',\n",
              " 5623: 'morally',\n",
              " 5285: 'wang',\n",
              " 180: 'want',\n",
              " 2105: 'travel',\n",
              " 6704: 'barbra',\n",
              " 3932: 'dinosaurs',\n",
              " 354: 'wrong',\n",
              " 4762: 'subplots',\n",
              " 9094: 'welcomed',\n",
              " 6705: 'butcher',\n",
              " 1182: 'fit',\n",
              " 1929: 'screaming',\n",
              " 4289: 'fix',\n",
              " 9656: 'hurting',\n",
              " 301: 'effects',\n",
              " 8777: 'barton',\n",
              " 6194: 'ingrid',\n",
              " 7918: 'adapt',\n",
              " 4013: 'disturbed',\n",
              " 1287: 'purpose',\n",
              " 6794: 'olds',\n",
              " 886: 'needed',\n",
              " 1299: 'master',\n",
              " 5401: 'positively',\n",
              " 9838: 'zatoichi',\n",
              " 546: 'feeling',\n",
              " 5624: 'affairs',\n",
              " 7801: 'wholesome',\n",
              " 1359: 'cinematic',\n",
              " 4990: 'tech',\n",
              " 659: 'saying',\n",
              " 8424: 'padded',\n",
              " 5747: 'tempted',\n",
              " 7478: 'plate',\n",
              " 3901: 'altogether',\n",
              " 8778: 'lds',\n",
              " 1779: 'nicely',\n",
              " 4590: 'mummy',\n",
              " 774: 'lots',\n",
              " 9261: 'lotr',\n",
              " 9881: 'irs',\n",
              " 6889: 'ira',\n",
              " 7695: 'discipline',\n",
              " 875: 'nature',\n",
              " 3902: 'superficial',\n",
              " 2825: 'extent',\n",
              " 8779: 'bothers',\n",
              " 75: 'much',\n",
              " 6261: 'spit',\n",
              " 7366: 'arkin',\n",
              " 4991: 'doubts',\n",
              " 3086: 'spin',\n",
              " 2578: 'hong',\n",
              " 9096: 'academic',\n",
              " 4451: 'corporate',\n",
              " 4313: 'hal',\n",
              " 4894: 'ham',\n",
              " 68: 'had',\n",
              " 46: 'has',\n",
              " 2403: 'hat',\n",
              " 2292: 'crowd',\n",
              " 6629: 'crown',\n",
              " 1323: 'bottom',\n",
              " 1183: 'starring',\n",
              " 5342: 'marshall',\n",
              " 9097: 'honeymoon',\n",
              " 3233: 'shoots',\n",
              " 8291: 'fabric',\n",
              " 3539: 'raped',\n",
              " 8928: 'rapes',\n",
              " 5926: \"else's\",\n",
              " 7255: 'martian',\n",
              " 9459: 'passenger',\n",
              " 6043: 'disgrace',\n",
              " 5122: 'barrymore',\n",
              " 9882: 'cambodia',\n",
              " 5560: 'palma',\n",
              " 3977: 'explosions',\n",
              " 8061: 'loren',\n",
              " 6706: 'shootout',\n",
              " 3628: 'chain',\n",
              " 2499: 'whoever',\n",
              " 3038: 'chair',\n",
              " 4519: 'ballet',\n",
              " 5625: 'macho',\n",
              " 3398: 'jerk',\n",
              " 7367: 'gloomy',\n",
              " 2896: 'locked',\n",
              " 2590: 'exact',\n",
              " 785: 'minute',\n",
              " 6540: 'celebrated',\n",
              " 3385: 'unintentionally',\n",
              " 9098: 'climbs',\n",
              " 9657: 'honour',\n",
              " 5516: 'address',\n",
              " 9460: 'benson',\n",
              " 3842: 'cusack',\n",
              " 3629: 'opposed',\n",
              " 1044: 'following',\n",
              " 4520: 'convincingly',\n",
              " 4254: 'surfing',\n",
              " 1239: 'jim',\n",
              " 6541: 'quarter',\n",
              " 6262: 'entering',\n",
              " 614: 'seriously',\n",
              " 7819: 'raunchy',\n",
              " 7096: 'grandma',\n",
              " 6110: 'modest',\n",
              " 2849: 'spoken',\n",
              " 3251: 'concert',\n",
              " 8426: 'lingering',\n",
              " 9099: 'snatch',\n",
              " 9262: \"miyazaki's\",\n",
              " 4634: 'wandering',\n",
              " 678: 'turned',\n",
              " 3767: 'turner',\n",
              " 1960: 'opposite',\n",
              " 6088: 'grateful',\n",
              " 5561: 'inconsistent',\n",
              " 3791: 'imagined',\n",
              " 9883: 'enthralled',\n",
              " 8598: 'tsui',\n",
              " 3540: 'menacing',\n",
              " 3659: 'convoluted',\n",
              " 5287: 'millionaire',\n",
              " 1262: 'west',\n",
              " 4203: 'motives',\n",
              " 4452: 'photos',\n",
              " 6111: 'unlikeable',\n",
              " 2130: 'technology',\n",
              " 6987: 'otto',\n",
              " 2008: 'visually',\n",
              " 111: 'being',\n",
              " 9354: 'grounded',\n",
              " 6877: 'excuses',\n",
              " 5288: 'sums',\n",
              " 5846: 'traffic',\n",
              " 8427: 'sensational',\n",
              " 8780: 'satisfactory',\n",
              " 2326: 'substance',\n",
              " 7696: 'thailand',\n",
              " 5676: 'hopkins',\n",
              " 9658: 'sealed',\n",
              " 8062: 'brazilian',\n",
              " 6707: 'bubble',\n",
              " 9263: 'wits',\n",
              " 9659: 'societal',\n",
              " 18: 'with',\n",
              " 5232: 'abused',\n",
              " 3979: 'rage',\n",
              " 5173: 'tripe',\n",
              " 1640: 'dirty',\n",
              " 3630: 'watches',\n",
              " 7578: 'watcher',\n",
              " 9884: 'ensuing',\n",
              " 295: 'watched',\n",
              " 5233: 'cream',\n",
              " 9264: 'waving',\n",
              " 6263: 'natalie',\n",
              " 3350: 'tricks',\n",
              " 2163: 'caused',\n",
              " 5517: 'beware',\n",
              " 2905: 'causes',\n",
              " 8781: 'nora',\n",
              " 5796: 'norm',\n",
              " 9461: 'sans',\n",
              " 6795: 'sang',\n",
              " 6438: 'sand',\n",
              " 7920: 'sane',\n",
              " 9885: 'leia',\n",
              " 2234: 'portrays',\n",
              " 9265: 'traumatized',\n",
              " 52: 'more',\n",
              " 1168: 'company',\n",
              " 849: 'learn',\n",
              " 5289: 'knocked',\n",
              " 665: 'huge',\n",
              " 7921: 'hugo',\n",
              " 3933: 'hugh',\n",
              " 6195: 'scifi',\n",
              " 7579: 'brett',\n",
              " 5123: 'resemble',\n",
              " 2299: 'paper',\n",
              " 1090: 'scott',\n",
              " 7697: 'colleague',\n",
              " 4314: 'gadget',\n",
              " 9462: \"victoria's\",\n",
              " 1620: 'shocking',\n",
              " 7580: 'ernie',\n",
              " 2300: 'research',\n",
              " 5973: '1990s',\n",
              " 5562: 'saint',\n",
              " 9980: \"paul's\",\n",
              " 680: 'word',\n",
              " 4383: 'blond',\n",
              " 5626: 'understands',\n",
              " 9100: 'overwhelmed',\n",
              " 9660: 'indifference',\n",
              " 9661: 'lombard',\n",
              " 8793: 'pleasures',\n",
              " 3434: 'exercise',\n",
              " 2139: 'insane',\n",
              " 9463: 'callahan',\n",
              " 5343: 'objects',\n",
              " 2999: 'retarded',\n",
              " 9266: 'illiterate',\n",
              " 4014: 'bell',\n",
              " 4678: 'bela',\n",
              " 1252: 'adaptation',\n",
              " 6044: 'luis',\n",
              " 5847: 'belt',\n",
              " 2005: 'satire',\n",
              " 8452: 'geoffrey',\n",
              " 2198: 'treatment',\n",
              " 4140: 'awake',\n",
              " 9632: '33',\n",
              " 7368: 'pressed',\n",
              " 1087: '30',\n",
              " 8171: 'tin',\n",
              " 845: 'parents',\n",
              " 377: 'couple',\n",
              " 5677: 'pounds',\n",
              " 4315: 'chorus',\n",
              " 4485: 'behave',\n",
              " 1641: 'mouth',\n",
              " 4846: 'terrorists',\n",
              " 82: 'into',\n",
              " 8366: 'katie',\n",
              " 4015: 'atlantis',\n",
              " 1949: 'singer',\n",
              " 8063: 'atlantic',\n",
              " 8599: 'paired',\n",
              " 9267: \"chan's\",\n",
              " 7369: 'haunt',\n",
              " 9268: 'puzzling',\n",
              " 7922: 'creasy',\n",
              " 5927: 'detectives',\n",
              " 7480: 'turkish',\n",
              " 8930: 'dickinson',\n",
              " 3768: \"show's\",\n",
              " 8600: 'cannibals',\n",
              " 373: 'video',\n",
              " 6890: 'dynamics',\n",
              " 2272: 'victor',\n",
              " 8064: 'flowing',\n",
              " 5096: 'orleans',\n",
              " 165: 'makes',\n",
              " 3010: 'maker',\n",
              " 4453: 'confidence',\n",
              " 211: 'comedy',\n",
              " 1088: 'intelligent',\n",
              " 9430: 'democracy',\n",
              " 2617: 'insight',\n",
              " 5077: \"wife's\",\n",
              " 6276: 'derivative',\n",
              " 4016: 'snake',\n",
              " 3386: 'denzel',\n",
              " 1150: 'books',\n",
              " 8429: 'bigfoot',\n",
              " 2412: 'witness',\n",
              " 757: \"'\",\n",
              " 4635: 'greedy',\n",
              " 5402: 'prepare',\n",
              " 99: 'could',\n",
              " 4847: 'lumet',\n",
              " 4992: 'interests',\n",
              " 9101: 'gays',\n",
              " 2555: 'false',\n",
              " 4486: 'tonight',\n",
              " 6356: 'depict',\n",
              " 2389: 'sinatra',\n",
              " 8292: 'placement',\n",
              " 2213: 'tape',\n",
              " 3052: 'riding',\n",
              " 537: 'stuff',\n",
              " 3098: 'guessing',\n",
              " 2121: 'frame',\n",
              " 4204: 'destiny',\n",
              " 3477: 'nuclear',\n",
              " 6891: 'preminger',\n",
              " 4487: 'staring',\n",
              " 4896: 'marty',\n",
              " 6542: 'boyer',\n",
              " 630: 'english',\n",
              " 8782: 'genetic',\n",
              " 6797: 'hateful',\n",
              " 2797: 'greater',\n",
              " 124: 'off',\n",
              " 4079: 'crack',\n",
              " 412: 'become',\n",
              " 4636: 'recognition',\n",
              " 4848: 'morris',\n",
              " 1796: 'passion',\n",
              " 7264: 'imaginary',\n",
              " 3616: 'union',\n",
              " 4418: 'swimming',\n",
              " 4454: 'letters',\n",
              " 8172: 'pairing',\n",
              " 5037: 'peters',\n",
              " 5563: 'stopping',\n",
              " 8783: 'moonstruck',\n",
              " 6264: 'tossed',\n",
              " 3522: 'evident',\n",
              " 2317: 'excitement',\n",
              " 4941: 'garbo',\n",
              " 438: 'problem',\n",
              " 2934: 'nonetheless',\n",
              " 1372: 'details',\n",
              " 4993: 'exposure',\n",
              " 3832: 'dave',\n",
              " 5848: 'strings',\n",
              " 6112: 'compete',\n",
              " 7581: 'villainous',\n",
              " 7682: 'madsen',\n",
              " 5038: 'integrity',\n",
              " 4384: 'stinks',\n",
              " 4521: 'porno',\n",
              " 289: 'worth',\n",
              " 8065: 'progression',\n",
              " 3631: 'samurai',\n",
              " 3868: 'machines',\n",
              " 4718: 'viewings',\n",
              " 9537: 'equals',\n",
              " 2714: 'achieve',\n",
              " 6046: '1991',\n",
              " 4522: '1990',\n",
              " 5039: '1993',\n",
              " 7370: '1992',\n",
              " 5124: '1995',\n",
              " 6113: '1994',\n",
              " 6283: 'divorced',\n",
              " 4141: '1996',\n",
              " 4205: '1999',\n",
              " 6630: '1998',\n",
              " 998: 'era',\n",
              " 4764: 'nuts',\n",
              " 5403: 'ladder',\n",
              " 7108: 'vera',\n",
              " 7265: 'schneider',\n",
              " 3769: 'davies',\n",
              " 3971: 'innovative',\n",
              " 364: 'production',\n",
              " 4637: 'understated',\n",
              " 3715: 'reasonably',\n",
              " 6708: 'routines',\n",
              " 3792: 'reasonable',\n",
              " 2273: 'daniel',\n",
              " 1729: \"character's\",\n",
              " 3561: 'flawless',\n",
              " 159: 'another',\n",
              " 8784: 'illustrate',\n",
              " 9886: \"o'toole\",\n",
              " 9271: 'seduction',\n",
              " 2514: 'dogs',\n",
              " 2815: 'cabin',\n",
              " 1378: 'historical',\n",
              " 7371: 'enchanted',\n",
              " 7698: 'convenient',\n",
              " 4045: 'subjects',\n",
              " 9465: 'swamp',\n",
              " 2964: 'aunt',\n",
              " 2367: 'haunted',\n",
              " 1128: 'runs',\n",
              " 3387: 'horrendous',\n",
              " 3770: 'draws',\n",
              " 1308: 'drawn',\n",
              " 3266: 'encounters',\n",
              " 3515: 'handful',\n",
              " 3903: 'kitchen',\n",
              " 2026: 'essentially',\n",
              " 8060: 'han',\n",
              " 1162: 'tone',\n",
              " 3267: 'imaginative',\n",
              " 9272: 'condescending',\n",
              " 3399: 'tons',\n",
              " 2556: 'massive',\n",
              " 1222: 'tony',\n",
              " 2387: 'unlikely',\n",
              " 2104: 'brilliantly',\n",
              " 683: 'apparently',\n",
              " 4097: 'survival',\n",
              " 8601: 'fuss',\n",
              " 6631: 'quentin',\n",
              " 4488: 'humble',\n",
              " 1695: 'mid',\n",
              " 1215: 'thanks',\n",
              " 4350: 'similarities',\n",
              " 9466: 'sparse',\n",
              " 313: 'night',\n",
              " 6989: 'jacques',\n",
              " 4816: 'attorney',\n",
              " 7699: 'rendering',\n",
              " 8425: 'czech',\n",
              " 8430: 'captive',\n",
              " 2180: 'test',\n",
              " 8066: 'tess',\n",
              " 689: 'songs',\n",
              " 1119: 'concept',\n",
              " 984: 'battle',\n",
              " 8604: 'hurry',\n",
              " 9273: 'rebecca',\n",
              " 7097: 'cunningham',\n",
              " 504: 'turns',\n",
              " 1055: 'gun',\n",
              " 7266: 'gus',\n",
              " 5564: 'gut',\n",
              " 231: 'guy',\n",
              " 5748: 'rapist',\n",
              " 5518: 'shares',\n",
              " 5344: 'shared',\n",
              " 1868: \"hadn't\",\n",
              " 5290: 'teaches',\n",
              " 1749: 'teacher',\n",
              " 5678: 'sending',\n",
              " 6892: 'franklin',\n",
              " 8431: 'plotted',\n",
              " 3562: 'regardless',\n",
              " 1726: 'extra',\n",
              " 8173: 'woefully',\n",
              " 8174: 'chip',\n",
              " 1502: 'lacks',\n",
              " 3771: 'discussion',\n",
              " 3198: 'kurt',\n",
              " 7923: 'chops',\n",
              " 1223: 'brain',\n",
              " 130: 'still',\n",
              " 2439: 'drop',\n",
              " 5234: 'challenged',\n",
              " 1242: 'yeah',\n",
              " 5458: 'challenges',\n",
              " 290: 'year',\n",
              " 8293: 'gibson',\n",
              " 4591: 'transition',\n",
              " 4916: 'suffice',\n",
              " 8605: 'romania',\n",
              " 8953: 'flipping',\n",
              " 5519: 'tomorrow',\n",
              " 6758: 'seymour',\n",
              " 4080: 'brains',\n",
              " 7098: 'professionals',\n",
              " 9887: 'transferred',\n",
              " 3516: 'importantly',\n",
              " 8432: 'premiered',\n",
              " 9662: 'teamed',\n",
              " 5565: 'burst',\n",
              " 6266: 'colours',\n",
              " 3000: 'madness',\n",
              " 8606: 'foreboding',\n",
              " 5749: 'inexplicable',\n",
              " 6470: 'exploit',\n",
              " 3388: 'charismatic',\n",
              " 8433: 'dictator',\n",
              " 3478: 'elvis',\n",
              " 6357: 'offbeat',\n",
              " 2060: 'develop',\n",
              " 1643: 'food',\n",
              " 340: 'death',\n",
              " 6358: 'earnest',\n",
              " 3199: 'fortune',\n",
              " 1313: 'fully',\n",
              " 6893: 'verbal',\n",
              " 3772: 'exposed',\n",
              " 9888: 'exposes',\n",
              " 4803: 'francis',\n",
              " 217: \"isn't\",\n",
              " 7924: 'pitched',\n",
              " 2280: 'freddy',\n",
              " 6798: 'fools',\n",
              " 337: 'poor',\n",
              " 3072: 'pool',\n",
              " 7183: 'corey',\n",
              " 9468: 'overseas',\n",
              " 669: 'robert',\n",
              " 4352: 'thoughtful',\n",
              " 1735: 'religious',\n",
              " 1196: 'decide',\n",
              " 1994: 'ass',\n",
              " 1985: 'streets',\n",
              " 9469: 'bass',\n",
              " 5849: 'excess',\n",
              " 4592: 'advertising',\n",
              " 9663: 'cathy',\n",
              " 3817: 'heroic',\n",
              " 6440: 'budgets',\n",
              " 7969: 'reject',\n",
              " 9470: 'surpasses',\n",
              " 7099: 'criticize',\n",
              " 6799: 'anytime',\n",
              " 9102: 'roommates',\n",
              " 3818: 'absence',\n",
              " 773: \"haven't\",\n",
              " 4849: 'ninja',\n",
              " 8294: 'bless',\n",
              " 2446: 'fairy',\n",
              " 1184: 'heavy',\n",
              " 9103: 'jolly',\n",
              " 1634: 'lord',\n",
              " 8608: 'earns',\n",
              " 5679: 'hapless',\n",
              " 297: 'american',\n",
              " 5566: 'visions',\n",
              " 2604: 'trapped',\n",
              " 1840: 'toward',\n",
              " 4850: 'randomly',\n",
              " 9471: 'organs',\n",
              " 4897: 'caliber',\n",
              " 5680: 'physics',\n",
              " 7184: 'stalked',\n",
              " 5681: 'phenomenon',\n",
              " 5850: 'stalker',\n",
              " 9104: 'heavens',\n",
              " 9889: 'competing',\n",
              " 9155: 'imitating',\n",
              " 5627: 'fluff',\n",
              " 3400: 'hype',\n",
              " 8434: 'locale',\n",
              " 3212: 'portrait',\n",
              " 5750: 'locals',\n",
              " 6196: 'abruptly',\n",
              " 2755: 'league',\n",
              " 585: \"wouldn't\",\n",
              " 1895: 'empty',\n",
              " 7925: 'juice',\n",
              " 1013: 'match',\n",
              " 2106: 'grant',\n",
              " 8076: 'sensual',\n",
              " 1757: 'grand',\n",
              " 7268: 'composition',\n",
              " 8175: 'classmates',\n",
              " 539: 'obviously',\n",
              " 3934: 'synopsis',\n",
              " 6800: 'reviewed',\n",
              " 2214: 'reviewer',\n",
              " 799: 'showing',\n",
              " 5404: 'sketch',\n",
              " 4046: 'lips',\n",
              " 948: 'towards',\n",
              " 3541: 'silence',\n",
              " 5405: 'alison',\n",
              " 9105: 'placing',\n",
              " 7842: 'ideals',\n",
              " 728: 'similar',\n",
              " 5174: 'ordered',\n",
              " 3563: 'fears',\n",
              " 2549: 'department',\n",
              " 5851: 'smiles',\n",
              " 1959: 'unfunny',\n",
              " 8233: 'riders',\n",
              " 978: 'telling',\n",
              " 9890: 'yourselves',\n",
              " 9106: 'watered',\n",
              " 1782: 'jump',\n",
              " 8785: 'notwithstanding',\n",
              " 1361: 'vampire',\n",
              " 2783: 'lugosi',\n",
              " 2594: 'clark',\n",
              " 1920: 'manage',\n",
              " 6543: 'clara',\n",
              " 369: 'camera',\n",
              " 8295: 'boards',\n",
              " 8067: 'meek',\n",
              " 6359: 'servants',\n",
              " 908: 'meet',\n",
              " 3660: 'pulling',\n",
              " 6441: 'sought',\n",
              " 4419: 'orson',\n",
              " 9472: 'rohmer',\n",
              " 9891: 'sentiments',\n",
              " 6267: 'ronald',\n",
              " 6442: 'scoop',\n",
              " 7481: 'favourites',\n",
              " 9664: \"its'\",\n",
              " 3435: 'university',\n",
              " 6443: 'slide',\n",
              " 317: 'special',\n",
              " 6444: 'butch',\n",
              " 6632: 'obsessive',\n",
              " 8068: 'darkly',\n",
              " 6360: 'jill',\n",
              " 210: 'times',\n",
              " 8176: 'timed',\n",
              " 5459: 'bitch',\n",
              " 4560: 'wrapped',\n",
              " 7700: 'hines',\n",
              " 8435: 'bastard',\n",
              " 3352: 'battles',\n",
              " 3024: 'mansion',\n",
              " 2447: 'repeated',\n",
              " 8436: 'manga',\n",
              " 9665: 'unfinished',\n",
              " 2248: 'sheriff',\n",
              " 9163: 'hector',\n",
              " 1198: 'won',\n",
              " 3200: 'cameos',\n",
              " 9274: 'inherited',\n",
              " 671: 'episodes',\n",
              " 3661: 'ken',\n",
              " 4561: 'kicking',\n",
              " 1316: 'key',\n",
              " 4316: 'limits',\n",
              " 7701: 'cena',\n",
              " 8296: 'troopers',\n",
              " 5406: 'controlled',\n",
              " 2557: 'surface',\n",
              " 8931: 'examined',\n",
              " 5751: 'http',\n",
              " 7926: 'riff',\n",
              " 9473: 'montages',\n",
              " 3436: 'increasingly',\n",
              " 3608: 'distant',\n",
              " 9834: 'gamut',\n",
              " 8069: 'disappearance',\n",
              " 5628: 'demonstrates',\n",
              " 8932: 'cradle',\n",
              " 6709: 'demonstrated',\n",
              " 6197: 'limitations',\n",
              " 7618: 'unhinged',\n",
              " 6445: 'nightclub',\n",
              " 1148: 'pointless',\n",
              " 5460: 'additional',\n",
              " 3234: 'gain',\n",
              " 4081: 'highest',\n",
              " 9892: 'kisses',\n",
              " 3935: 'beats',\n",
              " 4420: 'education',\n",
              " 8929: 'disasters',\n",
              " 7185: 'foil',\n",
              " 3201: 'consists',\n",
              " 805: 'sorry',\n",
              " 6990: 'void',\n",
              " 2569: 'suspenseful',\n",
              " 6991: 'herbert',\n",
              " 5683: 'unrelated',\n",
              " 6801: 'enhance',\n",
              " 7372: 'iturbi',\n",
              " 7100: 'kidnap',\n",
              " 7927: 'blandings',\n",
              " 5798: 'meg',\n",
              " 3773: 'mel',\n",
              " 348: 'men',\n",
              " 3716: 'mitchell',\n",
              " 7269: 'robertson',\n",
              " 4455: 'berlin',\n",
              " 7732: 'shahid',\n",
              " 672: 'room',\n",
              " 5369: 'roof',\n",
              " 101: 'movies',\n",
              " 5629: 'exceptions',\n",
              " 3662: 'root',\n",
              " 7802: 'titular',\n",
              " 2235: 'gordon',\n",
              " 3838: 'vicious',\n",
              " 839: 'third',\n",
              " 9107: 'fable',\n",
              " 8177: 'budding',\n",
              " 964: 'personal',\n",
              " 1050: 'crew',\n",
              " 6300: 'anil',\n",
              " 2220: 'combination',\n",
              " 30: 'one',\n",
              " 2737: 'forgot',\n",
              " 4421: 'aids',\n",
              " 1289: 'comedies',\n",
              " 7702: 'mandy',\n",
              " 1076: 'uses',\n",
              " 9666: 'floors',\n",
              " 9667: 'downside',\n",
              " 8178: 'gandolfini',\n",
              " 777: 'begins',\n",
              " 4385: 'mario',\n",
              " 2906: 'maria',\n",
              " 9108: 'zealand',\n",
              " 4048: 'mildred',\n",
              " 7703: 'testing',\n",
              " 6992: 'narrated',\n",
              " 5522: 'guaranteed',\n",
              " 4358: 'represented',\n",
              " 5799: 'quinn',\n",
              " 6268: 'mathieu',\n",
              " 1642: 'asks',\n",
              " 5977: 'entered',\n",
              " 1333: 'lovely',\n",
              " 1978: 'locations',\n",
              " 6993: 'lionel',\n",
              " 1557: 'ugly',\n",
              " 2487: 'cant',\n",
              " 4353: 'realizing',\n",
              " 9475: 'ella',\n",
              " 5871: 'programs',\n",
              " 3717: 'failing',\n",
              " 8297: 'reese',\n",
              " 6446: 'yours',\n",
              " 4942: 'assigned',\n",
              " 8437: 'fighters',\n",
              " 8298: 'goodman',\n",
              " 3288: 'stunts',\n",
              " 2515: 'nude',\n",
              " 2642: 'dean',\n",
              " 854: 'deal',\n",
              " 5079: 'deaf',\n",
              " 3213: 'dear',\n",
              " 2281: 'shakespeare',\n",
              " 5126: 'confrontation',\n",
              " 2654: 'afternoon',\n",
              " 5346: 'automatically',\n",
              " 179: 'down',\n",
              " 2558: 'narration',\n",
              " 3793: 'editor',\n",
              " 3564: 'creation',\n",
              " 1353: 'batman',\n",
              " 5127: 'landing',\n",
              " 6894: 'feminine',\n",
              " 5235: 'awhile',\n",
              " 1447: 'happening',\n",
              " 3904: 'pseudo',\n",
              " 4638: 'restored',\n",
              " 335: 'father',\n",
              " 9894: 'turgid',\n",
              " 3542: 'talked',\n",
              " 6994: 'targets',\n",
              " 1780: 'suspect',\n",
              " 952: 'box',\n",
              " 429: 'boy',\n",
              " 9476: 'maguire',\n",
              " 5630: 'bow',\n",
              " 8609: 'bon',\n",
              " 7803: 'boo',\n",
              " 2045: 'bob',\n",
              " 1666: 'teenage',\n",
              " 8299: 'transplant',\n",
              " 3464: 'drags',\n",
              " 2800: 'dennis',\n",
              " 4489: 'snl',\n",
              " 6447: 'blooded',\n",
              " 567: 'police',\n",
              " 6895: 'policy',\n",
              " 9668: 'tucker',\n",
              " 6802: 'lunch',\n",
              " 8786: 'elephants',\n",
              " 7482: 'ajay',\n",
              " 3333: 'stanwyck',\n",
              " 9109: 'carnival',\n",
              " 4851: 'frequent',\n",
              " 85: 'first',\n",
              " 8933: 'fleeing',\n",
              " 1385: 'speaking',\n",
              " 1841: 'kevin',\n",
              " 4639: 'complexity',\n",
              " 2413: 'shocked',\n",
              " 8300: 'shocker',\n",
              " 6304: '200',\n",
              " 6544: 'arguing',\n",
              " 5567: 'angst',\n",
              " 4354: 'harvey',\n",
              " 1765: 'russian',\n",
              " 2527: 'treasure',\n",
              " 4994: 'travesty',\n",
              " 4804: 'enthusiasm',\n",
              " 78: 'get',\n",
              " 9110: 'gee',\n",
              " 8610: 'gen',\n",
              " 1527: 'gem',\n",
              " 1315: 'london',\n",
              " 2223: 'seat',\n",
              " 9895: 'declares',\n",
              " 9275: 'seal',\n",
              " 593: 'wonder',\n",
              " 2348: 'satisfying',\n",
              " 6048: 'label',\n",
              " 7483: 'boundaries',\n",
              " 637: 'across',\n",
              " 6995: 'august',\n",
              " 1068: 'considering',\n",
              " 2249: 'capable',\n",
              " 431: 'sort',\n",
              " 3289: 'wake',\n",
              " 4207: 'hardcore',\n",
              " 2427: 'promising',\n",
              " 7284: 'rupert',\n",
              " 7804: \"o'brien\",\n",
              " 3843: 'extended',\n",
              " 9365: 'concentrates',\n",
              " 7484: 'northam',\n",
              " 9276: 'consisted',\n",
              " 6896: 'flavor',\n",
              " 5752: 'clueless',\n",
              " 4600: 'adams',\n",
              " 4386: 'passionate',\n",
              " 256: 'each',\n",
              " 5978: 'demonic',\n",
              " 7135: 'distracted',\n",
              " 6710: 'spice',\n",
              " 1855: 'vhs',\n",
              " 8301: 'examine',\n",
              " 6448: \"she'd\",\n",
              " 1399: 'hey',\n",
              " 441: \"she's\",\n",
              " 1205: 'u',\n",
              " 7704: 'motel',\n",
              " 7186: 'plodding',\n",
              " 1137: 'former',\n",
              " 9669: 'paperhouse',\n",
              " 7582: 'strung',\n",
              " 1455: 'zero',\n",
              " 3993: 'newspaper',\n",
              " 990: 'masterpiece',\n",
              " 4898: 'mentions',\n",
              " 2414: 'africa',\n",
              " 5236: 'tacky',\n",
              " 3952: 'engaged',\n",
              " 4208: 'mill',\n",
              " 533: 'hour',\n",
              " 2282: 'recall',\n",
              " 1869: 'sucks',\n",
              " 2415: 'remain',\n",
              " 9277: 'stubborn',\n",
              " 2107: 'ford',\n",
              " 8070: 'colman',\n",
              " 5040: 'biography',\n",
              " 6070: 'homicide',\n",
              " 737: 'needs',\n",
              " 1420: 'acts',\n",
              " 9787: 'sacred',\n",
              " 5684: 'kitty',\n",
              " 8438: 'sophistication',\n",
              " 4142: 'brady',\n",
              " 2784: 'dragon',\n",
              " 5347: 'heartfelt',\n",
              " 6449: 'appeals',\n",
              " 1716: 'comedic',\n",
              " 9670: 'compound',\n",
              " 796: 'viewers',\n",
              " 735: 'mystery',\n",
              " 5685: 'repeating',\n",
              " 9477: 'rhys',\n",
              " 1727: 'engaging',\n",
              " 9998: 'edged',\n",
              " 4049: 'perry',\n",
              " 3663: \"they'll\",\n",
              " 2801: 'extraordinary',\n",
              " 6711: 'backed',\n",
              " 349: 'top',\n",
              " 6996: 'razor',\n",
              " 9897: 'mercilessly',\n",
              " 5852: 'ton',\n",
              " 826: 'tom',\n",
              " 8439: 'lifts',\n",
              " 3517: 'godfather',\n",
              " 9671: 'eggs',\n",
              " 1381: 'charm',\n",
              " 7271: 'services',\n",
              " 7583: 'rebels',\n",
              " 8302: 'chock',\n",
              " 6450: 'ebert',\n",
              " 862: 'premise',\n",
              " 2188: 'foreign',\n",
              " 212: 'point',\n",
              " 3268: 'expensive',\n",
              " 7929: 'screened',\n",
              " 8021: 'variation',\n",
              " 5853: 'politician',\n",
              " 5632: 'widescreen',\n",
              " 1116: 'century',\n",
              " 7930: 'tashan',\n",
              " 8911: '1965',\n",
              " 7169: '1967',\n",
              " 3295: 'knock',\n",
              " 6392: 'foolish',\n",
              " 7584: 'candle',\n",
              " 150: 'though',\n",
              " 8802: 'manipulate',\n",
              " 4594: 'abusive',\n",
              " 9672: 'underused',\n",
              " 2692: 'murphy',\n",
              " 9479: 'stripped',\n",
              " 8303: 'scarlet',\n",
              " 4317: 'cure',\n",
              " 8787: 'stripper',\n",
              " 1253: 'utterly',\n",
              " 6269: 'implied',\n",
              " 2264: 'portraying',\n",
              " 5291: 'literary',\n",
              " 5753: 'pleasing',\n",
              " 435: 'entire',\n",
              " 6997: 'rivers',\n",
              " 1921: 'fat',\n",
              " 9111: 'archer',\n",
              " 8934: 'healing',\n",
              " 3953: 'escaped',\n",
              " 2721: 'closing',\n",
              " 9278: 'didnt',\n",
              " 2385: 'continuity',\n",
              " 7187: 'varied',\n",
              " 1776: 'holds',\n",
              " 4983: 'suspend',\n",
              " 7485: 'profile',\n",
              " 105: 'watch',\n",
              " 9368: 'incompetence',\n",
              " 3186: 'chasing',\n",
              " 7705: 'subsequently',\n",
              " 8788: 'grendel',\n",
              " 5080: 'grayson',\n",
              " 4143: 'blatant',\n",
              " 4763: 'lively',\n",
              " 860: 'sexual',\n",
              " 5041: 'yard',\n",
              " 8440: 'yarn',\n",
              " 4230: 'reaches',\n",
              " 3819: 'reached',\n",
              " 8441: 'spelling',\n",
              " 7188: 'sweden',\n",
              " 27: 'have',\n",
              " 4765: 'prisoner',\n",
              " 3496: 'disease',\n",
              " 4082: 'occasion',\n",
              " 3419: 'hamlet',\n",
              " 1856: 'knowledge',\n",
              " 3202: 'perfection',\n",
              " 6270: 'teams',\n",
              " 4900: 'showdown',\n",
              " 6361: 'bruno',\n",
              " 9673: 'incarnation',\n",
              " 3870: 'antics',\n",
              " 7486: 'russ',\n",
              " 974: 'joke',\n",
              " 3214: 'equal',\n",
              " 7706: 'fassbinder',\n",
              " 44: \"it's\",\n",
              " 9898: \"it'd\",\n",
              " 9112: 'locales',\n",
              " 7931: 'meredith',\n",
              " 5128: 'frustrating',\n",
              " 2591: 'powell',\n",
              " 9899: 'exceedingly',\n",
              " 5686: 'stores',\n",
              " 5177: 'griffith',\n",
              " 6271: 'resolved',\n",
              " 7932: 'doyle',\n",
              " 39: 'like',\n",
              " 5754: 'vibrant',\n",
              " 6998: 'admitted',\n",
              " 2283: 'chick',\n",
              " 1152: 'hair',\n",
              " 5491: 'recommendation',\n",
              " 7272: 'hysterically',\n",
              " 9279: 'lieutenant',\n",
              " 8442: 'uptight',\n",
              " 4318: 'introduces',\n",
              " 3311: 'rushed',\n",
              " 9480: 'rushes',\n",
              " 7422: \"'80s\",\n",
              " 6803: 'coke',\n",
              " 7807: 'flip',\n",
              " 9113: 'thorn',\n",
              " 5600: 'circus',\n",
              " 1809: 'dressed',\n",
              " 1588: 'detail',\n",
              " 5349: 'dresses',\n",
              " 5568: \"daughter's\",\n",
              " 9900: \"ted's\",\n",
              " 6451: 'harriet',\n",
              " 1503: 'direct',\n",
              " 4422: 'nail',\n",
              " 823: 'doubt',\n",
              " 6545: 'selected',\n",
              " 3053: 'revolves',\n",
              " 8179: 'revolver',\n",
              " 8180: 'liberty',\n",
              " 888: 'leaves',\n",
              " 320: 'excellent',\n",
              " 7808: 'salvage',\n",
              " 3518: 'estate',\n",
              " 5687: 'attract',\n",
              " 8470: 'ceremony',\n",
              " 5854: 'keen',\n",
              " 8444: 'drummer',\n",
              " 2785: 'description',\n",
              " 9901: 'insecure',\n",
              " 4679: 'parallel',\n",
              " 8445: 'amid',\n",
              " 6804: 'upside',\n",
              " 2879: 'succeeds',\n",
              " 7189: 'detroit',\n",
              " 4699: 'newly',\n",
              " 5755: 'independence',\n",
              " 8181: 'associate',\n",
              " 503: 'days',\n",
              " ...}"
            ]
          },
          "metadata": {},
          "execution_count": 21
        }
      ]
    },
    {
      "cell_type": "markdown",
      "metadata": {
        "id": "p7aGrCU1HTN0"
      },
      "source": [
        "\n",
        "**Step 3: Visualize sample review**\n",
        "\n",
        "View a sample review text using the lines of code below:"
      ]
    },
    {
      "cell_type": "code",
      "metadata": {
        "colab": {
          "base_uri": "https://localhost:8080/"
        },
        "id": "TgRbMGG3G8jb",
        "outputId": "81e01f38-a49c-4713-b9e4-d7ebefb98277"
      },
      "source": [
        "print(' '.join(idx2word[idx] for idx in train_data[0]))"
      ],
      "execution_count": null,
      "outputs": [
        {
          "output_type": "stream",
          "name": "stdout",
          "text": [
            "<START> this film was just brilliant casting location scenery story direction everyone's really suited the part they played and you could just imagine being there robert <UNK> is an amazing actor and now the same being director <UNK> father came from the same scottish island as myself so i loved the fact there was a real connection with this film the witty remarks throughout the film were great it was just brilliant so much that i bought the film as soon as it was released for <UNK> and would recommend it to everyone to watch and the fly fishing was amazing really cried at the end it was so sad and you know what they say if you cry at a film it must have been good and this definitely was also <UNK> to the two little boy's that played the <UNK> of norman and paul they were just brilliant children are often left out of the <UNK> list i think because the stars that play them all grown up are such a big profile for the whole film but these children are amazing and should be praised for what they have done don't you think the whole story was so lovely because it was true and was someone's life after all that was shared with us all\n"
          ]
        }
      ]
    },
    {
      "cell_type": "markdown",
      "metadata": {
        "id": "TFs4QSdFJrWL"
      },
      "source": [
        "###**8. Visualizing the Word_Embeddings**\n",
        "\n",
        "Visualize the word embeddings for 10 of the words using pandas DataFrame like we did in lab 3"
      ]
    },
    {
      "cell_type": "code",
      "metadata": {
        "colab": {
          "base_uri": "https://localhost:8080/"
        },
        "id": "2IBvttx-J9re",
        "outputId": "3c8e3477-9a06-4416-b4e7-b5eadb397e13"
      },
      "source": [
        "# YOUR CODE GOES HERE\n",
        "from pandas import DataFrame\n",
        "\n",
        "print(DataFrame(word_embeddings, index=idx2word.values()).head(10))"
      ],
      "execution_count": null,
      "outputs": [
        {
          "output_type": "stream",
          "name": "stdout",
          "text": [
            "                 0         1         2         3         4         5   \\\n",
            "woods     -0.012299 -0.013127  0.013058  0.023481 -0.008153  0.014934   \n",
            "hanging   -0.023498  0.022725  0.024090  0.012466  0.013393  0.020466   \n",
            "woody     -0.014919 -0.005693 -0.000013  0.005934  0.017326  0.003565   \n",
            "arranged  -0.021514  0.024683 -0.021233 -0.026707  0.014201 -0.009639   \n",
            "bringing  -0.020868 -0.003114  0.014555 -0.004266 -0.016562 -0.000792   \n",
            "wooden     0.021337  0.007044 -0.015054 -0.016900  0.005097  0.022393   \n",
            "errors    -0.001106 -0.021337  0.012621 -0.020227  0.001814  0.020656   \n",
            "dialogs   -0.014772  0.012164  0.022216  0.015329 -0.015301 -0.012940   \n",
            "kids       0.002337  0.021296  0.011444 -0.031177  0.001404  0.020915   \n",
            "uplifting  0.018451  0.022746 -0.010189  0.011272  0.021757 -0.010721   \n",
            "\n",
            "                 6         7         8         9   ...        90        91  \\\n",
            "woods     -0.018859 -0.016726  0.015144 -0.005391  ... -0.020628  0.004200   \n",
            "hanging   -0.009895 -0.009836 -0.003413 -0.015750  ...  0.015608 -0.015321   \n",
            "woody      0.011542  0.008781  0.020187  0.000061  ...  0.007911 -0.021917   \n",
            "arranged  -0.000795 -0.016715  0.010965 -0.002667  ... -0.005764 -0.010963   \n",
            "bringing  -0.010137 -0.018715  0.012002 -0.004923  ... -0.009031  0.017083   \n",
            "wooden    -0.001712 -0.002629  0.015615  0.018159  ... -0.021409  0.013026   \n",
            "errors    -0.010006 -0.002705 -0.024462  0.016105  ...  0.006771 -0.003239   \n",
            "dialogs    0.009327  0.015890 -0.000960  0.027984  ... -0.012113  0.002055   \n",
            "kids       0.015630 -0.016561  0.006999  0.009669  ... -0.006781  0.000946   \n",
            "uplifting  0.012419  0.031226  0.009625  0.014407  ... -0.009848  0.002057   \n",
            "\n",
            "                 92        93        94        95        96        97  \\\n",
            "woods      0.020469  0.015481  0.014844 -0.010248  0.011000 -0.012848   \n",
            "hanging   -0.015005  0.022133 -0.006429  0.013825 -0.006735 -0.018390   \n",
            "woody      0.010548  0.005461  0.021918  0.023850  0.003901  0.019191   \n",
            "arranged   0.027966 -0.017496 -0.009724  0.012294  0.007762  0.002865   \n",
            "bringing   0.024468 -0.015294  0.021234 -0.013481  0.003972  0.024635   \n",
            "wooden     0.004895 -0.023098  0.023925 -0.010685 -0.020168  0.019385   \n",
            "errors    -0.003741 -0.014154 -0.002378  0.011802  0.013454 -0.026495   \n",
            "dialogs    0.003573 -0.010577 -0.022937  0.005087 -0.013581 -0.010611   \n",
            "kids      -0.022730  0.004925  0.021706  0.013521 -0.011682 -0.009446   \n",
            "uplifting -0.009668  0.011899  0.021627  0.013768  0.002442  0.013965   \n",
            "\n",
            "                 98        99  \n",
            "woods      0.017872 -0.000496  \n",
            "hanging   -0.011699  0.024204  \n",
            "woody      0.004561  0.010930  \n",
            "arranged  -0.006327 -0.008784  \n",
            "bringing   0.004111  0.029667  \n",
            "wooden     0.014733 -0.007771  \n",
            "errors     0.008894 -0.005111  \n",
            "dialogs    0.003847  0.000378  \n",
            "kids       0.019470 -0.015736  \n",
            "uplifting -0.017073 -0.010695  \n",
            "\n",
            "[10 rows x 100 columns]\n"
          ]
        }
      ]
    },
    {
      "cell_type": "markdown",
      "source": [
        "#### Visualising the word embedding for the first 10 words"
      ],
      "metadata": {
        "id": "MK6_gY1GQqC_"
      }
    },
    {
      "cell_type": "code",
      "source": [
        "import matplotlib.pyplot as plt\n",
        "fig, ax = plt.subplots(figsize=(18, 12))\n",
        "ax.imshow(word_embeddings[:10], cmap='hot', interpolation='nearest', aspect='auto')\n",
        "plt.show()"
      ],
      "metadata": {
        "colab": {
          "base_uri": "https://localhost:8080/",
          "height": 690
        },
        "id": "K4jwSligQYH5",
        "outputId": "8aaeb586-9c11-4ec9-994d-4d75d88bf976"
      },
      "execution_count": null,
      "outputs": [
        {
          "output_type": "display_data",
          "data": {
            "text/plain": [
              "<Figure size 1296x864 with 1 Axes>"
            ],
            "image/png": "[encoded data removed]"
          },
          "metadata": {
            "needs_background": "light"
          }
        }
      ]
    },
    {
      "cell_type": "markdown",
      "metadata": {
        "id": "k0fyfgvB90G5"
      },
      "source": [
        "###**9. Plot your Word Embeddings using t-SNE**\n"
      ]
    },
    {
      "cell_type": "code",
      "metadata": {
        "colab": {
          "base_uri": "https://localhost:8080/",
          "height": 571
        },
        "id": "JRPHIYEgGXRh",
        "outputId": "6bc5a866-59a3-4308-9cbb-fadf348c0be3"
      },
      "source": [
        "from sklearn.manifold import TSNE\n",
        "import matplotlib.pyplot as plt\n",
        "import numpy as np\n",
        "\n",
        "tsne = TSNE(perplexity=3, n_components=2, init='pca', n_iter=5000, method='exact')\n",
        "np.set_printoptions(suppress=True)\n",
        "plot_only = 50\n",
        "\n",
        "# don't plot the special tokens\n",
        "start = 3\n",
        "T = tsne.fit_transform(word_embeddings[start:plot_only, :])\n",
        "labels = [idx2word[i] for i in range(start, plot_only)]\n",
        "plt.figure(figsize=(14, 8))\n",
        "plt.scatter(T[:, 0], T[:, 1])\n",
        "for label, x, y in zip(labels, T[:, 0], T[:, 1]):\n",
        "    plt.annotate(label, xy=(x+1, y+1), xytext=(0, 0), textcoords='offset points', ha='right', va='bottom')                      \t                        \n"
      ],
      "execution_count": null,
      "outputs": [
        {
          "output_type": "stream",
          "name": "stderr",
          "text": [
            "/usr/local/lib/python3.7/dist-packages/sklearn/manifold/_t_sne.py:793: FutureWarning: The default learning rate in TSNE will change from 200.0 to 'auto' in 1.2.\n",
            "  FutureWarning,\n",
            "/usr/local/lib/python3.7/dist-packages/sklearn/manifold/_t_sne.py:986: FutureWarning: The PCA initialization in TSNE will change to have the standard deviation of PC1 equal to 1e-4 in 1.2. This will ensure better convergence.\n",
            "  FutureWarning,\n"
          ]
        },
        {
          "output_type": "display_data",
          "data": {
            "text/plain": [
              "<Figure size 1008x576 with 1 Axes>"
            ],
            "image/png": "[encoded data removed]"
          },
          "metadata": {
            "needs_background": "light"
          }
        }
      ]
    },
    {
      "cell_type": "markdown",
      "metadata": {
        "id": "sHdy4PDVO8TN"
      },
      "source": [
        "###**10. Questions**\n",
        "\n",
        "1. Create a new model that is a copy of the model step 3. To this new model,add two dropout layers, one between the embedding layer and the LSTM layer and another between the LSTM layer and the output layer. Repeat steps 4 and 5 for this model. What do you observe?\n",
        "\n",
        "2. Experiment with training the model with batch sizes of 1, 32, len(training_data). What do you observe?\n",
        "\n",
        "3. (optional) Can you retrain with a Bidirectional LSTM instead of an LSTM? What do you observe about the Bi-LSTM model?\n"
      ]
    },
    {
      "cell_type": "markdown",
      "source": [
        "## 1. NEW MODEL with dropouts"
      ],
      "metadata": {
        "id": "BcIxff0AJwhW"
      }
    },
    {
      "cell_type": "markdown",
      "source": [
        "\n",
        "The Dropout layer randomly sets input units to 0 with a frequency of rate at each step during training time, which helps prevent overfitting. Inputs not set to 0 are scaled up by 1/(1 - rate) such that the sum over all inputs is unchanged."
      ],
      "metadata": {
        "id": "mubtNRYBXA4Y"
      }
    },
    {
      "cell_type": "code",
      "metadata": {
        "id": "dxvb_lmHZ0Qm"
      },
      "source": [
        "from keras.layers import Input, Embedding, Dense, LSTM, Dropout\n",
        "from keras.models import Model\n",
        "\n",
        "EMBED_SIZE = 100\n",
        "# YOUR CODE GOES HERE\n",
        "\n",
        "input_1 = Input(shape=(500,), dtype='int32')\n",
        "embedding_1 = Embedding( input_length=500, input_dim=VOCAB_SIZE, output_dim=EMBED_SIZE, name='embed_layer',\n",
        "                        embeddings_initializer='glorot_uniform', mask_zero=True)(input_1)\n",
        "dropout_1 = Dropout(rate=0.2)(embedding_1)\n",
        "lstm_1 = LSTM(100)(dropout_1)\n",
        "dropout_2 = Dropout(rate=0.2)(lstm_1)\n",
        "dense_1 = Dense(1, activation='sigmoid')(dropout_2)\n",
        "\n",
        "model_2 = Model(inputs=[input_1], outputs=[dense_1])\n",
        "\n",
        "model_2.compile(loss = 'binary_crossentropy',  optimizer = 'adam', metrics=['accuracy'])\n"
      ],
      "execution_count": null,
      "outputs": []
    },
    {
      "cell_type": "code",
      "source": [
        "model_2.summary()"
      ],
      "metadata": {
        "colab": {
          "base_uri": "https://localhost:8080/"
        },
        "id": "7UZBNDg6IkHf",
        "outputId": "67cbd63b-b8ef-47d8-a9fd-58b09fd20224"
      },
      "execution_count": null,
      "outputs": [
        {
          "output_type": "stream",
          "name": "stdout",
          "text": [
            "Model: \"model_6\"\n",
            "_________________________________________________________________\n",
            " Layer (type)                Output Shape              Param #   \n",
            "=================================================================\n",
            " input_8 (InputLayer)        [(None, 500)]             0         \n",
            "                                                                 \n",
            " embed_layer (Embedding)     (None, 500, 100)          1000000   \n",
            "                                                                 \n",
            " dropout_6 (Dropout)         (None, 500, 100)          0         \n",
            "                                                                 \n",
            " lstm_6 (LSTM)               (None, 100)               80400     \n",
            "                                                                 \n",
            " dropout_7 (Dropout)         (None, 100)               0         \n",
            "                                                                 \n",
            " dense_6 (Dense)             (None, 1)                 101       \n",
            "                                                                 \n",
            "=================================================================\n",
            "Total params: 1,080,501\n",
            "Trainable params: 1,080,501\n",
            "Non-trainable params: 0\n",
            "_________________________________________________________________\n"
          ]
        }
      ]
    },
    {
      "cell_type": "code",
      "source": [
        "history = model_2.fit(train_x, train_y, epochs=6, batch_size=1000, validation_data=(validation_x, validation_y))"
      ],
      "metadata": {
        "colab": {
          "base_uri": "https://localhost:8080/"
        },
        "id": "O7tPNkBkb3O7",
        "outputId": "455188f6-ea43-46e7-f409-265ffaa61acd"
      },
      "execution_count": null,
      "outputs": [
        {
          "output_type": "stream",
          "name": "stdout",
          "text": [
            "Epoch 1/6\n",
            "23/23 [==============================] - 17s 639ms/step - loss: 0.6554 - accuracy: 0.6220 - val_loss: 0.5466 - val_accuracy: 0.7740\n",
            "Epoch 2/6\n",
            "23/23 [==============================] - 13s 579ms/step - loss: 0.4280 - accuracy: 0.8334 - val_loss: 0.3437 - val_accuracy: 0.8720\n",
            "Epoch 3/6\n",
            "23/23 [==============================] - 13s 558ms/step - loss: 0.2738 - accuracy: 0.8973 - val_loss: 0.3054 - val_accuracy: 0.8745\n",
            "Epoch 4/6\n",
            "23/23 [==============================] - 13s 552ms/step - loss: 0.2000 - accuracy: 0.9280 - val_loss: 0.3001 - val_accuracy: 0.8845\n",
            "Epoch 5/6\n",
            "23/23 [==============================] - 13s 555ms/step - loss: 0.1579 - accuracy: 0.9475 - val_loss: 0.2933 - val_accuracy: 0.8850\n",
            "Epoch 6/6\n",
            "23/23 [==============================] - 13s 556ms/step - loss: 0.1299 - accuracy: 0.9592 - val_loss: 0.3048 - val_accuracy: 0.8855\n"
          ]
        }
      ]
    },
    {
      "cell_type": "code",
      "source": [
        "plot_history(history.history, path=\"standard.png\")\n",
        "plt.show()"
      ],
      "metadata": {
        "colab": {
          "base_uri": "https://localhost:8080/",
          "height": 385
        },
        "id": "kqnnjzJ-b3B4",
        "outputId": "07e41ff2-20b5-4e5a-8498-31299ea6024f"
      },
      "execution_count": null,
      "outputs": [
        {
          "output_type": "display_data",
          "data": {
            "text/plain": [
              "<Figure size 720x360 with 2 Axes>"
            ],
            "image/png": "[encoded data removed]"
          },
          "metadata": {
            "needs_background": "light"
          }
        }
      ]
    },
    {
      "cell_type": "code",
      "source": [
        "# YOUR CODE TO EVALUATE THE MODEL ON TEST DATA GOES HERE\n",
        "results = model_2.evaluate(padded_test_data, test_labels, batch_size=1000)\n",
        "\n",
        "print('test_loss:', results[0], 'test_accuracy:', results[1])"
      ],
      "metadata": {
        "colab": {
          "base_uri": "https://localhost:8080/"
        },
        "id": "-gQy_YJVb2qx",
        "outputId": "f13a1a31-6052-4031-dfca-3e502b0deee9"
      },
      "execution_count": null,
      "outputs": [
        {
          "output_type": "stream",
          "name": "stdout",
          "text": [
            "25/25 [==============================] - 3s 98ms/step - loss: 0.3411 - accuracy: 0.8708\n",
            "test_loss: 0.3411269783973694 test_accuracy: 0.8708000183105469\n"
          ]
        }
      ]
    },
    {
      "cell_type": "markdown",
      "source": [
        "#### Adding early stopping"
      ],
      "metadata": {
        "id": "jfNIOZwiSWLl"
      }
    },
    {
      "cell_type": "code",
      "source": [
        "callback = EarlyStopping(monitor='val_loss', patience=1, mode='min', verbose=1, min_delta=0.01)"
      ],
      "metadata": {
        "id": "R-ylg-3SSZ10"
      },
      "execution_count": null,
      "outputs": []
    },
    {
      "cell_type": "code",
      "source": [
        "history = model_2.fit(train_x, train_y, epochs=6, batch_size=1000, validation_data=(validation_x, validation_y), callbacks = [callback])"
      ],
      "metadata": {
        "colab": {
          "base_uri": "https://localhost:8080/"
        },
        "id": "V058g5eaIslb",
        "outputId": "cf24aa89-bfaf-4ebe-d462-d3593ccadd7d"
      },
      "execution_count": null,
      "outputs": [
        {
          "output_type": "stream",
          "name": "stdout",
          "text": [
            "Epoch 1/6\n",
            "23/23 [==============================] - 17s 585ms/step - loss: 0.6271 - accuracy: 0.6621 - val_loss: 0.4690 - val_accuracy: 0.8210\n",
            "Epoch 2/6\n",
            "23/23 [==============================] - 13s 548ms/step - loss: 0.3601 - accuracy: 0.8608 - val_loss: 0.3034 - val_accuracy: 0.8735\n",
            "Epoch 3/6\n",
            "23/23 [==============================] - 13s 548ms/step - loss: 0.2411 - accuracy: 0.9110 - val_loss: 0.3056 - val_accuracy: 0.8860\n",
            "Epoch 3: early stopping\n"
          ]
        }
      ]
    },
    {
      "cell_type": "code",
      "source": [
        "plot_history(history.history, path=\"standard.png\")\n",
        "plt.show()"
      ],
      "metadata": {
        "colab": {
          "base_uri": "https://localhost:8080/",
          "height": 385
        },
        "id": "O80IHKo9JKtS",
        "outputId": "90b5de25-0559-429d-c49f-cbd8f61c9f44"
      },
      "execution_count": null,
      "outputs": [
        {
          "output_type": "display_data",
          "data": {
            "text/plain": [
              "<Figure size 720x360 with 2 Axes>"
            ],
            "image/png": "[encoded data removed]"
          },
          "metadata": {
            "needs_background": "light"
          }
        }
      ]
    },
    {
      "cell_type": "code",
      "source": [
        "# YOUR CODE TO EVALUATE THE MODEL ON TEST DATA GOES HERE\n",
        "results = model_2.evaluate(padded_test_data, test_labels, batch_size=1000)\n",
        "\n",
        "print('test_loss:', results[0], 'test_accuracy:', results[1])"
      ],
      "metadata": {
        "colab": {
          "base_uri": "https://localhost:8080/"
        },
        "id": "c_y7ErQfJTOP",
        "outputId": "f762b6de-b9c1-4125-a8fa-bed10ba0853b"
      },
      "execution_count": null,
      "outputs": [
        {
          "output_type": "stream",
          "name": "stdout",
          "text": [
            "25/25 [==============================] - 2s 96ms/step - loss: 0.3338 - accuracy: 0.8697\n",
            "test_loss: 0.3338252007961273 test_accuracy: 0.8697199821472168\n"
          ]
        }
      ]
    },
    {
      "cell_type": "code",
      "source": [
        "word_embeddings = model_2.get_layer('embed_layer').get_weights()[0]\n",
        "\n",
        "from sklearn.manifold import TSNE\n",
        "import matplotlib.pyplot as plt\n",
        "import numpy as np\n",
        "\n",
        "tsne = TSNE(perplexity=3, n_components=2, init='pca', n_iter=5000, method='exact')\n",
        "np.set_printoptions(suppress=True)\n",
        "plot_only = 50\n",
        "\n",
        "# don't plot the special tokens\n",
        "start = 3\n",
        "T = tsne.fit_transform(word_embeddings[start:plot_only, :])\n",
        "labels = [idx2word[i] for i in range(start, plot_only)]\n",
        "plt.figure(figsize=(14, 8))\n",
        "plt.scatter(T[:, 0], T[:, 1])\n",
        "for label, x, y in zip(labels, T[:, 0], T[:, 1]):\n",
        "    plt.annotate(label, xy=(x+1, y+1), xytext=(0, 0), textcoords='offset points', ha='right', va='bottom')                      \t                        \n"
      ],
      "metadata": {
        "colab": {
          "base_uri": "https://localhost:8080/",
          "height": 571
        },
        "id": "C8514LLvV12v",
        "outputId": "e7481b9b-92bf-4218-884a-c8d3ea3cffd8"
      },
      "execution_count": null,
      "outputs": [
        {
          "output_type": "stream",
          "name": "stderr",
          "text": [
            "/usr/local/lib/python3.7/dist-packages/sklearn/manifold/_t_sne.py:793: FutureWarning: The default learning rate in TSNE will change from 200.0 to 'auto' in 1.2.\n",
            "  FutureWarning,\n",
            "/usr/local/lib/python3.7/dist-packages/sklearn/manifold/_t_sne.py:986: FutureWarning: The PCA initialization in TSNE will change to have the standard deviation of PC1 equal to 1e-4 in 1.2. This will ensure better convergence.\n",
            "  FutureWarning,\n"
          ]
        },
        {
          "output_type": "display_data",
          "data": {
            "text/plain": [
              "<Figure size 1008x576 with 1 Axes>"
            ],
            "image/png": "[encoded data removed]"
          },
          "metadata": {
            "needs_background": "light"
          }
        }
      ]
    },
    {
      "cell_type": "markdown",
      "source": [
        "## Question 2 - Model with different batch sizes"
      ],
      "metadata": {
        "id": "OydqwKFOomnc"
      }
    },
    {
      "cell_type": "markdown",
      "source": [
        "Model fit to batch size = 1"
      ],
      "metadata": {
        "id": "FSUA4DyCJ3ms"
      }
    },
    {
      "cell_type": "code",
      "source": [
        "model = Model(inputs=[input_1], outputs=[dense_1])\n",
        "model.compile(loss = 'binary_crossentropy',  optimizer = 'adam', metrics=['accuracy'])\n",
        "\n",
        "history1 = model.fit(train_x, train_y, epochs=6, batch_size=1, validation_data=(validation_x, validation_y),  callbacks = [callback])"
      ],
      "metadata": {
        "colab": {
          "base_uri": "https://localhost:8080/",
          "height": 409
        },
        "id": "XS7g3GlaJaNL",
        "outputId": "81e19552-902c-4e90-e0e2-2905e84cd5b3"
      },
      "execution_count": null,
      "outputs": [
        {
          "output_type": "stream",
          "name": "stdout",
          "text": [
            "Epoch 1/6\n",
            "11522/23000 [==============>...............] - ETA: 2:21:03 - loss: 0.4656 - accuracy: 0.7842"
          ]
        },
        {
          "output_type": "error",
          "ename": "KeyboardInterrupt",
          "evalue": "ignored",
          "traceback": [
            "\u001b[0;31m---------------------------------------------------------------------------\u001b[0m",
            "\u001b[0;31mKeyboardInterrupt\u001b[0m                         Traceback (most recent call last)",
            "\u001b[0;32m<ipython-input-93-5f4a55e66df5>\u001b[0m in \u001b[0;36m<module>\u001b[0;34m()\u001b[0m\n\u001b[1;32m      2\u001b[0m \u001b[0mmodel\u001b[0m\u001b[0;34m.\u001b[0m\u001b[0mcompile\u001b[0m\u001b[0;34m(\u001b[0m\u001b[0mloss\u001b[0m \u001b[0;34m=\u001b[0m \u001b[0;34m'binary_crossentropy'\u001b[0m\u001b[0;34m,\u001b[0m  \u001b[0moptimizer\u001b[0m \u001b[0;34m=\u001b[0m \u001b[0;34m'adam'\u001b[0m\u001b[0;34m,\u001b[0m \u001b[0mmetrics\u001b[0m\u001b[0;34m=\u001b[0m\u001b[0;34m[\u001b[0m\u001b[0;34m'accuracy'\u001b[0m\u001b[0;34m]\u001b[0m\u001b[0;34m)\u001b[0m\u001b[0;34m\u001b[0m\u001b[0;34m\u001b[0m\u001b[0m\n\u001b[1;32m      3\u001b[0m \u001b[0;34m\u001b[0m\u001b[0m\n\u001b[0;32m----> 4\u001b[0;31m \u001b[0mhistory1\u001b[0m \u001b[0;34m=\u001b[0m \u001b[0mmodel\u001b[0m\u001b[0;34m.\u001b[0m\u001b[0mfit\u001b[0m\u001b[0;34m(\u001b[0m\u001b[0mtrain_x\u001b[0m\u001b[0;34m,\u001b[0m \u001b[0mtrain_y\u001b[0m\u001b[0;34m,\u001b[0m \u001b[0mepochs\u001b[0m\u001b[0;34m=\u001b[0m\u001b[0;36m6\u001b[0m\u001b[0;34m,\u001b[0m \u001b[0mbatch_size\u001b[0m\u001b[0;34m=\u001b[0m\u001b[0;36m1\u001b[0m\u001b[0;34m,\u001b[0m \u001b[0mvalidation_data\u001b[0m\u001b[0;34m=\u001b[0m\u001b[0;34m(\u001b[0m\u001b[0mvalidation_x\u001b[0m\u001b[0;34m,\u001b[0m \u001b[0mvalidation_y\u001b[0m\u001b[0;34m)\u001b[0m\u001b[0;34m,\u001b[0m  \u001b[0mcallbacks\u001b[0m \u001b[0;34m=\u001b[0m \u001b[0;34m[\u001b[0m\u001b[0mcallback\u001b[0m\u001b[0;34m]\u001b[0m\u001b[0;34m)\u001b[0m\u001b[0;34m\u001b[0m\u001b[0;34m\u001b[0m\u001b[0m\n\u001b[0m",
            "\u001b[0;32m/usr/local/lib/python3.7/dist-packages/keras/utils/traceback_utils.py\u001b[0m in \u001b[0;36merror_handler\u001b[0;34m(*args, **kwargs)\u001b[0m\n\u001b[1;32m     62\u001b[0m     \u001b[0mfiltered_tb\u001b[0m \u001b[0;34m=\u001b[0m \u001b[0;32mNone\u001b[0m\u001b[0;34m\u001b[0m\u001b[0;34m\u001b[0m\u001b[0m\n\u001b[1;32m     63\u001b[0m     \u001b[0;32mtry\u001b[0m\u001b[0;34m:\u001b[0m\u001b[0;34m\u001b[0m\u001b[0;34m\u001b[0m\u001b[0m\n\u001b[0;32m---> 64\u001b[0;31m       \u001b[0;32mreturn\u001b[0m \u001b[0mfn\u001b[0m\u001b[0;34m(\u001b[0m\u001b[0;34m*\u001b[0m\u001b[0margs\u001b[0m\u001b[0;34m,\u001b[0m \u001b[0;34m**\u001b[0m\u001b[0mkwargs\u001b[0m\u001b[0;34m)\u001b[0m\u001b[0;34m\u001b[0m\u001b[0;34m\u001b[0m\u001b[0m\n\u001b[0m\u001b[1;32m     65\u001b[0m     \u001b[0;32mexcept\u001b[0m \u001b[0mException\u001b[0m \u001b[0;32mas\u001b[0m \u001b[0me\u001b[0m\u001b[0;34m:\u001b[0m  \u001b[0;31m# pylint: disable=broad-except\u001b[0m\u001b[0;34m\u001b[0m\u001b[0;34m\u001b[0m\u001b[0m\n\u001b[1;32m     66\u001b[0m       \u001b[0mfiltered_tb\u001b[0m \u001b[0;34m=\u001b[0m \u001b[0m_process_traceback_frames\u001b[0m\u001b[0;34m(\u001b[0m\u001b[0me\u001b[0m\u001b[0;34m.\u001b[0m\u001b[0m__traceback__\u001b[0m\u001b[0;34m)\u001b[0m\u001b[0;34m\u001b[0m\u001b[0;34m\u001b[0m\u001b[0m\n",
            "\u001b[0;32m/usr/local/lib/python3.7/dist-packages/keras/engine/training.py\u001b[0m in \u001b[0;36mfit\u001b[0;34m(self, x, y, batch_size, epochs, verbose, callbacks, validation_split, validation_data, shuffle, class_weight, sample_weight, initial_epoch, steps_per_epoch, validation_steps, validation_batch_size, validation_freq, max_queue_size, workers, use_multiprocessing)\u001b[0m\n\u001b[1;32m   1382\u001b[0m                 _r=1):\n\u001b[1;32m   1383\u001b[0m               \u001b[0mcallbacks\u001b[0m\u001b[0;34m.\u001b[0m\u001b[0mon_train_batch_begin\u001b[0m\u001b[0;34m(\u001b[0m\u001b[0mstep\u001b[0m\u001b[0;34m)\u001b[0m\u001b[0;34m\u001b[0m\u001b[0;34m\u001b[0m\u001b[0m\n\u001b[0;32m-> 1384\u001b[0;31m               \u001b[0mtmp_logs\u001b[0m \u001b[0;34m=\u001b[0m \u001b[0mself\u001b[0m\u001b[0;34m.\u001b[0m\u001b[0mtrain_function\u001b[0m\u001b[0;34m(\u001b[0m\u001b[0miterator\u001b[0m\u001b[0;34m)\u001b[0m\u001b[0;34m\u001b[0m\u001b[0;34m\u001b[0m\u001b[0m\n\u001b[0m\u001b[1;32m   1385\u001b[0m               \u001b[0;32mif\u001b[0m \u001b[0mdata_handler\u001b[0m\u001b[0;34m.\u001b[0m\u001b[0mshould_sync\u001b[0m\u001b[0;34m:\u001b[0m\u001b[0;34m\u001b[0m\u001b[0;34m\u001b[0m\u001b[0m\n\u001b[1;32m   1386\u001b[0m                 \u001b[0mcontext\u001b[0m\u001b[0;34m.\u001b[0m\u001b[0masync_wait\u001b[0m\u001b[0;34m(\u001b[0m\u001b[0;34m)\u001b[0m\u001b[0;34m\u001b[0m\u001b[0;34m\u001b[0m\u001b[0m\n",
            "\u001b[0;32m/usr/local/lib/python3.7/dist-packages/tensorflow/python/util/traceback_utils.py\u001b[0m in \u001b[0;36merror_handler\u001b[0;34m(*args, **kwargs)\u001b[0m\n\u001b[1;32m    148\u001b[0m     \u001b[0mfiltered_tb\u001b[0m \u001b[0;34m=\u001b[0m \u001b[0;32mNone\u001b[0m\u001b[0;34m\u001b[0m\u001b[0;34m\u001b[0m\u001b[0m\n\u001b[1;32m    149\u001b[0m     \u001b[0;32mtry\u001b[0m\u001b[0;34m:\u001b[0m\u001b[0;34m\u001b[0m\u001b[0;34m\u001b[0m\u001b[0m\n\u001b[0;32m--> 150\u001b[0;31m       \u001b[0;32mreturn\u001b[0m \u001b[0mfn\u001b[0m\u001b[0;34m(\u001b[0m\u001b[0;34m*\u001b[0m\u001b[0margs\u001b[0m\u001b[0;34m,\u001b[0m \u001b[0;34m**\u001b[0m\u001b[0mkwargs\u001b[0m\u001b[0;34m)\u001b[0m\u001b[0;34m\u001b[0m\u001b[0;34m\u001b[0m\u001b[0m\n\u001b[0m\u001b[1;32m    151\u001b[0m     \u001b[0;32mexcept\u001b[0m \u001b[0mException\u001b[0m \u001b[0;32mas\u001b[0m \u001b[0me\u001b[0m\u001b[0;34m:\u001b[0m\u001b[0;34m\u001b[0m\u001b[0;34m\u001b[0m\u001b[0m\n\u001b[1;32m    152\u001b[0m       \u001b[0mfiltered_tb\u001b[0m \u001b[0;34m=\u001b[0m \u001b[0m_process_traceback_frames\u001b[0m\u001b[0;34m(\u001b[0m\u001b[0me\u001b[0m\u001b[0;34m.\u001b[0m\u001b[0m__traceback__\u001b[0m\u001b[0;34m)\u001b[0m\u001b[0;34m\u001b[0m\u001b[0;34m\u001b[0m\u001b[0m\n",
            "\u001b[0;32m/usr/local/lib/python3.7/dist-packages/tensorflow/python/eager/def_function.py\u001b[0m in \u001b[0;36m__call__\u001b[0;34m(self, *args, **kwds)\u001b[0m\n\u001b[1;32m    913\u001b[0m \u001b[0;34m\u001b[0m\u001b[0m\n\u001b[1;32m    914\u001b[0m       \u001b[0;32mwith\u001b[0m \u001b[0mOptionalXlaContext\u001b[0m\u001b[0;34m(\u001b[0m\u001b[0mself\u001b[0m\u001b[0;34m.\u001b[0m\u001b[0m_jit_compile\u001b[0m\u001b[0;34m)\u001b[0m\u001b[0;34m:\u001b[0m\u001b[0;34m\u001b[0m\u001b[0;34m\u001b[0m\u001b[0m\n\u001b[0;32m--> 915\u001b[0;31m         \u001b[0mresult\u001b[0m \u001b[0;34m=\u001b[0m \u001b[0mself\u001b[0m\u001b[0;34m.\u001b[0m\u001b[0m_call\u001b[0m\u001b[0;34m(\u001b[0m\u001b[0;34m*\u001b[0m\u001b[0margs\u001b[0m\u001b[0;34m,\u001b[0m \u001b[0;34m**\u001b[0m\u001b[0mkwds\u001b[0m\u001b[0;34m)\u001b[0m\u001b[0;34m\u001b[0m\u001b[0;34m\u001b[0m\u001b[0m\n\u001b[0m\u001b[1;32m    916\u001b[0m \u001b[0;34m\u001b[0m\u001b[0m\n\u001b[1;32m    917\u001b[0m       \u001b[0mnew_tracing_count\u001b[0m \u001b[0;34m=\u001b[0m \u001b[0mself\u001b[0m\u001b[0;34m.\u001b[0m\u001b[0mexperimental_get_tracing_count\u001b[0m\u001b[0;34m(\u001b[0m\u001b[0;34m)\u001b[0m\u001b[0;34m\u001b[0m\u001b[0;34m\u001b[0m\u001b[0m\n",
            "\u001b[0;32m/usr/local/lib/python3.7/dist-packages/tensorflow/python/eager/def_function.py\u001b[0m in \u001b[0;36m_call\u001b[0;34m(self, *args, **kwds)\u001b[0m\n\u001b[1;32m    945\u001b[0m       \u001b[0;31m# In this case we have created variables on the first call, so we run the\u001b[0m\u001b[0;34m\u001b[0m\u001b[0;34m\u001b[0m\u001b[0;34m\u001b[0m\u001b[0m\n\u001b[1;32m    946\u001b[0m       \u001b[0;31m# defunned version which is guaranteed to never create variables.\u001b[0m\u001b[0;34m\u001b[0m\u001b[0;34m\u001b[0m\u001b[0;34m\u001b[0m\u001b[0m\n\u001b[0;32m--> 947\u001b[0;31m       \u001b[0;32mreturn\u001b[0m \u001b[0mself\u001b[0m\u001b[0;34m.\u001b[0m\u001b[0m_stateless_fn\u001b[0m\u001b[0;34m(\u001b[0m\u001b[0;34m*\u001b[0m\u001b[0margs\u001b[0m\u001b[0;34m,\u001b[0m \u001b[0;34m**\u001b[0m\u001b[0mkwds\u001b[0m\u001b[0;34m)\u001b[0m  \u001b[0;31m# pylint: disable=not-callable\u001b[0m\u001b[0;34m\u001b[0m\u001b[0;34m\u001b[0m\u001b[0m\n\u001b[0m\u001b[1;32m    948\u001b[0m     \u001b[0;32melif\u001b[0m \u001b[0mself\u001b[0m\u001b[0;34m.\u001b[0m\u001b[0m_stateful_fn\u001b[0m \u001b[0;32mis\u001b[0m \u001b[0;32mnot\u001b[0m \u001b[0;32mNone\u001b[0m\u001b[0;34m:\u001b[0m\u001b[0;34m\u001b[0m\u001b[0;34m\u001b[0m\u001b[0m\n\u001b[1;32m    949\u001b[0m       \u001b[0;31m# Release the lock early so that multiple threads can perform the call\u001b[0m\u001b[0;34m\u001b[0m\u001b[0;34m\u001b[0m\u001b[0;34m\u001b[0m\u001b[0m\n",
            "\u001b[0;32m/usr/local/lib/python3.7/dist-packages/tensorflow/python/eager/function.py\u001b[0m in \u001b[0;36m__call__\u001b[0;34m(self, *args, **kwargs)\u001b[0m\n\u001b[1;32m   2955\u001b[0m        filtered_flat_args) = self._maybe_define_function(args, kwargs)\n\u001b[1;32m   2956\u001b[0m     return graph_function._call_flat(\n\u001b[0;32m-> 2957\u001b[0;31m         filtered_flat_args, captured_inputs=graph_function.captured_inputs)  # pylint: disable=protected-access\n\u001b[0m\u001b[1;32m   2958\u001b[0m \u001b[0;34m\u001b[0m\u001b[0m\n\u001b[1;32m   2959\u001b[0m   \u001b[0;34m@\u001b[0m\u001b[0mproperty\u001b[0m\u001b[0;34m\u001b[0m\u001b[0;34m\u001b[0m\u001b[0m\n",
            "\u001b[0;32m/usr/local/lib/python3.7/dist-packages/tensorflow/python/eager/function.py\u001b[0m in \u001b[0;36m_call_flat\u001b[0;34m(self, args, captured_inputs, cancellation_manager)\u001b[0m\n\u001b[1;32m   1852\u001b[0m       \u001b[0;31m# No tape is watching; skip to running the function.\u001b[0m\u001b[0;34m\u001b[0m\u001b[0;34m\u001b[0m\u001b[0;34m\u001b[0m\u001b[0m\n\u001b[1;32m   1853\u001b[0m       return self._build_call_outputs(self._inference_function.call(\n\u001b[0;32m-> 1854\u001b[0;31m           ctx, args, cancellation_manager=cancellation_manager))\n\u001b[0m\u001b[1;32m   1855\u001b[0m     forward_backward = self._select_forward_and_backward_functions(\n\u001b[1;32m   1856\u001b[0m         \u001b[0margs\u001b[0m\u001b[0;34m,\u001b[0m\u001b[0;34m\u001b[0m\u001b[0;34m\u001b[0m\u001b[0m\n",
            "\u001b[0;32m/usr/local/lib/python3.7/dist-packages/tensorflow/python/eager/function.py\u001b[0m in \u001b[0;36mcall\u001b[0;34m(self, ctx, args, cancellation_manager)\u001b[0m\n\u001b[1;32m    502\u001b[0m               \u001b[0minputs\u001b[0m\u001b[0;34m=\u001b[0m\u001b[0margs\u001b[0m\u001b[0;34m,\u001b[0m\u001b[0;34m\u001b[0m\u001b[0;34m\u001b[0m\u001b[0m\n\u001b[1;32m    503\u001b[0m               \u001b[0mattrs\u001b[0m\u001b[0;34m=\u001b[0m\u001b[0mattrs\u001b[0m\u001b[0;34m,\u001b[0m\u001b[0;34m\u001b[0m\u001b[0;34m\u001b[0m\u001b[0m\n\u001b[0;32m--> 504\u001b[0;31m               ctx=ctx)\n\u001b[0m\u001b[1;32m    505\u001b[0m         \u001b[0;32melse\u001b[0m\u001b[0;34m:\u001b[0m\u001b[0;34m\u001b[0m\u001b[0;34m\u001b[0m\u001b[0m\n\u001b[1;32m    506\u001b[0m           outputs = execute.execute_with_cancellation(\n",
            "\u001b[0;32m/usr/local/lib/python3.7/dist-packages/tensorflow/python/eager/execute.py\u001b[0m in \u001b[0;36mquick_execute\u001b[0;34m(op_name, num_outputs, inputs, attrs, ctx, name)\u001b[0m\n\u001b[1;32m     53\u001b[0m     \u001b[0mctx\u001b[0m\u001b[0;34m.\u001b[0m\u001b[0mensure_initialized\u001b[0m\u001b[0;34m(\u001b[0m\u001b[0;34m)\u001b[0m\u001b[0;34m\u001b[0m\u001b[0;34m\u001b[0m\u001b[0m\n\u001b[1;32m     54\u001b[0m     tensors = pywrap_tfe.TFE_Py_Execute(ctx._handle, device_name, op_name,\n\u001b[0;32m---> 55\u001b[0;31m                                         inputs, attrs, num_outputs)\n\u001b[0m\u001b[1;32m     56\u001b[0m   \u001b[0;32mexcept\u001b[0m \u001b[0mcore\u001b[0m\u001b[0;34m.\u001b[0m\u001b[0m_NotOkStatusException\u001b[0m \u001b[0;32mas\u001b[0m \u001b[0me\u001b[0m\u001b[0;34m:\u001b[0m\u001b[0;34m\u001b[0m\u001b[0;34m\u001b[0m\u001b[0m\n\u001b[1;32m     57\u001b[0m     \u001b[0;32mif\u001b[0m \u001b[0mname\u001b[0m \u001b[0;32mis\u001b[0m \u001b[0;32mnot\u001b[0m \u001b[0;32mNone\u001b[0m\u001b[0;34m:\u001b[0m\u001b[0;34m\u001b[0m\u001b[0;34m\u001b[0m\u001b[0m\n",
            "\u001b[0;31mKeyboardInterrupt\u001b[0m: "
          ]
        }
      ]
    },
    {
      "cell_type": "markdown",
      "source": [
        "Model fit to batch size = 32"
      ],
      "metadata": {
        "id": "NIeGnurYKCxo"
      }
    },
    {
      "cell_type": "code",
      "source": [
        "model = Model(inputs=[input_1], outputs=[dense_1])\n",
        "model.compile(loss = 'binary_crossentropy',  optimizer = 'adam', metrics=['accuracy'])\n",
        "\n",
        "history1 = model.fit(train_x, train_y, epochs=6, batch_size=32, validation_data=(validation_x, validation_y),  callbacks = [callback])"
      ],
      "metadata": {
        "id": "6qwhmgatKGBo",
        "colab": {
          "base_uri": "https://localhost:8080/"
        },
        "outputId": "4838ed87-4713-4507-df66-1faabfa2296c"
      },
      "execution_count": null,
      "outputs": [
        {
          "output_type": "stream",
          "name": "stdout",
          "text": [
            "Epoch 1/6\n",
            "719/719 [==============================] - 638s 881ms/step - loss: 0.4876 - accuracy: 0.7603 - val_loss: 0.3436 - val_accuracy: 0.8620\n",
            "Epoch 2/6\n",
            "719/719 [==============================] - 643s 894ms/step - loss: 0.3318 - accuracy: 0.8629 - val_loss: 0.3762 - val_accuracy: 0.8610\n",
            "Epoch 2: early stopping\n"
          ]
        }
      ]
    },
    {
      "cell_type": "code",
      "source": [
        "plot_history(history1.history, path=\"standard.png\")\n",
        "plt.show()"
      ],
      "metadata": {
        "id": "i7x1v5UoKnqf",
        "colab": {
          "base_uri": "https://localhost:8080/",
          "height": 385
        },
        "outputId": "f459f547-941c-44c5-9406-85bca539cccb"
      },
      "execution_count": null,
      "outputs": [
        {
          "output_type": "display_data",
          "data": {
            "text/plain": [
              "<Figure size 720x360 with 2 Axes>"
            ],
            "image/png": "[encoded data removed]"
          },
          "metadata": {
            "needs_background": "light"
          }
        }
      ]
    },
    {
      "cell_type": "code",
      "source": [
        "# YOUR CODE TO EVALUATE THE MODEL ON TEST DATA GOES HERE\n",
        "results = model.evaluate(padded_test_data, test_labels, batch_size=32)\n",
        "\n",
        "print('test_loss:', results[0], 'test_accuracy:', results[1])"
      ],
      "metadata": {
        "id": "VtACECZDKnt_",
        "colab": {
          "base_uri": "https://localhost:8080/"
        },
        "outputId": "3f50ae9b-57ab-4776-ad46-d59634f9aa54"
      },
      "execution_count": null,
      "outputs": [
        {
          "output_type": "stream",
          "name": "stdout",
          "text": [
            "782/782 [==============================] - 62s 79ms/step - loss: 0.3884 - accuracy: 0.8571\n",
            "test_loss: 0.3883788585662842 test_accuracy: 0.8570799827575684\n"
          ]
        }
      ]
    },
    {
      "cell_type": "code",
      "source": [
        "word_embeddings = model.get_layer('embed_layer').get_weights()[0]\n",
        "\n",
        "from sklearn.manifold import TSNE\n",
        "import matplotlib.pyplot as plt\n",
        "import numpy as np\n",
        "\n",
        "tsne = TSNE(perplexity=3, n_components=2, init='pca', n_iter=5000, method='exact')\n",
        "np.set_printoptions(suppress=True)\n",
        "plot_only = 50\n",
        "\n",
        "# don't plot the special tokens\n",
        "start = 3\n",
        "T = tsne.fit_transform(word_embeddings[start:plot_only, :])\n",
        "labels = [idx2word[i] for i in range(start, plot_only)]\n",
        "plt.figure(figsize=(14, 8))\n",
        "plt.scatter(T[:, 0], T[:, 1])\n",
        "for label, x, y in zip(labels, T[:, 0], T[:, 1]):\n",
        "    plt.annotate(label, xy=(x+1, y+1), xytext=(0, 0), textcoords='offset points', ha='right', va='bottom')                      \t                        \n"
      ],
      "metadata": {
        "id": "THsbxEsPWvxQ",
        "colab": {
          "base_uri": "https://localhost:8080/",
          "height": 571
        },
        "outputId": "0c7cdfc7-9ced-44c5-dcb0-3ccd709a4b80"
      },
      "execution_count": null,
      "outputs": [
        {
          "output_type": "stream",
          "name": "stderr",
          "text": [
            "/usr/local/lib/python3.7/dist-packages/sklearn/manifold/_t_sne.py:793: FutureWarning: The default learning rate in TSNE will change from 200.0 to 'auto' in 1.2.\n",
            "  FutureWarning,\n",
            "/usr/local/lib/python3.7/dist-packages/sklearn/manifold/_t_sne.py:986: FutureWarning: The PCA initialization in TSNE will change to have the standard deviation of PC1 equal to 1e-4 in 1.2. This will ensure better convergence.\n",
            "  FutureWarning,\n"
          ]
        },
        {
          "output_type": "display_data",
          "data": {
            "text/plain": [
              "<Figure size 1008x576 with 1 Axes>"
            ],
            "image/png": "[encoded data removed]"
          },
          "metadata": {
            "needs_background": "light"
          }
        }
      ]
    },
    {
      "cell_type": "markdown",
      "source": [
        "Model fit to batch size = length of data"
      ],
      "metadata": {
        "id": "24XUu3yYKGoD"
      }
    },
    {
      "cell_type": "code",
      "source": [
        "model = Model(inputs=[input_1], outputs=[dense_1])\n",
        "model.compile(loss = 'binary_crossentropy',  optimizer = 'adam', metrics=['accuracy'])\n",
        "\n",
        "history1 = model.fit(train_x, train_y, epochs=6, batch_size=len(train_x), validation_data=(validation_x, validation_y),  callbacks = [callback])"
      ],
      "metadata": {
        "id": "eCZd7_57KKE7",
        "colab": {
          "base_uri": "https://localhost:8080/",
          "height": 1000
        },
        "outputId": "2975372f-d2ef-4ac1-c1fb-803ab8ca26b5"
      },
      "execution_count": null,
      "outputs": [
        {
          "output_type": "stream",
          "name": "stdout",
          "text": [
            "Epoch 1/6\n"
          ]
        },
        {
          "output_type": "error",
          "ename": "ResourceExhaustedError",
          "evalue": "ignored",
          "traceback": [
            "\u001b[0;31m---------------------------------------------------------------------------\u001b[0m",
            "\u001b[0;31mResourceExhaustedError\u001b[0m                    Traceback (most recent call last)",
            "\u001b[0;32m<ipython-input-84-89ad5fad5eb4>\u001b[0m in \u001b[0;36m<module>\u001b[0;34m()\u001b[0m\n\u001b[1;32m      2\u001b[0m \u001b[0mmodel\u001b[0m\u001b[0;34m.\u001b[0m\u001b[0mcompile\u001b[0m\u001b[0;34m(\u001b[0m\u001b[0mloss\u001b[0m \u001b[0;34m=\u001b[0m \u001b[0;34m'binary_crossentropy'\u001b[0m\u001b[0;34m,\u001b[0m  \u001b[0moptimizer\u001b[0m \u001b[0;34m=\u001b[0m \u001b[0;34m'adam'\u001b[0m\u001b[0;34m,\u001b[0m \u001b[0mmetrics\u001b[0m\u001b[0;34m=\u001b[0m\u001b[0;34m[\u001b[0m\u001b[0;34m'accuracy'\u001b[0m\u001b[0;34m]\u001b[0m\u001b[0;34m)\u001b[0m\u001b[0;34m\u001b[0m\u001b[0;34m\u001b[0m\u001b[0m\n\u001b[1;32m      3\u001b[0m \u001b[0;34m\u001b[0m\u001b[0m\n\u001b[0;32m----> 4\u001b[0;31m \u001b[0mhistory1\u001b[0m \u001b[0;34m=\u001b[0m \u001b[0mmodel\u001b[0m\u001b[0;34m.\u001b[0m\u001b[0mfit\u001b[0m\u001b[0;34m(\u001b[0m\u001b[0mtrain_x\u001b[0m\u001b[0;34m,\u001b[0m \u001b[0mtrain_y\u001b[0m\u001b[0;34m,\u001b[0m \u001b[0mepochs\u001b[0m\u001b[0;34m=\u001b[0m\u001b[0;36m6\u001b[0m\u001b[0;34m,\u001b[0m \u001b[0mbatch_size\u001b[0m\u001b[0;34m=\u001b[0m\u001b[0mint\u001b[0m\u001b[0;34m(\u001b[0m\u001b[0mlen\u001b[0m\u001b[0;34m(\u001b[0m\u001b[0mtrain_x\u001b[0m\u001b[0;34m)\u001b[0m\u001b[0;34m/\u001b[0m\u001b[0;36m4\u001b[0m\u001b[0;34m)\u001b[0m\u001b[0;34m,\u001b[0m \u001b[0mvalidation_data\u001b[0m\u001b[0;34m=\u001b[0m\u001b[0;34m(\u001b[0m\u001b[0mvalidation_x\u001b[0m\u001b[0;34m,\u001b[0m \u001b[0mvalidation_y\u001b[0m\u001b[0;34m)\u001b[0m\u001b[0;34m,\u001b[0m  \u001b[0mcallbacks\u001b[0m \u001b[0;34m=\u001b[0m \u001b[0;34m[\u001b[0m\u001b[0mcallback\u001b[0m\u001b[0;34m]\u001b[0m\u001b[0;34m)\u001b[0m\u001b[0;34m\u001b[0m\u001b[0;34m\u001b[0m\u001b[0m\n\u001b[0m",
            "\u001b[0;32m/usr/local/lib/python3.7/dist-packages/keras/utils/traceback_utils.py\u001b[0m in \u001b[0;36merror_handler\u001b[0;34m(*args, **kwargs)\u001b[0m\n\u001b[1;32m     65\u001b[0m     \u001b[0;32mexcept\u001b[0m \u001b[0mException\u001b[0m \u001b[0;32mas\u001b[0m \u001b[0me\u001b[0m\u001b[0;34m:\u001b[0m  \u001b[0;31m# pylint: disable=broad-except\u001b[0m\u001b[0;34m\u001b[0m\u001b[0;34m\u001b[0m\u001b[0m\n\u001b[1;32m     66\u001b[0m       \u001b[0mfiltered_tb\u001b[0m \u001b[0;34m=\u001b[0m \u001b[0m_process_traceback_frames\u001b[0m\u001b[0;34m(\u001b[0m\u001b[0me\u001b[0m\u001b[0;34m.\u001b[0m\u001b[0m__traceback__\u001b[0m\u001b[0;34m)\u001b[0m\u001b[0;34m\u001b[0m\u001b[0;34m\u001b[0m\u001b[0m\n\u001b[0;32m---> 67\u001b[0;31m       \u001b[0;32mraise\u001b[0m \u001b[0me\u001b[0m\u001b[0;34m.\u001b[0m\u001b[0mwith_traceback\u001b[0m\u001b[0;34m(\u001b[0m\u001b[0mfiltered_tb\u001b[0m\u001b[0;34m)\u001b[0m \u001b[0;32mfrom\u001b[0m \u001b[0;32mNone\u001b[0m\u001b[0;34m\u001b[0m\u001b[0;34m\u001b[0m\u001b[0m\n\u001b[0m\u001b[1;32m     68\u001b[0m     \u001b[0;32mfinally\u001b[0m\u001b[0;34m:\u001b[0m\u001b[0;34m\u001b[0m\u001b[0;34m\u001b[0m\u001b[0m\n\u001b[1;32m     69\u001b[0m       \u001b[0;32mdel\u001b[0m \u001b[0mfiltered_tb\u001b[0m\u001b[0;34m\u001b[0m\u001b[0;34m\u001b[0m\u001b[0m\n",
            "\u001b[0;32m/usr/local/lib/python3.7/dist-packages/tensorflow/python/eager/execute.py\u001b[0m in \u001b[0;36mquick_execute\u001b[0;34m(op_name, num_outputs, inputs, attrs, ctx, name)\u001b[0m\n\u001b[1;32m     53\u001b[0m     \u001b[0mctx\u001b[0m\u001b[0;34m.\u001b[0m\u001b[0mensure_initialized\u001b[0m\u001b[0;34m(\u001b[0m\u001b[0;34m)\u001b[0m\u001b[0;34m\u001b[0m\u001b[0;34m\u001b[0m\u001b[0m\n\u001b[1;32m     54\u001b[0m     tensors = pywrap_tfe.TFE_Py_Execute(ctx._handle, device_name, op_name,\n\u001b[0;32m---> 55\u001b[0;31m                                         inputs, attrs, num_outputs)\n\u001b[0m\u001b[1;32m     56\u001b[0m   \u001b[0;32mexcept\u001b[0m \u001b[0mcore\u001b[0m\u001b[0;34m.\u001b[0m\u001b[0m_NotOkStatusException\u001b[0m \u001b[0;32mas\u001b[0m \u001b[0me\u001b[0m\u001b[0;34m:\u001b[0m\u001b[0;34m\u001b[0m\u001b[0;34m\u001b[0m\u001b[0m\n\u001b[1;32m     57\u001b[0m     \u001b[0;32mif\u001b[0m \u001b[0mname\u001b[0m \u001b[0;32mis\u001b[0m \u001b[0;32mnot\u001b[0m \u001b[0;32mNone\u001b[0m\u001b[0;34m:\u001b[0m\u001b[0;34m\u001b[0m\u001b[0;34m\u001b[0m\u001b[0m\n",
            "\u001b[0;31mResourceExhaustedError\u001b[0m: Graph execution error:\n\nDetected at node 'cond/while/MatMul' defined at (most recent call last):\n    File \"/usr/lib/python3.7/runpy.py\", line 193, in _run_module_as_main\n      \"__main__\", mod_spec)\n    File \"/usr/lib/python3.7/runpy.py\", line 85, in _run_code\n      exec(code, run_globals)\n    File \"/usr/local/lib/python3.7/dist-packages/ipykernel_launcher.py\", line 16, in <module>\n      app.launch_new_instance()\n    File \"/usr/local/lib/python3.7/dist-packages/traitlets/config/application.py\", line 846, in launch_instance\n      app.start()\n    File \"/usr/local/lib/python3.7/dist-packages/ipykernel/kernelapp.py\", line 499, in start\n      self.io_loop.start()\n    File \"/usr/local/lib/python3.7/dist-packages/tornado/platform/asyncio.py\", line 132, in start\n      self.asyncio_loop.run_forever()\n    File \"/usr/lib/python3.7/asyncio/base_events.py\", line 541, in run_forever\n      self._run_once()\n    File \"/usr/lib/python3.7/asyncio/base_events.py\", line 1786, in _run_once\n      handle._run()\n    File \"/usr/lib/python3.7/asyncio/events.py\", line 88, in _run\n      self._context.run(self._callback, *self._args)\n    File \"/usr/local/lib/python3.7/dist-packages/tornado/platform/asyncio.py\", line 122, in _handle_events\n      handler_func(fileobj, events)\n    File \"/usr/local/lib/python3.7/dist-packages/tornado/stack_context.py\", line 300, in null_wrapper\n      return fn(*args, **kwargs)\n    File \"/usr/local/lib/python3.7/dist-packages/zmq/eventloop/zmqstream.py\", line 452, in _handle_events\n      self._handle_recv()\n    File \"/usr/local/lib/python3.7/dist-packages/zmq/eventloop/zmqstream.py\", line 481, in _handle_recv\n      self._run_callback(callback, msg)\n    File \"/usr/local/lib/python3.7/dist-packages/zmq/eventloop/zmqstream.py\", line 431, in _run_callback\n      callback(*args, **kwargs)\n    File \"/usr/local/lib/python3.7/dist-packages/tornado/stack_context.py\", line 300, in null_wrapper\n      return fn(*args, **kwargs)\n    File \"/usr/local/lib/python3.7/dist-packages/ipykernel/kernelbase.py\", line 283, in dispatcher\n      return self.dispatch_shell(stream, msg)\n    File \"/usr/local/lib/python3.7/dist-packages/ipykernel/kernelbase.py\", line 233, in dispatch_shell\n      handler(stream, idents, msg)\n    File \"/usr/local/lib/python3.7/dist-packages/ipykernel/kernelbase.py\", line 399, in execute_request\n      user_expressions, allow_stdin)\n    File \"/usr/local/lib/python3.7/dist-packages/ipykernel/ipkernel.py\", line 208, in do_execute\n      res = shell.run_cell(code, store_history=store_history, silent=silent)\n    File \"/usr/local/lib/python3.7/dist-packages/ipykernel/zmqshell.py\", line 537, in run_cell\n      return super(ZMQInteractiveShell, self).run_cell(*args, **kwargs)\n    File \"/usr/local/lib/python3.7/dist-packages/IPython/core/interactiveshell.py\", line 2718, in run_cell\n      interactivity=interactivity, compiler=compiler, result=result)\n    File \"/usr/local/lib/python3.7/dist-packages/IPython/core/interactiveshell.py\", line 2822, in run_ast_nodes\n      if self.run_code(code, result):\n    File \"/usr/local/lib/python3.7/dist-packages/IPython/core/interactiveshell.py\", line 2882, in run_code\n      exec(code_obj, self.user_global_ns, self.user_ns)\n    File \"<ipython-input-84-89ad5fad5eb4>\", line 4, in <module>\n      history1 = model.fit(train_x, train_y, epochs=6, batch_size=int(len(train_x)/4), validation_data=(validation_x, validation_y),  callbacks = [callback])\n    File \"/usr/local/lib/python3.7/dist-packages/keras/utils/traceback_utils.py\", line 64, in error_handler\n      return fn(*args, **kwargs)\n    File \"/usr/local/lib/python3.7/dist-packages/keras/engine/training.py\", line 1384, in fit\n      tmp_logs = self.train_function(iterator)\n    File \"/usr/local/lib/python3.7/dist-packages/keras/engine/training.py\", line 1021, in train_function\n      return step_function(self, iterator)\n    File \"/usr/local/lib/python3.7/dist-packages/keras/engine/training.py\", line 1010, in step_function\n      outputs = model.distribute_strategy.run(run_step, args=(data,))\n    File \"/usr/local/lib/python3.7/dist-packages/keras/engine/training.py\", line 1000, in run_step\n      outputs = model.train_step(data)\n    File \"/usr/local/lib/python3.7/dist-packages/keras/engine/training.py\", line 859, in train_step\n      y_pred = self(x, training=True)\n    File \"/usr/local/lib/python3.7/dist-packages/keras/utils/traceback_utils.py\", line 64, in error_handler\n      return fn(*args, **kwargs)\n    File \"/usr/local/lib/python3.7/dist-packages/keras/engine/base_layer.py\", line 1096, in __call__\n      outputs = call_fn(inputs, *args, **kwargs)\n    File \"/usr/local/lib/python3.7/dist-packages/keras/utils/traceback_utils.py\", line 92, in error_handler\n      return fn(*args, **kwargs)\n    File \"/usr/local/lib/python3.7/dist-packages/keras/engine/functional.py\", line 452, in call\n      inputs, training=training, mask=mask)\n    File \"/usr/local/lib/python3.7/dist-packages/keras/engine/functional.py\", line 589, in _run_internal_graph\n      outputs = node.layer(*args, **kwargs)\n    File \"/usr/local/lib/python3.7/dist-packages/keras/layers/recurrent.py\", line 679, in __call__\n      return super(RNN, self).__call__(inputs, **kwargs)\n    File \"/usr/local/lib/python3.7/dist-packages/keras/utils/traceback_utils.py\", line 64, in error_handler\n      return fn(*args, **kwargs)\n    File \"/usr/local/lib/python3.7/dist-packages/keras/engine/base_layer.py\", line 1096, in __call__\n      outputs = call_fn(inputs, *args, **kwargs)\n    File \"/usr/local/lib/python3.7/dist-packages/keras/utils/traceback_utils.py\", line 92, in error_handler\n      return fn(*args, **kwargs)\n    File \"/usr/local/lib/python3.7/dist-packages/keras/layers/recurrent_v2.py\", line 1255, in call\n      runtime) = lstm_with_backend_selection(**normal_lstm_kwargs)\n    File \"/usr/local/lib/python3.7/dist-packages/keras/layers/recurrent_v2.py\", line 1651, in lstm_with_backend_selection\n      _function_register(defun_gpu_lstm, **params)\n    File \"/usr/local/lib/python3.7/dist-packages/keras/layers/recurrent_v2.py\", line 1783, in _function_register\n      concrete_func = func.get_concrete_function(*args, **kwargs)\n    File \"/usr/local/lib/python3.7/dist-packages/keras/layers/recurrent_v2.py\", line 1621, in gpu_lstm_with_fallback\n      false_fn=stardard_lstm_fn)\n    File \"/usr/local/lib/python3.7/dist-packages/keras/layers/recurrent_v2.py\", line 1616, in stardard_lstm_fn\n      zero_output_for_mask=zero_output_for_mask)\n    File \"/usr/local/lib/python3.7/dist-packages/keras/layers/recurrent_v2.py\", line 1391, in standard_lstm\n      zero_output_for_mask=zero_output_for_mask)\n    File \"/usr/local/lib/python3.7/dist-packages/keras/backend.py\", line 4712, in rnn\n      **while_loop_kwargs)\n    File \"/usr/local/lib/python3.7/dist-packages/keras/backend.py\", line 4685, in _step\n      tuple(states) + tuple(constants))\n    File \"/usr/local/lib/python3.7/dist-packages/keras/layers/recurrent_v2.py\", line 1367, in step\n      z = backend.dot(cell_inputs, kernel)\n    File \"/usr/local/lib/python3.7/dist-packages/keras/backend.py\", line 2223, in dot\n      out = tf.matmul(x, y)\nNode: 'cond/while/MatMul'\nOOM when allocating tensor with shape[5750,400] and type float on /job:localhost/replica:0/task:0/device:GPU:0 by allocator GPU_0_bfc\n\t [[{{node cond/while/MatMul}}]]\nHint: If you want to see a list of allocated tensors when OOM happens, add report_tensor_allocations_upon_oom to RunOptions for current allocation info. This isn't available when running in Eager mode.\n\n\t [[model_14/lstm_7/PartitionedCall]]\nHint: If you want to see a list of allocated tensors when OOM happens, add report_tensor_allocations_upon_oom to RunOptions for current allocation info. This isn't available when running in Eager mode.\n [Op:__inference_train_function_103167]"
          ]
        }
      ]
    },
    {
      "cell_type": "markdown",
      "source": [
        "BiDirectional LSTM"
      ],
      "metadata": {
        "id": "F1ehvj-ALL4x"
      }
    },
    {
      "cell_type": "code",
      "source": [
        "from keras.layers import Input, Embedding, Dense, LSTM, Dropout, Bidirectional\n",
        "from keras.models import Model\n",
        "\n",
        "EMBED_SIZE = 100\n",
        "# YOUR CODE GOES HERE\n",
        "\n",
        "input_1 = Input(shape=(500,), dtype='int32')\n",
        "embedding_1 = Embedding( input_length=500, input_dim=VOCAB_SIZE, output_dim=EMBED_SIZE, name='embed_layer',\n",
        "                        embeddings_initializer='glorot_uniform', mask_zero=True)(input_1)\n",
        "lstm_1 = Bidirectional(LSTM(100))(embedding_1)\n",
        "dropout_2 = Dropout(rate=0.2)(lstm_1)\n",
        "dense_1 = Dense(1, activation='sigmoid')(dropout_2)\n",
        "\n",
        "model = Model(inputs=[input_1], outputs=[dense_1])\n",
        "\n",
        "model.compile(loss = 'binary_crossentropy',  optimizer = 'adam', metrics=['accuracy'])\n"
      ],
      "metadata": {
        "id": "srSr24lWLN8U"
      },
      "execution_count": null,
      "outputs": []
    },
    {
      "cell_type": "code",
      "source": [
        "model.summary()"
      ],
      "metadata": {
        "id": "bMfF5mTTLsl_",
        "colab": {
          "base_uri": "https://localhost:8080/"
        },
        "outputId": "61020950-035e-42e0-f338-f7ac07fdd676"
      },
      "execution_count": null,
      "outputs": [
        {
          "output_type": "stream",
          "name": "stdout",
          "text": [
            "Model: \"model_15\"\n",
            "_________________________________________________________________\n",
            " Layer (type)                Output Shape              Param #   \n",
            "=================================================================\n",
            " input_12 (InputLayer)       [(None, 500)]             0         \n",
            "                                                                 \n",
            " embed_layer (Embedding)     (None, 500, 100)          1000000   \n",
            "                                                                 \n",
            " bidirectional (Bidirectiona  (None, 200)              160800    \n",
            " l)                                                              \n",
            "                                                                 \n",
            " dropout_11 (Dropout)        (None, 200)               0         \n",
            "                                                                 \n",
            " dense_8 (Dense)             (None, 1)                 201       \n",
            "                                                                 \n",
            "=================================================================\n",
            "Total params: 1,161,001\n",
            "Trainable params: 1,161,001\n",
            "Non-trainable params: 0\n",
            "_________________________________________________________________\n"
          ]
        }
      ]
    },
    {
      "cell_type": "code",
      "source": [
        "history = model.fit(train_x, train_y, epochs=6, batch_size=1000, validation_data=(validation_x, validation_y),  callbacks = [callback])"
      ],
      "metadata": {
        "id": "KYj0dUpKLvgX",
        "colab": {
          "base_uri": "https://localhost:8080/"
        },
        "outputId": "8ae04f48-4e64-4d45-d6f6-d1d52c19634d"
      },
      "execution_count": null,
      "outputs": [
        {
          "output_type": "stream",
          "name": "stdout",
          "text": [
            "Epoch 1/6\n",
            "23/23 [==============================] - 29s 1s/step - loss: 0.6377 - accuracy: 0.6559 - val_loss: 0.4776 - val_accuracy: 0.7940\n",
            "Epoch 2/6\n",
            "23/23 [==============================] - 21s 909ms/step - loss: 0.4127 - accuracy: 0.8193 - val_loss: 0.3620 - val_accuracy: 0.8570\n",
            "Epoch 3/6\n",
            "23/23 [==============================] - 21s 916ms/step - loss: 0.3262 - accuracy: 0.8723 - val_loss: 0.3225 - val_accuracy: 0.8635\n",
            "Epoch 4/6\n",
            "23/23 [==============================] - 21s 909ms/step - loss: 0.2746 - accuracy: 0.8980 - val_loss: 0.2998 - val_accuracy: 0.8840\n",
            "Epoch 5/6\n",
            "23/23 [==============================] - 21s 908ms/step - loss: 0.2196 - accuracy: 0.9237 - val_loss: 0.3021 - val_accuracy: 0.8835\n",
            "Epoch 5: early stopping\n"
          ]
        }
      ]
    },
    {
      "cell_type": "code",
      "source": [
        "plot_history(history.history, path=\"standard.png\")\n",
        "plt.show()"
      ],
      "metadata": {
        "id": "w8uMEx8yLxvV",
        "colab": {
          "base_uri": "https://localhost:8080/",
          "height": 385
        },
        "outputId": "af937b72-649b-4f6f-aea9-6c9fa7af5720"
      },
      "execution_count": null,
      "outputs": [
        {
          "output_type": "display_data",
          "data": {
            "text/plain": [
              "<Figure size 720x360 with 2 Axes>"
            ],
            "image/png": "[encoded data removed]"
          },
          "metadata": {
            "needs_background": "light"
          }
        }
      ]
    },
    {
      "cell_type": "code",
      "source": [
        "results = model.evaluate(padded_test_data, test_labels, batch_size=1000)\n",
        "print('test_loss:', results[0], 'test_accuracy:', results[1])"
      ],
      "metadata": {
        "id": "9G0scTUiL3Km",
        "colab": {
          "base_uri": "https://localhost:8080/"
        },
        "outputId": "beb5ac72-b29d-4d55-9764-54e88a91b3c3"
      },
      "execution_count": null,
      "outputs": [
        {
          "output_type": "stream",
          "name": "stdout",
          "text": [
            "25/25 [==============================] - 5s 219ms/step - loss: 0.3279 - accuracy: 0.8676\n",
            "test_loss: 0.3279435932636261 test_accuracy: 0.8676000237464905\n"
          ]
        }
      ]
    },
    {
      "cell_type": "code",
      "source": [
        "word_embeddings = model.get_layer('embed_layer').get_weights()[0]\n",
        "\n",
        "from sklearn.manifold import TSNE\n",
        "import matplotlib.pyplot as plt\n",
        "import numpy as np\n",
        "\n",
        "tsne = TSNE(perplexity=3, n_components=2, init='pca', n_iter=5000, method='exact')\n",
        "np.set_printoptions(suppress=True)\n",
        "plot_only = 50\n",
        "\n",
        "# don't plot the special tokens\n",
        "start = 3\n",
        "T = tsne.fit_transform(word_embeddings[start:plot_only, :])\n",
        "labels = [idx2word[i] for i in range(start, plot_only)]\n",
        "plt.figure(figsize=(14, 8))\n",
        "plt.scatter(T[:, 0], T[:, 1])\n",
        "for label, x, y in zip(labels, T[:, 0], T[:, 1]):\n",
        "    plt.annotate(label, xy=(x+1, y+1), xytext=(0, 0), textcoords='offset points', ha='right', va='bottom')                      \t                        \n"
      ],
      "metadata": {
        "id": "1cWlIdr6WzNY",
        "colab": {
          "base_uri": "https://localhost:8080/",
          "height": 571
        },
        "outputId": "4a0df7cd-328b-4fec-cd48-e2581534a567"
      },
      "execution_count": null,
      "outputs": [
        {
          "output_type": "stream",
          "name": "stderr",
          "text": [
            "/usr/local/lib/python3.7/dist-packages/sklearn/manifold/_t_sne.py:793: FutureWarning: The default learning rate in TSNE will change from 200.0 to 'auto' in 1.2.\n",
            "  FutureWarning,\n",
            "/usr/local/lib/python3.7/dist-packages/sklearn/manifold/_t_sne.py:986: FutureWarning: The PCA initialization in TSNE will change to have the standard deviation of PC1 equal to 1e-4 in 1.2. This will ensure better convergence.\n",
            "  FutureWarning,\n"
          ]
        },
        {
          "output_type": "display_data",
          "data": {
            "text/plain": [
              "<Figure size 1008x576 with 1 Axes>"
            ],
            "image/png": "[encoded data removed]"
          },
          "metadata": {
            "needs_background": "light"
          }
        }
      ]
    },
    {
      "cell_type": "code",
      "source": [
        ""
      ],
      "metadata": {
        "id": "F6If5VnYoAIp"
      },
      "execution_count": null,
      "outputs": []
    }
  ]
}