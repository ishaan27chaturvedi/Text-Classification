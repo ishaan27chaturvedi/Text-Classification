{
  "cells": [
    {
      "cell_type": "markdown",
      "metadata": {
        "id": "view-in-github",
        "colab_type": "text"
      },
      "source": [
        "<a href=\"https://colab.research.google.com/github/ishaan27chaturvedi/Text-Classification/blob/main/LSTM_and_CNN_using_GloVe.ipynb\" target=\"_parent\"><img src=\"https://colab.research.google.com/assets/colab-badge.svg\" alt=\"Open In Colab\"/></a>"
      ]
    },
    {
      "cell_type": "markdown",
      "metadata": {
        "id": "hExKCzh6doIW"
      },
      "source": [
        "# Lab 3 - Comparing Classification Models\n",
        "\n",
        "\n",
        "\n",
        "---\n",
        "\n",
        "\n",
        "\n",
        "\n",
        "\n",
        "\n",
        "\n",
        "\n",
        "\n",
        "\n",
        "\n",
        "\n",
        "\n"
      ]
    },
    {
      "cell_type": "markdown",
      "metadata": {
        "id": "HixoFOoCIJ7V"
      },
      "source": [
        "In this session, we demonstrate how to solve a text classification task using simple \n",
        "feedforward neural network classifier. We will use IMDB Large Movie Review Dataset to train a binary classification model, able to predict whether a review is positive or negative. First, our network takes one-hot word vectors as input, averages them to make one vector and trains a \n",
        "fully-connected layer to predict the output. In the second part, we replace the one-hot vectors with the word embeddings and add a layer to see how much that improves the performance.\n",
        "\n",
        "We are going to use Keras Sequential API in this session. The Sequential API allows you to make models layer-by-layer. But it is not straightforward to define models where layers connect to more than just the previous and next layers. "
      ]
    },
    {
      "cell_type": "code",
      "execution_count": null,
      "metadata": {
        "id": "m8fpBfhBpupy"
      },
      "outputs": [],
      "source": [
        "import tensorflow.keras as tk\n",
        "import numpy as np\n",
        "from keras.layers import Lambda, GlobalAveragePooling1D, Dense, Embedding\n",
        "from keras import backend as K\n",
        "from keras.models import Sequential\n",
        "import matplotlib.pyplot as plt\n",
        "import keras"
      ]
    },
    {
      "cell_type": "markdown",
      "metadata": {
        "id": "cqvPQvgvPv1W"
      },
      "source": [
        "### Downloading data"
      ]
    },
    {
      "cell_type": "markdown",
      "metadata": {
        "id": "EundMtGPpCdf"
      },
      "source": [
        "The dataset we will be using is the IMDB Large Movie Review Dataset, which consists of 50000 labeled movie reviews. These are split into 25,000 reviews for training and 25,000 reviews for testing. The  dataset contains an even number of positive and negative reviews, so randomly guessing yields 50% accuracy. The data is preprocessed. For text classification, it is ususal to limit the size of the vocabulary to stop the dataset from becoming too sparse, creating possible overfitting. We keep the top 10,000 most frequently occurring words in the training data.\n"
      ]
    },
    {
      "cell_type": "code",
      "execution_count": null,
      "metadata": {
        "id": "NyuSzkafqNca"
      },
      "outputs": [],
      "source": [
        "imdb = tk.datasets.imdb\n",
        "(X_train, y_train), (X_test, y_test) = imdb.load_data(num_words=10000)"
      ]
    },
    {
      "cell_type": "markdown",
      "metadata": {
        "id": "6U4iCV9-rmay"
      },
      "source": [
        "We now can start playing around with the data, let’s first see the length:"
      ]
    },
    {
      "cell_type": "code",
      "execution_count": null,
      "metadata": {
        "id": "h-gjWRAuqg5s",
        "colab": {
          "base_uri": "https://localhost:8080/"
        },
        "outputId": "3f975c65-4f4b-466d-8911-d65d7a520657"
      },
      "outputs": [
        {
          "output_type": "stream",
          "name": "stdout",
          "text": [
            "Training entries: 25000, labels: 25000\n"
          ]
        }
      ],
      "source": [
        "print(\"Training entries: {}, labels: {}\".format(len(X_train), len(y_train)))"
      ]
    },
    {
      "cell_type": "markdown",
      "metadata": {
        "id": "MTRZrpcyr-4x"
      },
      "source": [
        "The  reviews have been converted to integers and each integer represents a  word in a dictionary. "
      ]
    },
    {
      "cell_type": "code",
      "execution_count": null,
      "metadata": {
        "id": "79Ev72Kgq4XL",
        "colab": {
          "base_uri": "https://localhost:8080/"
        },
        "outputId": "79b72f61-9635-41d3-bd99-576f1e669666"
      },
      "outputs": [
        {
          "output_type": "execute_result",
          "data": {
            "text/plain": [
              "[1, 14, 22, 16, 43, 530, 973, 1622, 1385, 65]"
            ]
          },
          "metadata": {},
          "execution_count": 6
        }
      ],
      "source": [
        " X_train[0][:10]"
      ]
    },
    {
      "cell_type": "markdown",
      "metadata": {
        "id": "Tvuu4KhStqei"
      },
      "source": [
        "We can convert integers back to words by querying a dictionary object that contains the integer to string mapping:"
      ]
    },
    {
      "cell_type": "code",
      "execution_count": null,
      "metadata": {
        "id": "gMCH1OoDrSNR",
        "colab": {
          "base_uri": "https://localhost:8080/"
        },
        "outputId": "60b13d7c-1e57-4a15-e8b7-c79eb0725d6d"
      },
      "outputs": [
        {
          "output_type": "stream",
          "name": "stdout",
          "text": [
            "Downloading data from https://storage.googleapis.com/tensorflow/tf-keras-datasets/imdb_word_index.json\n",
            "1646592/1641221 [==============================] - 0s 0us/step\n",
            "1654784/1641221 [==============================] - 0s 0us/step\n"
          ]
        }
      ],
      "source": [
        "word_index = imdb.get_word_index()"
      ]
    },
    {
      "cell_type": "markdown",
      "metadata": {
        "id": "5IreFXgruZot"
      },
      "source": [
        "Index 1 represents the beginning of the sentence and the index 2 is assigned to all unknown tokens. Index 0 will be used for padding."
      ]
    },
    {
      "cell_type": "code",
      "execution_count": null,
      "metadata": {
        "id": "abIb7Fe5u3GQ"
      },
      "outputs": [],
      "source": [
        "word_index = {k:(v+3) for k,v in word_index.items()}\n",
        "word_index[\"<PAD>\"] = 0\n",
        "word_index[\"<START>\"] = 1\n",
        "word_index[\"<UNK>\"] = 2  \n",
        "word_index[\"<UNUSED>\"] = 3"
      ]
    },
    {
      "cell_type": "markdown",
      "metadata": {
        "id": "9TnnSuspvC5b"
      },
      "source": [
        "To reverse key and values in a dictionary:"
      ]
    },
    {
      "cell_type": "code",
      "execution_count": null,
      "metadata": {
        "id": "nKOiVVXQu-_I"
      },
      "outputs": [],
      "source": [
        "reverse_word_index = dict([(value, key) for (key, value) in word_index.items()])"
      ]
    },
    {
      "cell_type": "markdown",
      "metadata": {
        "id": "ZmTJEm8xvUvW"
      },
      "source": [
        "To view a word:"
      ]
    },
    {
      "cell_type": "code",
      "execution_count": null,
      "metadata": {
        "id": "SqN5jgVKvJJZ",
        "colab": {
          "base_uri": "https://localhost:8080/",
          "height": 37
        },
        "outputId": "37a03240-0fc9-4898-96a9-39c88202478d"
      },
      "outputs": [
        {
          "output_type": "execute_result",
          "data": {
            "text/plain": [
              "'you'"
            ],
            "application/vnd.google.colaboratory.intrinsic+json": {
              "type": "string"
            }
          },
          "metadata": {},
          "execution_count": 10
        }
      ],
      "source": [
        "reverse_word_index[25]"
      ]
    },
    {
      "cell_type": "markdown",
      "metadata": {
        "id": "Q6QjrzgVvrYn"
      },
      "source": [
        "And to recreate the whole sentence from our training data we define decode_review:\n"
      ]
    },
    {
      "cell_type": "code",
      "execution_count": null,
      "metadata": {
        "id": "wvrKeMgxvWlv"
      },
      "outputs": [],
      "source": [
        "def decode_review(text):\n",
        "    return ' '.join([reverse_word_index.get(i, '?') for i in text])"
      ]
    },
    {
      "cell_type": "code",
      "execution_count": null,
      "metadata": {
        "id": "Sxg4YA_NvdRg",
        "colab": {
          "base_uri": "https://localhost:8080/",
          "height": 140
        },
        "outputId": "42042b49-9c9d-4ccd-ec51-dce8965631f3"
      },
      "outputs": [
        {
          "output_type": "execute_result",
          "data": {
            "text/plain": [
              "\"<START> french horror cinema has seen something of a revival over the last couple of years with great films such as inside and <UNK> romance <UNK> on to the scene <UNK> <UNK> the revival just slightly but stands head and shoulders over most modern horror titles and is surely one of the best french horror films ever made <UNK> was obviously shot on a low budget but this is made up for in far more ways than one by the originality of the film and this in turn is <UNK> by the excellent writing and acting that ensure the film is a winner the plot focuses on two main ideas prison and black magic the central character is a man named <UNK> sent to prison for fraud he is put in a cell with three others the quietly insane <UNK> body building <UNK> marcus and his retarded boyfriend daisy after a short while in the cell together they stumble upon a hiding place in the wall that contains an old <UNK> after <UNK> part of it they soon realise its magical powers and realise they may be able to use it to break through the prison walls br br black magic is a very interesting topic and i'm actually quite surprised that there aren't more films based on it as there's so much scope for things to do with it it's fair to say that <UNK> makes the best of it's <UNK> as despite it's <UNK> the film never actually feels restrained and manages to flow well throughout director eric <UNK> provides a great atmosphere for the film the fact that most of it takes place inside the central prison cell <UNK> that the film feels very claustrophobic and this immensely benefits the central idea of the prisoners wanting to use magic to break out of the cell it's very easy to get behind them it's often said that the unknown is the thing that really <UNK> people and this film proves that as the director <UNK> that we can never really be sure of exactly what is round the corner and this helps to ensure that <UNK> actually does manage to be quite frightening the film is memorable for a lot of reasons outside the central plot the characters are all very interesting in their own way and the fact that the book itself almost takes on its own character is very well done anyone worried that the film won't deliver by the end won't be disappointed either as the ending both makes sense and manages to be quite horrifying overall <UNK> is a truly great horror film and one of the best of the decade highly recommended viewing\""
            ],
            "application/vnd.google.colaboratory.intrinsic+json": {
              "type": "string"
            }
          },
          "metadata": {},
          "execution_count": 12
        }
      ],
      "source": [
        "decode_review(X_train[10])"
      ]
    },
    {
      "cell_type": "markdown",
      "metadata": {
        "id": "c8gIzXncfaJK"
      },
      "source": [
        "### Creating One-hot word vectors"
      ]
    },
    {
      "cell_type": "markdown",
      "metadata": {
        "id": "B9W4yb3rv_E0"
      },
      "source": [
        "It is  common to use one-hot representation as input in Natural Language Processing tasks. In Keras, the Embedding layer takes an index as an input and convert it to one-hot vector with the length of the vocabulary size. Then multiplies these vectors by a normal weight matrix. But there is no way to only get a one-hot vector as the output of a layer in Keras. To solve this we use Lambda() layer and a function that creates the one-hot layer. "
      ]
    },
    {
      "cell_type": "code",
      "execution_count": null,
      "metadata": {
        "id": "RPO_pK9zH4C5"
      },
      "outputs": [],
      "source": [
        "def OneHot(input_dim=None, input_length=None):\n",
        "    \n",
        "    if input_dim is None or input_length is None:\n",
        "        raise TypeError(\"input_dim or input_length is not set\")\n",
        "\n",
        "    \n",
        "    def _one_hot(x, num_classes):\n",
        "        return K.one_hot(K.cast(x, 'uint8'),\n",
        "                          num_classes=num_classes)\n",
        "\n",
        "    return Lambda(_one_hot,\n",
        "                  arguments={'num_classes': input_dim},\n",
        "                  input_shape=(input_length,))"
      ]
    },
    {
      "cell_type": "markdown",
      "metadata": {
        "id": "364d3MAw0ez9"
      },
      "source": [
        "input_dim refers to the length of the one-hot vector and input_length refers to the length of the input sequence. Since the input to K.one_hot should be an integer tensor, we cast x to one (Keras passes around float tensors by default).\n",
        "\n"
      ]
    },
    {
      "cell_type": "markdown",
      "metadata": {
        "id": "VHz76GNA2M4r"
      },
      "source": [
        " Each text sequence has in most cases different length of words. Here, we fill sequences with a pad token (0) to fit the size. This special tokens is then masked not to be accounted in averaging, loss calculation etc. We set the maximum length to 256."
      ]
    },
    {
      "cell_type": "markdown",
      "metadata": {
        "id": "9G_o7PsvgSFt"
      },
      "source": [
        "### Preparing input data"
      ]
    },
    {
      "cell_type": "code",
      "execution_count": null,
      "metadata": {
        "id": "jiFn7sd_wF5j"
      },
      "outputs": [],
      "source": [
        "VOCAB_SIZE = 10000\n",
        "MAX_SEQUENCE_LENGTH = 256\n",
        "\n",
        "X_train_enc = keras.preprocessing.sequence.pad_sequences(X_train,\n",
        "                                                        value=word_index[\"<PAD>\"],\n",
        "                                                        padding='pre',\n",
        "                                                        maxlen=256)\n",
        "\n",
        "X_test_enc = keras.preprocessing.sequence.pad_sequences(X_test,\n",
        "                                                       value=word_index[\"<PAD>\"],\n",
        "                                                       padding='pre',\n",
        "                                                       maxlen=256)"
      ]
    },
    {
      "cell_type": "markdown",
      "metadata": {
        "id": "kcjFH1wKF_7d"
      },
      "source": [
        "And to view a padded review:"
      ]
    },
    {
      "cell_type": "code",
      "execution_count": null,
      "metadata": {
        "id": "zwH4dcfW_a18",
        "colab": {
          "base_uri": "https://localhost:8080/"
        },
        "outputId": "dba31504-363f-418d-eab5-5d780076c290"
      },
      "outputs": [
        {
          "output_type": "stream",
          "name": "stdout",
          "text": [
            "[   0    0    0    0    0    0    0    0    0    0    0    0    0    0\n",
            "    0    0    0    0    0    0    0    0    0    0    0    0    0    0\n",
            "    0    0    0    0    0    0    0    0    0    0    0    0    0    0\n",
            "    0    0    0    0    0    0    0    0    0    0    0    0    0    0\n",
            "    0    0    0    0    0    0    0    0    0    0    0    1  194 1153\n",
            "  194 8255   78  228    5    6 1463 4369 5012  134   26    4  715    8\n",
            "  118 1634   14  394   20   13  119  954  189  102    5  207  110 3103\n",
            "   21   14   69  188    8   30   23    7    4  249  126   93    4  114\n",
            "    9 2300 1523    5  647    4  116    9   35 8163    4  229    9  340\n",
            " 1322    4  118    9    4  130 4901   19    4 1002    5   89   29  952\n",
            "   46   37    4  455    9   45   43   38 1543 1905  398    4 1649   26\n",
            " 6853    5  163   11 3215    2    4 1153    9  194  775    7 8255    2\n",
            "  349 2637  148  605    2 8003   15  123  125   68    2 6853   15  349\n",
            "  165 4362   98    5    4  228    9   43    2 1157   15  299  120    5\n",
            "  120  174   11  220  175  136   50    9 4373  228 8255    5    2  656\n",
            "  245 2350    5    4 9837  131  152  491   18    2   32 7464 1212   14\n",
            "    9    6  371   78   22  625   64 1382    9    8  168  145   23    4\n",
            " 1690   15   16    4 1355    5   28    6   52  154  462   33   89   78\n",
            "  285   16  145   95]\n",
            "\n",
            "Length:  25000\n"
          ]
        }
      ],
      "source": [
        "print(X_train_enc[1])\n",
        "print('\\nLength: ',len(X_train_enc))"
      ]
    },
    {
      "cell_type": "markdown",
      "metadata": {
        "id": "F1zcxFwNGepA"
      },
      "source": [
        "Now we want to build the neural network model. We  are going to have a hidden layer with 16 hidden units. \n",
        "\n",
        "First, we want to transform each index to an embedded vector and then average all vectors to a single one. It has been showed that unweighted average of word vectors outperforms many complicated networks that model semantic and syntactic compositionality. As an example you can take a look at this: (http://anthology.aclweb.org/P/P15/P15-1162.pdf)\n",
        "\n",
        "To average we need to ignore padded zeros:"
      ]
    },
    {
      "cell_type": "code",
      "execution_count": null,
      "metadata": {
        "id": "Yi04MLIvJOGZ"
      },
      "outputs": [],
      "source": [
        "class GlobalAveragePooling1DMasked(GlobalAveragePooling1D):\n",
        "    def call(self, x, mask=None):\n",
        "        if mask != None:\n",
        "            return K.sum(x, axis=1) / K.sum(mask, axis=1)\n",
        "        else:\n",
        "            return super().call(x)\n"
      ]
    },
    {
      "cell_type": "markdown",
      "metadata": {
        "id": "whgIIB5ggjna"
      },
      "source": [
        "# Model 1: Neural averaging network using one-hot vectors"
      ]
    },
    {
      "cell_type": "markdown",
      "metadata": {
        "id": "jlOLnlnSJgrU"
      },
      "source": [
        "The first layer is an one-hot layer. The second layer is to compute average on all word vectors in a sentence without considering padding. The  output vector is piped through a fully-connected layer. The last layer is connected with a single output node with the sigmoid activation function. The final value is a float between 0 and 1. \n",
        "The vocabulary count of the movie reviews (10000) is used as the input shape. At the end we visualize the model summary."
      ]
    },
    {
      "cell_type": "code",
      "execution_count": null,
      "metadata": {
        "id": "_Pn83gBbxiK7"
      },
      "outputs": [],
      "source": [
        "# your code goes here\n",
        "from keras.layers import Input, Embedding, Dense, LSTM, Lambda, GlobalAveragePooling1D\n",
        "from keras import backend as K\n",
        "from keras.models import Model\n",
        "\n",
        "EMBED_SIZE = 100\n",
        "\n",
        "input_layer = Input(shape=(MAX_SEQUENCE_LENGTH,))\n",
        "onehot_layer = OneHot(VOCAB_SIZE, EMBED_SIZE)(input_layer)\n",
        "pooling_layer = GlobalAveragePooling1DMasked()(onehot_layer)\n",
        "hidden_dense_layer = Dense(16)(pooling_layer)\n",
        "output_dense_layer = Dense(1, activation = 'sigmoid')(hidden_dense_layer)\n"
      ]
    },
    {
      "cell_type": "markdown",
      "metadata": {
        "id": "_Mz96xpCgvTj"
      },
      "source": [
        "### Training the model"
      ]
    },
    {
      "cell_type": "markdown",
      "metadata": {
        "id": "F3HbW_IKLqwT"
      },
      "source": [
        "To compile the model we need a loss function and an optimizer. We use binary_crossentropy loss function which is just a special case of categorical cross entropy. We also use Adam optimizer that can be used instead of the classical stochastic gradient descent procedure to update network weights iterative based in training data. You can read more about it here:\n",
        "(https://arxiv.org/abs/1412.6980v8\n",
        ")\n"
      ]
    },
    {
      "cell_type": "code",
      "execution_count": null,
      "metadata": {
        "id": "qh1PWTNMxjUw",
        "outputId": "daff7216-9d65-4920-e0c6-96f86e6cdd9e",
        "colab": {
          "base_uri": "https://localhost:8080/"
        }
      },
      "outputs": [
        {
          "output_type": "stream",
          "name": "stdout",
          "text": [
            "Model: \"model\"\n",
            "_________________________________________________________________\n",
            " Layer (type)                Output Shape              Param #   \n",
            "=================================================================\n",
            " input_1 (InputLayer)        [(None, 256)]             0         \n",
            "                                                                 \n",
            " lambda (Lambda)             (None, 256, 10000)        0         \n",
            "                                                                 \n",
            " global_average_pooling1d_ma  (None, 10000)            0         \n",
            " sked (GlobalAveragePooling1                                     \n",
            " DMasked)                                                        \n",
            "                                                                 \n",
            " dense (Dense)               (None, 16)                160016    \n",
            "                                                                 \n",
            " dense_1 (Dense)             (None, 1)                 17        \n",
            "                                                                 \n",
            "=================================================================\n",
            "Total params: 160,033\n",
            "Trainable params: 160,033\n",
            "Non-trainable params: 0\n",
            "_________________________________________________________________\n"
          ]
        }
      ],
      "source": [
        "# your code goes here\n",
        "model = Model(inputs=input_layer, outputs=output_dense_layer)\n",
        "model.compile('adam', 'binary_crossentropy', metrics=['accuracy'])\n",
        "\n",
        "model.summary()"
      ]
    },
    {
      "cell_type": "markdown",
      "source": [
        "*In the model, \n",
        "Add an input layer which accepts input with shape equal to 256 corresponding to the maximum length of padded sequences. \n",
        "The lambda layer which is used for the one hot representation which uses vocabulary size =10000 and embedding size =100 \n",
        "The pooling layer as defined in the function \n",
        "Then a dense layer. \n",
        "Finally, the output dense layer with sigmoid activation function since we are expecting a binary output.*\n"
      ],
      "metadata": {
        "id": "pQxAD1pIzIRq"
      }
    },
    {
      "cell_type": "markdown",
      "metadata": {
        "id": "E1jwQQqCN5Ia"
      },
      "source": [
        "When training, we want to check the accuracy of the model on data it hasn't seen before. So we create a validation set:"
      ]
    },
    {
      "cell_type": "code",
      "execution_count": null,
      "metadata": {
        "id": "f5lAqzQlxjSM"
      },
      "outputs": [],
      "source": [
        "X_val = np.array(X_train_enc[:10000])\n",
        "partial_X_train = np.array(X_train_enc[10000:])\n",
        "\n",
        "y_val = np.array(y_train[:10000])\n",
        "partial_y_train = np.array(y_train[10000:])"
      ]
    },
    {
      "cell_type": "markdown",
      "metadata": {
        "id": "E8Kpo5G3OJEY"
      },
      "source": [
        "Then we start to train the model for 40 epochs in mini-batches of 512 samples and monitor the model's loss and accuracy on the validation set."
      ]
    },
    {
      "cell_type": "code",
      "execution_count": null,
      "metadata": {
        "id": "99_z39KAxjPi",
        "outputId": "3925d2bf-ae5b-4ebb-cb66-c2b044559c27",
        "colab": {
          "base_uri": "https://localhost:8080/"
        }
      },
      "outputs": [
        {
          "output_type": "stream",
          "name": "stdout",
          "text": [
            "Epoch 1/40\n",
            "30/30 [==============================] - 6s 107ms/step - loss: 0.6923 - accuracy: 0.5303 - val_loss: 0.6916 - val_accuracy: 0.5115\n",
            "Epoch 2/40\n",
            "30/30 [==============================] - 3s 101ms/step - loss: 0.6902 - accuracy: 0.5796 - val_loss: 0.6892 - val_accuracy: 0.6580\n",
            "Epoch 3/40\n",
            "30/30 [==============================] - 3s 101ms/step - loss: 0.6875 - accuracy: 0.6566 - val_loss: 0.6864 - val_accuracy: 0.6565\n",
            "Epoch 4/40\n",
            "30/30 [==============================] - 3s 101ms/step - loss: 0.6841 - accuracy: 0.6646 - val_loss: 0.6827 - val_accuracy: 0.6674\n",
            "Epoch 5/40\n",
            "30/30 [==============================] - 3s 101ms/step - loss: 0.6800 - accuracy: 0.6649 - val_loss: 0.6786 - val_accuracy: 0.6642\n",
            "Epoch 6/40\n",
            "30/30 [==============================] - 3s 101ms/step - loss: 0.6752 - accuracy: 0.6740 - val_loss: 0.6741 - val_accuracy: 0.6713\n",
            "Epoch 7/40\n",
            "30/30 [==============================] - 3s 101ms/step - loss: 0.6704 - accuracy: 0.6677 - val_loss: 0.6688 - val_accuracy: 0.6710\n",
            "Epoch 8/40\n",
            "30/30 [==============================] - 3s 101ms/step - loss: 0.6642 - accuracy: 0.6834 - val_loss: 0.6633 - val_accuracy: 0.6777\n",
            "Epoch 9/40\n",
            "30/30 [==============================] - 3s 101ms/step - loss: 0.6583 - accuracy: 0.6861 - val_loss: 0.6577 - val_accuracy: 0.6810\n",
            "Epoch 10/40\n",
            "30/30 [==============================] - 3s 101ms/step - loss: 0.6521 - accuracy: 0.6883 - val_loss: 0.6517 - val_accuracy: 0.6834\n",
            "Epoch 11/40\n",
            "30/30 [==============================] - 3s 101ms/step - loss: 0.6459 - accuracy: 0.6902 - val_loss: 0.6457 - val_accuracy: 0.6850\n",
            "Epoch 12/40\n",
            "30/30 [==============================] - 3s 101ms/step - loss: 0.6394 - accuracy: 0.6919 - val_loss: 0.6397 - val_accuracy: 0.6875\n",
            "Epoch 13/40\n",
            "30/30 [==============================] - 3s 101ms/step - loss: 0.6331 - accuracy: 0.6940 - val_loss: 0.6338 - val_accuracy: 0.6920\n",
            "Epoch 14/40\n",
            "30/30 [==============================] - 3s 101ms/step - loss: 0.6268 - accuracy: 0.6967 - val_loss: 0.6279 - val_accuracy: 0.6925\n",
            "Epoch 15/40\n",
            "30/30 [==============================] - 3s 101ms/step - loss: 0.6206 - accuracy: 0.7001 - val_loss: 0.6223 - val_accuracy: 0.6994\n",
            "Epoch 16/40\n",
            "30/30 [==============================] - 3s 101ms/step - loss: 0.6146 - accuracy: 0.7051 - val_loss: 0.6166 - val_accuracy: 0.7027\n",
            "Epoch 17/40\n",
            "30/30 [==============================] - 3s 101ms/step - loss: 0.6087 - accuracy: 0.7089 - val_loss: 0.6111 - val_accuracy: 0.7003\n",
            "Epoch 18/40\n",
            "30/30 [==============================] - 3s 101ms/step - loss: 0.6037 - accuracy: 0.7095 - val_loss: 0.6061 - val_accuracy: 0.7004\n",
            "Epoch 19/40\n",
            "30/30 [==============================] - 3s 101ms/step - loss: 0.5976 - accuracy: 0.7149 - val_loss: 0.6007 - val_accuracy: 0.7100\n",
            "Epoch 20/40\n",
            "30/30 [==============================] - 3s 101ms/step - loss: 0.5923 - accuracy: 0.7176 - val_loss: 0.5960 - val_accuracy: 0.7156\n",
            "Epoch 21/40\n",
            "30/30 [==============================] - 3s 101ms/step - loss: 0.5872 - accuracy: 0.7193 - val_loss: 0.5910 - val_accuracy: 0.7165\n",
            "Epoch 22/40\n",
            "30/30 [==============================] - 3s 101ms/step - loss: 0.5823 - accuracy: 0.7221 - val_loss: 0.5863 - val_accuracy: 0.7186\n",
            "Epoch 23/40\n",
            "30/30 [==============================] - 3s 101ms/step - loss: 0.5777 - accuracy: 0.7247 - val_loss: 0.5818 - val_accuracy: 0.7212\n",
            "Epoch 24/40\n",
            "30/30 [==============================] - 3s 101ms/step - loss: 0.5729 - accuracy: 0.7265 - val_loss: 0.5776 - val_accuracy: 0.7228\n",
            "Epoch 25/40\n",
            "30/30 [==============================] - 3s 101ms/step - loss: 0.5687 - accuracy: 0.7283 - val_loss: 0.5736 - val_accuracy: 0.7258\n",
            "Epoch 26/40\n",
            "30/30 [==============================] - 3s 100ms/step - loss: 0.5644 - accuracy: 0.7309 - val_loss: 0.5701 - val_accuracy: 0.7245\n",
            "Epoch 27/40\n",
            "30/30 [==============================] - 3s 101ms/step - loss: 0.5611 - accuracy: 0.7328 - val_loss: 0.5662 - val_accuracy: 0.7283\n",
            "Epoch 28/40\n",
            "30/30 [==============================] - 3s 101ms/step - loss: 0.5571 - accuracy: 0.7336 - val_loss: 0.5628 - val_accuracy: 0.7306\n",
            "Epoch 29/40\n",
            "30/30 [==============================] - 3s 101ms/step - loss: 0.5536 - accuracy: 0.7377 - val_loss: 0.5597 - val_accuracy: 0.7323\n",
            "Epoch 30/40\n",
            "30/30 [==============================] - 3s 101ms/step - loss: 0.5503 - accuracy: 0.7394 - val_loss: 0.5567 - val_accuracy: 0.7332\n",
            "Epoch 31/40\n",
            "30/30 [==============================] - 3s 101ms/step - loss: 0.5476 - accuracy: 0.7395 - val_loss: 0.5539 - val_accuracy: 0.7346\n",
            "Epoch 32/40\n",
            "30/30 [==============================] - 3s 101ms/step - loss: 0.5444 - accuracy: 0.7425 - val_loss: 0.5510 - val_accuracy: 0.7375\n",
            "Epoch 33/40\n",
            "30/30 [==============================] - 3s 101ms/step - loss: 0.5417 - accuracy: 0.7444 - val_loss: 0.5484 - val_accuracy: 0.7376\n",
            "Epoch 34/40\n",
            "30/30 [==============================] - 3s 101ms/step - loss: 0.5393 - accuracy: 0.7455 - val_loss: 0.5474 - val_accuracy: 0.7354\n",
            "Epoch 35/40\n",
            "30/30 [==============================] - 3s 101ms/step - loss: 0.5370 - accuracy: 0.7449 - val_loss: 0.5443 - val_accuracy: 0.7401\n",
            "Epoch 36/40\n",
            "30/30 [==============================] - 3s 101ms/step - loss: 0.5346 - accuracy: 0.7469 - val_loss: 0.5418 - val_accuracy: 0.7424\n",
            "Epoch 37/40\n",
            "30/30 [==============================] - 3s 101ms/step - loss: 0.5325 - accuracy: 0.7469 - val_loss: 0.5398 - val_accuracy: 0.7445\n",
            "Epoch 38/40\n",
            "30/30 [==============================] - 3s 101ms/step - loss: 0.5307 - accuracy: 0.7469 - val_loss: 0.5380 - val_accuracy: 0.7451\n",
            "Epoch 39/40\n",
            "30/30 [==============================] - 3s 101ms/step - loss: 0.5292 - accuracy: 0.7469 - val_loss: 0.5366 - val_accuracy: 0.7437\n",
            "Epoch 40/40\n",
            "30/30 [==============================] - 3s 100ms/step - loss: 0.5272 - accuracy: 0.7486 - val_loss: 0.5348 - val_accuracy: 0.7452\n"
          ]
        }
      ],
      "source": [
        "history = model.fit(partial_X_train,\n",
        "                    partial_y_train,\n",
        "                    epochs=40,\n",
        "                    batch_size=512,\n",
        "                    validation_data=(X_val, y_val),\n",
        "                    verbose=1)"
      ]
    },
    {
      "cell_type": "markdown",
      "metadata": {
        "id": "i_9a_rybhG5J"
      },
      "source": [
        "### Evaluating the model"
      ]
    },
    {
      "cell_type": "markdown",
      "metadata": {
        "id": "EYLH8kOgOo9W"
      },
      "source": [
        "To evaulate the model on test data:"
      ]
    },
    {
      "cell_type": "code",
      "execution_count": null,
      "metadata": {
        "id": "CFMt2Q7b3taP",
        "outputId": "74b8e3cf-9292-4c58-bdb9-a4fe11a349df",
        "colab": {
          "base_uri": "https://localhost:8080/"
        }
      },
      "outputs": [
        {
          "output_type": "stream",
          "name": "stdout",
          "text": [
            "782/782 [==============================] - 5s 6ms/step - loss: 0.5347 - accuracy: 0.7426\n"
          ]
        }
      ],
      "source": [
        "results = model.evaluate(X_test_enc, y_test)"
      ]
    },
    {
      "cell_type": "code",
      "execution_count": null,
      "metadata": {
        "id": "9RrKiPHcAmQU",
        "outputId": "cb97ac07-6ad0-41ae-af37-ba352f63954c",
        "colab": {
          "base_uri": "https://localhost:8080/"
        }
      },
      "outputs": [
        {
          "output_type": "stream",
          "name": "stdout",
          "text": [
            "[0.5346807241439819, 0.7426000237464905]\n"
          ]
        }
      ],
      "source": [
        "print(results)\n",
        "# loss, accuracay "
      ]
    },
    {
      "cell_type": "markdown",
      "metadata": {
        "id": "pW7IpHxMO6qp"
      },
      "source": [
        "Our first model accuracy using one-hot vectors is ~68%\n",
        "\n",
        "\n",
        "\n",
        "\n",
        "\n"
      ]
    },
    {
      "cell_type": "markdown",
      "metadata": {
        "id": "OwZk_yoWhPJB"
      },
      "source": [
        "### Plotting the accuracy graph"
      ]
    },
    {
      "cell_type": "markdown",
      "metadata": {
        "id": "JIDPH1J7PMzN"
      },
      "source": [
        "To plot a graph of accuracy and loss over time we can use Matplotlib:"
      ]
    },
    {
      "cell_type": "code",
      "execution_count": null,
      "metadata": {
        "scrolled": true,
        "id": "3svxWVeLja_L",
        "outputId": "4426177b-dac2-4c29-f8ef-9955729e296f",
        "colab": {
          "base_uri": "https://localhost:8080/"
        }
      },
      "outputs": [
        {
          "output_type": "stream",
          "name": "stdout",
          "text": [
            "Collecting plot_keras_history\n",
            "  Downloading plot_keras_history-1.1.30.tar.gz (8.6 kB)\n",
            "Requirement already satisfied: matplotlib in /usr/local/lib/python3.7/dist-packages (from plot_keras_history) (3.2.2)\n",
            "Requirement already satisfied: pandas in /usr/local/lib/python3.7/dist-packages (from plot_keras_history) (1.3.5)\n",
            "Requirement already satisfied: scipy in /usr/local/lib/python3.7/dist-packages (from plot_keras_history) (1.4.1)\n",
            "Collecting sanitize_ml_labels>=1.0.28\n",
            "  Downloading sanitize_ml_labels-1.0.29.tar.gz (7.4 kB)\n",
            "Collecting compress_json\n",
            "  Downloading compress_json-1.0.4.tar.gz (4.7 kB)\n",
            "Requirement already satisfied: python-dateutil>=2.1 in /usr/local/lib/python3.7/dist-packages (from matplotlib->plot_keras_history) (2.8.2)\n",
            "Requirement already satisfied: numpy>=1.11 in /usr/local/lib/python3.7/dist-packages (from matplotlib->plot_keras_history) (1.21.5)\n",
            "Requirement already satisfied: cycler>=0.10 in /usr/local/lib/python3.7/dist-packages (from matplotlib->plot_keras_history) (0.11.0)\n",
            "Requirement already satisfied: pyparsing!=2.0.4,!=2.1.2,!=2.1.6,>=2.0.1 in /usr/local/lib/python3.7/dist-packages (from matplotlib->plot_keras_history) (3.0.7)\n",
            "Requirement already satisfied: kiwisolver>=1.0.1 in /usr/local/lib/python3.7/dist-packages (from matplotlib->plot_keras_history) (1.3.2)\n",
            "Requirement already satisfied: six>=1.5 in /usr/local/lib/python3.7/dist-packages (from python-dateutil>=2.1->matplotlib->plot_keras_history) (1.15.0)\n",
            "Requirement already satisfied: pytz>=2017.3 in /usr/local/lib/python3.7/dist-packages (from pandas->plot_keras_history) (2018.9)\n",
            "Building wheels for collected packages: plot-keras-history, sanitize-ml-labels, compress-json\n",
            "  Building wheel for plot-keras-history (setup.py) ... \u001b[?25l\u001b[?25hdone\n",
            "  Created wheel for plot-keras-history: filename=plot_keras_history-1.1.30-py3-none-any.whl size=8794 sha256=b458ecc796ff9c8df213a6ae7d3171f1bd575c5ae40a984b4c2af1cd7879d138\n",
            "  Stored in directory: /root/.cache/pip/wheels/b0/60/47/8c5aa37c06be5e97879ec467bc2e6a30b315d95f662c63a503\n",
            "  Building wheel for sanitize-ml-labels (setup.py) ... \u001b[?25l\u001b[?25hdone\n",
            "  Created wheel for sanitize-ml-labels: filename=sanitize_ml_labels-1.0.29-py3-none-any.whl size=7878 sha256=9ecd7c793f172b8747f5fcda272e417467ea4ae22bfaeb17612dff7f1c59d658\n",
            "  Stored in directory: /root/.cache/pip/wheels/c2/f5/71/d1c459da10abec864a1979b449edbf37d4a82ab3e38a3625a8\n",
            "  Building wheel for compress-json (setup.py) ... \u001b[?25l\u001b[?25hdone\n",
            "  Created wheel for compress-json: filename=compress_json-1.0.4-py3-none-any.whl size=4588 sha256=47fa93684d30221f3f0b6880ad2f46e80cf8906a18a879415a7fb8986b5b09f8\n",
            "  Stored in directory: /root/.cache/pip/wheels/1e/ef/1e/5d403c5632b0462471a8d26049d0c138134d0255ec60ce4c14\n",
            "Successfully built plot-keras-history sanitize-ml-labels compress-json\n",
            "Installing collected packages: compress-json, sanitize-ml-labels, plot-keras-history\n",
            "Successfully installed compress-json-1.0.4 plot-keras-history-1.1.30 sanitize-ml-labels-1.0.29\n"
          ]
        }
      ],
      "source": [
        "pip install plot_keras_history"
      ]
    },
    {
      "cell_type": "code",
      "execution_count": null,
      "metadata": {
        "id": "LS9k2vvSAqB7",
        "outputId": "fcf29e95-0287-4d33-a43e-9e494c5f1450",
        "colab": {
          "base_uri": "https://localhost:8080/",
          "height": 385
        }
      },
      "outputs": [
        {
          "output_type": "display_data",
          "data": {
            "text/plain": [
              "<Figure size 720x360 with 2 Axes>"
            ],
            "image/png": "[encoded data removed]"
          },
          "metadata": {
            "needs_background": "light"
          }
        }
      ],
      "source": [
        "\n",
        "from plot_keras_history import plot_history\n",
        "import matplotlib.pyplot as plt\n",
        "plot_history(history.history, path=\"standard.png\")\n",
        "plt.show()"
      ]
    },
    {
      "cell_type": "markdown",
      "source": [
        "*The loss and accuracy are consistent for both the training and validation data which is a good sign, as it shows that the model has not ovefit. Also, the accuracy of ~75% is good and higher than expected (68%)*"
      ],
      "metadata": {
        "id": "HuhAyR5bzRl2"
      }
    },
    {
      "cell_type": "markdown",
      "metadata": {
        "id": "a7OwOQw4h8RX"
      },
      "source": [
        "# Model 2: Neural averaging network using embedding layer"
      ]
    },
    {
      "cell_type": "markdown",
      "metadata": {
        "id": "l-QzOMO_P4jc"
      },
      "source": [
        "Now instead of one-hot vectors, we want to use embedding. We change our first layer in model1 to an Embedding layer. This layer takes the integer-encoded vocabulary and looks up the embedding vector for each word-index. These vectors are learned as the model trains. The vectors add a dimension to the output array. The resulting dimensions are: (batch, sequence, embedding)."
      ]
    },
    {
      "cell_type": "code",
      "execution_count": null,
      "metadata": {
        "id": "MFrCsL-NBFVL",
        "outputId": "2c712f5a-9f47-4d1b-ee43-b94441f16e2a",
        "colab": {
          "base_uri": "https://localhost:8080/"
        }
      },
      "outputs": [
        {
          "output_type": "stream",
          "name": "stdout",
          "text": [
            "Model: \"model_1\"\n",
            "_________________________________________________________________\n",
            " Layer (type)                Output Shape              Param #   \n",
            "=================================================================\n",
            " input_2 (InputLayer)        [(None, 256)]             0         \n",
            "                                                                 \n",
            " embed_layer (Embedding)     (None, 256, 100)          1000000   \n",
            "                                                                 \n",
            " global_average_pooling1d_ma  (None, 100)              0         \n",
            " sked_1 (GlobalAveragePoolin                                     \n",
            " g1DMasked)                                                      \n",
            "                                                                 \n",
            " dense_2 (Dense)             (None, 16)                1616      \n",
            "                                                                 \n",
            " dense_3 (Dense)             (None, 1)                 17        \n",
            "                                                                 \n",
            "=================================================================\n",
            "Total params: 1,001,633\n",
            "Trainable params: 1,001,633\n",
            "Non-trainable params: 0\n",
            "_________________________________________________________________\n"
          ]
        }
      ],
      "source": [
        "# your code goes here\n",
        "\n",
        "input_layer = Input(shape=(MAX_SEQUENCE_LENGTH,))\n",
        "embedding_layer = Embedding(input_length=MAX_SEQUENCE_LENGTH, input_dim=VOCAB_SIZE, output_dim=EMBED_SIZE, name='embed_layer',\n",
        "                        embeddings_initializer='glorot_uniform')(input_layer)\n",
        "pooling_layer = GlobalAveragePooling1DMasked()(embedding_layer)\n",
        "hidden_dense_layer = Dense(16)(pooling_layer)\n",
        "output_dense_layer = Dense(1, activation = 'sigmoid')(hidden_dense_layer)\n",
        "\n",
        "model2 = Model(inputs=input_layer, outputs=output_dense_layer)\n",
        "model2.compile('adam', 'binary_crossentropy', metrics=['accuracy'])\n",
        "\n",
        "model2.summary()"
      ]
    },
    {
      "cell_type": "markdown",
      "source": [
        "*This model takes an embedding layer instead of a one hot encoded layer*"
      ],
      "metadata": {
        "id": "5iSbeFAZzgoV"
      }
    },
    {
      "cell_type": "code",
      "execution_count": null,
      "metadata": {
        "id": "M9qON-ddja_M",
        "outputId": "b13860e4-b6ef-4f98-ff03-4336688a831f",
        "colab": {
          "base_uri": "https://localhost:8080/"
        }
      },
      "outputs": [
        {
          "output_type": "stream",
          "name": "stdout",
          "text": [
            "Epoch 1/40\n",
            "30/30 [==============================] - 1s 14ms/step - loss: 0.6860 - accuracy: 0.6710 - val_loss: 0.6741 - val_accuracy: 0.7155\n",
            "Epoch 2/40\n",
            "30/30 [==============================] - 0s 9ms/step - loss: 0.6485 - accuracy: 0.7346 - val_loss: 0.6204 - val_accuracy: 0.7404\n",
            "Epoch 3/40\n",
            "30/30 [==============================] - 0s 9ms/step - loss: 0.5740 - accuracy: 0.7779 - val_loss: 0.5404 - val_accuracy: 0.7830\n",
            "Epoch 4/40\n",
            "30/30 [==============================] - 0s 9ms/step - loss: 0.4827 - accuracy: 0.8226 - val_loss: 0.4593 - val_accuracy: 0.8232\n",
            "Epoch 5/40\n",
            "30/30 [==============================] - 0s 9ms/step - loss: 0.4003 - accuracy: 0.8589 - val_loss: 0.3964 - val_accuracy: 0.8488\n",
            "Epoch 6/40\n",
            "30/30 [==============================] - 0s 9ms/step - loss: 0.3398 - accuracy: 0.8807 - val_loss: 0.3570 - val_accuracy: 0.8600\n",
            "Epoch 7/40\n",
            "30/30 [==============================] - 0s 9ms/step - loss: 0.2960 - accuracy: 0.8942 - val_loss: 0.3314 - val_accuracy: 0.8702\n",
            "Epoch 8/40\n",
            "30/30 [==============================] - 0s 10ms/step - loss: 0.2628 - accuracy: 0.9053 - val_loss: 0.3148 - val_accuracy: 0.8748\n",
            "Epoch 9/40\n",
            "30/30 [==============================] - 0s 11ms/step - loss: 0.2362 - accuracy: 0.9163 - val_loss: 0.3024 - val_accuracy: 0.8819\n",
            "Epoch 10/40\n",
            "30/30 [==============================] - 0s 9ms/step - loss: 0.2132 - accuracy: 0.9250 - val_loss: 0.2944 - val_accuracy: 0.8816\n",
            "Epoch 11/40\n",
            "30/30 [==============================] - 0s 9ms/step - loss: 0.1933 - accuracy: 0.9347 - val_loss: 0.2903 - val_accuracy: 0.8829\n",
            "Epoch 12/40\n",
            "30/30 [==============================] - 0s 9ms/step - loss: 0.1764 - accuracy: 0.9417 - val_loss: 0.2883 - val_accuracy: 0.8843\n",
            "Epoch 13/40\n",
            "30/30 [==============================] - 0s 9ms/step - loss: 0.1614 - accuracy: 0.9491 - val_loss: 0.2892 - val_accuracy: 0.8839\n",
            "Epoch 14/40\n",
            "30/30 [==============================] - 0s 9ms/step - loss: 0.1486 - accuracy: 0.9538 - val_loss: 0.2898 - val_accuracy: 0.8853\n",
            "Epoch 15/40\n",
            "30/30 [==============================] - 0s 9ms/step - loss: 0.1372 - accuracy: 0.9563 - val_loss: 0.2935 - val_accuracy: 0.8843\n",
            "Epoch 16/40\n",
            "30/30 [==============================] - 0s 9ms/step - loss: 0.1257 - accuracy: 0.9628 - val_loss: 0.2989 - val_accuracy: 0.8815\n",
            "Epoch 17/40\n",
            "30/30 [==============================] - 0s 9ms/step - loss: 0.1150 - accuracy: 0.9674 - val_loss: 0.3023 - val_accuracy: 0.8836\n",
            "Epoch 18/40\n",
            "30/30 [==============================] - 0s 9ms/step - loss: 0.1055 - accuracy: 0.9715 - val_loss: 0.3082 - val_accuracy: 0.8835\n",
            "Epoch 19/40\n",
            "30/30 [==============================] - 0s 9ms/step - loss: 0.0971 - accuracy: 0.9741 - val_loss: 0.3155 - val_accuracy: 0.8817\n",
            "Epoch 20/40\n",
            "30/30 [==============================] - 0s 9ms/step - loss: 0.0898 - accuracy: 0.9762 - val_loss: 0.3243 - val_accuracy: 0.8798\n",
            "Epoch 21/40\n",
            "30/30 [==============================] - 0s 9ms/step - loss: 0.0824 - accuracy: 0.9791 - val_loss: 0.3328 - val_accuracy: 0.8799\n",
            "Epoch 22/40\n",
            "30/30 [==============================] - 0s 9ms/step - loss: 0.0755 - accuracy: 0.9819 - val_loss: 0.3442 - val_accuracy: 0.8776\n",
            "Epoch 23/40\n",
            "30/30 [==============================] - 0s 9ms/step - loss: 0.0694 - accuracy: 0.9837 - val_loss: 0.3537 - val_accuracy: 0.8768\n",
            "Epoch 24/40\n",
            "30/30 [==============================] - 0s 9ms/step - loss: 0.0638 - accuracy: 0.9859 - val_loss: 0.3627 - val_accuracy: 0.8788\n",
            "Epoch 25/40\n",
            "30/30 [==============================] - 0s 9ms/step - loss: 0.0588 - accuracy: 0.9883 - val_loss: 0.3741 - val_accuracy: 0.8767\n",
            "Epoch 26/40\n",
            "30/30 [==============================] - 0s 9ms/step - loss: 0.0537 - accuracy: 0.9895 - val_loss: 0.3851 - val_accuracy: 0.8766\n",
            "Epoch 27/40\n",
            "30/30 [==============================] - 0s 9ms/step - loss: 0.0496 - accuracy: 0.9909 - val_loss: 0.3967 - val_accuracy: 0.8753\n",
            "Epoch 28/40\n",
            "30/30 [==============================] - 0s 9ms/step - loss: 0.0454 - accuracy: 0.9920 - val_loss: 0.4093 - val_accuracy: 0.8732\n",
            "Epoch 29/40\n",
            "30/30 [==============================] - 0s 9ms/step - loss: 0.0415 - accuracy: 0.9931 - val_loss: 0.4207 - val_accuracy: 0.8739\n",
            "Epoch 30/40\n",
            "30/30 [==============================] - 0s 9ms/step - loss: 0.0383 - accuracy: 0.9942 - val_loss: 0.4368 - val_accuracy: 0.8696\n",
            "Epoch 31/40\n",
            "30/30 [==============================] - 0s 9ms/step - loss: 0.0352 - accuracy: 0.9947 - val_loss: 0.4457 - val_accuracy: 0.8710\n",
            "Epoch 32/40\n",
            "30/30 [==============================] - 0s 9ms/step - loss: 0.0328 - accuracy: 0.9953 - val_loss: 0.4621 - val_accuracy: 0.8686\n",
            "Epoch 33/40\n",
            "30/30 [==============================] - 0s 9ms/step - loss: 0.0295 - accuracy: 0.9961 - val_loss: 0.4720 - val_accuracy: 0.8686\n",
            "Epoch 34/40\n",
            "30/30 [==============================] - 0s 9ms/step - loss: 0.0270 - accuracy: 0.9967 - val_loss: 0.4841 - val_accuracy: 0.8680\n",
            "Epoch 35/40\n",
            "30/30 [==============================] - 0s 9ms/step - loss: 0.0249 - accuracy: 0.9973 - val_loss: 0.4995 - val_accuracy: 0.8669\n",
            "Epoch 36/40\n",
            "30/30 [==============================] - 0s 9ms/step - loss: 0.0228 - accuracy: 0.9973 - val_loss: 0.5107 - val_accuracy: 0.8678\n",
            "Epoch 37/40\n",
            "30/30 [==============================] - 0s 9ms/step - loss: 0.0206 - accuracy: 0.9981 - val_loss: 0.5231 - val_accuracy: 0.8672\n",
            "Epoch 38/40\n",
            "30/30 [==============================] - 0s 9ms/step - loss: 0.0195 - accuracy: 0.9983 - val_loss: 0.5374 - val_accuracy: 0.8663\n",
            "Epoch 39/40\n",
            "30/30 [==============================] - 0s 9ms/step - loss: 0.0180 - accuracy: 0.9984 - val_loss: 0.5513 - val_accuracy: 0.8659\n",
            "Epoch 40/40\n",
            "30/30 [==============================] - 0s 9ms/step - loss: 0.0163 - accuracy: 0.9989 - val_loss: 0.5609 - val_accuracy: 0.8656\n"
          ]
        }
      ],
      "source": [
        "history = model2.fit(partial_X_train,\n",
        "                    partial_y_train,\n",
        "                    epochs=40,\n",
        "                    batch_size=512,\n",
        "                    validation_data=(X_val, y_val),\n",
        "                    verbose=1)"
      ]
    },
    {
      "cell_type": "code",
      "execution_count": null,
      "metadata": {
        "id": "I4zIPJDcTPq3",
        "outputId": "8b87a741-82d6-437e-a3bd-79f88002caf8",
        "colab": {
          "base_uri": "https://localhost:8080/"
        }
      },
      "outputs": [
        {
          "output_type": "stream",
          "name": "stdout",
          "text": [
            "782/782 [==============================] - 2s 2ms/step - loss: 0.5951 - accuracy: 0.8535\n"
          ]
        }
      ],
      "source": [
        "results = model2.evaluate(X_test_enc, y_test)"
      ]
    },
    {
      "cell_type": "code",
      "execution_count": null,
      "metadata": {
        "id": "waS96edDTRyL",
        "outputId": "caa6a8dc-8846-4184-a6b3-2443fc0a6258",
        "colab": {
          "base_uri": "https://localhost:8080/"
        }
      },
      "outputs": [
        {
          "output_type": "stream",
          "name": "stdout",
          "text": [
            "[0.595098078250885, 0.8535199761390686]\n"
          ]
        }
      ],
      "source": [
        "print (results)"
      ]
    },
    {
      "cell_type": "markdown",
      "source": [
        "*The models performance has significantly jumped up from 74% to 85.3%*"
      ],
      "metadata": {
        "id": "5dvH_5PCz0C5"
      }
    },
    {
      "cell_type": "code",
      "source": [
        "plot_history(history.history, path=\"standard.png\")\n",
        "plt.show()"
      ],
      "metadata": {
        "colab": {
          "base_uri": "https://localhost:8080/",
          "height": 385
        },
        "id": "aczK_MI1np6S",
        "outputId": "a8af6afe-fab9-48e5-a206-2f133de68153"
      },
      "execution_count": null,
      "outputs": [
        {
          "output_type": "display_data",
          "data": {
            "text/plain": [
              "<Figure size 720x360 with 2 Axes>"
            ],
            "image/png": "[encoded data removed]"
          },
          "metadata": {
            "needs_background": "light"
          }
        }
      ]
    },
    {
      "cell_type": "markdown",
      "metadata": {
        "id": "7FBpTc_rXGvQ"
      },
      "source": [
        "The accuracy of model2 is 87%. Using Embedding layer instead of one-hot layer improved the performance."
      ]
    },
    {
      "cell_type": "markdown",
      "metadata": {
        "id": "--020hfG6rN2"
      },
      "source": [
        "# Model 3: Using pre-trained word embeddings"
      ]
    },
    {
      "cell_type": "markdown",
      "metadata": {
        "id": "7GdY2-64YG1B"
      },
      "source": [
        "### Preparing pre-trained word embeddings (GLOVE)"
      ]
    },
    {
      "cell_type": "markdown",
      "metadata": {
        "id": "J4gBeOyi4gkM"
      },
      "source": [
        "The Embedding layer can be used to load a pre-trained word embedding model. We are going to use GloVe embeddings, which you can read about it here (https://nlp.stanford.edu/projects/glove/). GloVe stands for \"Global Vectors for Word Representation\". It's a somewhat popular embedding technique based on factorizing a matrix of word co-occurence statistics. You can download GloVe and we can seed the Keras Embedding layer with weights from the pre-trained embedding for the words in your dataset.\n",
        "First, we need to read GloVe and map words to GloVe:\n"
      ]
    },
    {
      "cell_type": "code",
      "execution_count": null,
      "metadata": {
        "id": "f_PypdqG9Iis"
      },
      "outputs": [],
      "source": [
        "def readGloveFile(gloveFile):\n",
        "    with open(gloveFile, 'r') as f:\n",
        "        wordToGlove = {}  \n",
        "        wordToIndex = {}  \n",
        "        indexToWord = {}  \n",
        "\n",
        "        for line in f:\n",
        "            record = line.strip().split()\n",
        "            token = record[0] \n",
        "            wordToGlove[token] = np.array(record[1:], dtype=np.float64) \n",
        "            \n",
        "        tokens = sorted(wordToGlove.keys())\n",
        "        for idx, tok in enumerate(tokens):\n",
        "            kerasIdx = idx + 1  \n",
        "            wordToIndex[tok] = kerasIdx \n",
        "            indexToWord[kerasIdx] = tok \n",
        "\n",
        "    return wordToIndex, indexToWord, wordToGlove"
      ]
    },
    {
      "cell_type": "markdown",
      "metadata": {
        "id": "ZcIZ3dq59bCh"
      },
      "source": [
        "Now, we create our pre-trained Embedding layer:"
      ]
    },
    {
      "cell_type": "code",
      "execution_count": null,
      "metadata": {
        "id": "gembn7VM3ex8"
      },
      "outputs": [],
      "source": [
        "from keras.initializers import Constant\n",
        "\n",
        "def createPretrainedEmbeddingLayer(wordToGlove, wordToIndex, isTrainable):\n",
        "    vocabLen = len(wordToIndex) + 1  \n",
        "    embDim = next(iter(wordToGlove.values())).shape[0]  \n",
        "   \n",
        "    embeddingMatrix = np.zeros((vocabLen, embDim))  \n",
        "    for word, index in wordToIndex.items():\n",
        "        embeddingMatrix[index, :] = wordToGlove[word] \n",
        "\n",
        "    embeddingLayer = Embedding(vocabLen, embDim, embeddings_initializer=Constant(embeddingMatrix), trainable=isTrainable, name='GloVe_Embeddings')\n",
        "    return embeddingLayer"
      ]
    },
    {
      "cell_type": "code",
      "execution_count": null,
      "metadata": {
        "colab": {
          "base_uri": "https://localhost:8080/"
        },
        "id": "8OC1wuctdFvA",
        "outputId": "7df77f90-227f-4998-fe69-a96a2e4f0b1c"
      },
      "outputs": [
        {
          "output_type": "stream",
          "name": "stdout",
          "text": [
            "--2022-03-12 14:55:01--  http://nlp.stanford.edu/data/glove.6B.zip\n",
            "Resolving nlp.stanford.edu (nlp.stanford.edu)... 171.64.67.140\n",
            "Connecting to nlp.stanford.edu (nlp.stanford.edu)|171.64.67.140|:80... connected.\n",
            "HTTP request sent, awaiting response... 302 Found\n",
            "Location: https://nlp.stanford.edu/data/glove.6B.zip [following]\n",
            "--2022-03-12 14:55:02--  https://nlp.stanford.edu/data/glove.6B.zip\n",
            "Connecting to nlp.stanford.edu (nlp.stanford.edu)|171.64.67.140|:443... connected.\n",
            "HTTP request sent, awaiting response... 301 Moved Permanently\n",
            "Location: http://downloads.cs.stanford.edu/nlp/data/glove.6B.zip [following]\n",
            "--2022-03-12 14:55:02--  http://downloads.cs.stanford.edu/nlp/data/glove.6B.zip\n",
            "Resolving downloads.cs.stanford.edu (downloads.cs.stanford.edu)... 171.64.64.22\n",
            "Connecting to downloads.cs.stanford.edu (downloads.cs.stanford.edu)|171.64.64.22|:80... connected.\n",
            "HTTP request sent, awaiting response... 200 OK\n",
            "Length: 862182613 (822M) [application/zip]\n",
            "Saving to: ‘glove.6B.zip’\n",
            "\n",
            "glove.6B.zip        100%[===================>] 822.24M  5.20MB/s    in 2m 40s  \n",
            "\n",
            "2022-03-12 14:57:42 (5.13 MB/s) - ‘glove.6B.zip’ saved [862182613/862182613]\n",
            "\n",
            "Archive:  /content/glove.6B.zip\n",
            "  inflating: glove.6B.50d.txt        \n",
            "  inflating: glove.6B.100d.txt       \n",
            "  inflating: glove.6B.200d.txt       \n",
            "  inflating: glove.6B.300d.txt       \n"
          ]
        }
      ],
      "source": [
        "!wget http://nlp.stanford.edu/data/glove.6B.zip\n",
        "!unzip '/content/glove.6B.zip'"
      ]
    },
    {
      "cell_type": "markdown",
      "metadata": {
        "id": "HGxciLK4-xOr"
      },
      "source": [
        "We freeze the weights. To create the model: "
      ]
    },
    {
      "cell_type": "code",
      "execution_count": null,
      "metadata": {
        "colab": {
          "base_uri": "https://localhost:8080/"
        },
        "id": "PZCPUM0W_Drc",
        "outputId": "b9d75b1a-0e9f-4a37-c42e-1099fde15b48"
      },
      "outputs": [
        {
          "output_type": "stream",
          "name": "stdout",
          "text": [
            "Size of Embedding:  300\n"
          ]
        }
      ],
      "source": [
        "# wordToIndex,indexToWord,wordToGlove=readGloveFile('/content/glove.6B.50d.txt')\n",
        "# wordToIndex,indexToWord,wordToGlove=readGloveFile('/content/glove.6B.100d.txt')\n",
        "wordToIndex,indexToWord,wordToGlove=readGloveFile('/content/glove.6B.300d.txt')\n",
        "\n",
        "# vocabLen = len(wordToIndex) + 1 \n",
        "\n",
        "EMBED_SIZE = next(iter(wordToGlove.values())).shape[0]\n",
        "print('Size of Embedding: ',EMBED_SIZE)\n",
        "\n",
        "embeddingLayer=createPretrainedEmbeddingLayer(wordToGlove,wordToIndex,isTrainable=False)"
      ]
    },
    {
      "cell_type": "markdown",
      "metadata": {
        "id": "vdZ4nl08vp9A"
      },
      "source": [
        "## Model 3-1: Neural bag of words using pre-trained word embeddings"
      ]
    },
    {
      "cell_type": "markdown",
      "metadata": {
        "id": "2gyCwXFj_R5w"
      },
      "source": [
        "Now we change our model to use GloVe:"
      ]
    },
    {
      "cell_type": "code",
      "execution_count": null,
      "metadata": {
        "colab": {
          "base_uri": "https://localhost:8080/"
        },
        "id": "VICS9rY8C7KH",
        "outputId": "e293ad79-8c30-4c43-a20f-f0a44fd9d06b"
      },
      "outputs": [
        {
          "output_type": "stream",
          "name": "stdout",
          "text": [
            "Model: \"model_2\"\n",
            "_________________________________________________________________\n",
            " Layer (type)                Output Shape              Param #   \n",
            "=================================================================\n",
            " input_3 (InputLayer)        [(None, 256)]             0         \n",
            "                                                                 \n",
            " GloVe_Embeddings (Embedding  (None, 256, 300)         120000300 \n",
            " )                                                               \n",
            "                                                                 \n",
            " global_average_pooling1d_ma  (None, 300)              0         \n",
            " sked_2 (GlobalAveragePoolin                                     \n",
            " g1DMasked)                                                      \n",
            "                                                                 \n",
            " dense_4 (Dense)             (None, 16)                4816      \n",
            "                                                                 \n",
            " dense_5 (Dense)             (None, 1)                 17        \n",
            "                                                                 \n",
            "=================================================================\n",
            "Total params: 120,005,133\n",
            "Trainable params: 4,833\n",
            "Non-trainable params: 120,000,300\n",
            "_________________________________________________________________\n"
          ]
        }
      ],
      "source": [
        "# Inspect model performance with 1 hidden layer, pre-trained embeddings\n",
        "# your code goes here\n",
        "\n",
        "from keras.layers import Input, Embedding, Dense, Lambda, GlobalAveragePooling1D\n",
        "from keras import backend as K\n",
        "from keras.models import Model\n",
        "\n",
        "\n",
        "\n",
        "input_layer = Input(shape=(MAX_SEQUENCE_LENGTH,))\n",
        "embedding_layer = embeddingLayer(input_layer)\n",
        "pooling_layer = GlobalAveragePooling1DMasked()(embedding_layer)\n",
        "hidden_dense_layer = Dense(16)(pooling_layer)\n",
        "output_dense_layer = Dense(1, activation = 'sigmoid')(hidden_dense_layer)\n",
        "\n",
        "model3_1 = Model(inputs=input_layer, outputs=output_dense_layer)\n",
        "model3_1.compile('adam', 'binary_crossentropy', metrics=['accuracy'])\n",
        "\n",
        "model3_1.summary()\n"
      ]
    },
    {
      "cell_type": "markdown",
      "source": [
        "*We are now using a pretrained embedded layer called GloVe. We are using the default values encoded as we have set training=False*"
      ],
      "metadata": {
        "id": "Xan5F8At0EIr"
      }
    },
    {
      "cell_type": "code",
      "execution_count": null,
      "metadata": {
        "id": "r6sj_FnOD9Sb",
        "colab": {
          "base_uri": "https://localhost:8080/"
        },
        "outputId": "551e352e-bd28-4a36-aed5-44875bcf8c25"
      },
      "outputs": [
        {
          "output_type": "stream",
          "name": "stdout",
          "text": [
            "Epoch 1/40\n",
            "30/30 [==============================] - 1s 11ms/step - loss: 0.6909 - accuracy: 0.5282 - val_loss: 0.6850 - val_accuracy: 0.5676\n",
            "Epoch 2/40\n",
            "30/30 [==============================] - 0s 6ms/step - loss: 0.6802 - accuracy: 0.5801 - val_loss: 0.6770 - val_accuracy: 0.5861\n",
            "Epoch 3/40\n",
            "30/30 [==============================] - 0s 6ms/step - loss: 0.6723 - accuracy: 0.5953 - val_loss: 0.6697 - val_accuracy: 0.5993\n",
            "Epoch 4/40\n",
            "30/30 [==============================] - 0s 6ms/step - loss: 0.6650 - accuracy: 0.6068 - val_loss: 0.6624 - val_accuracy: 0.6103\n",
            "Epoch 5/40\n",
            "30/30 [==============================] - 0s 6ms/step - loss: 0.6573 - accuracy: 0.6225 - val_loss: 0.6550 - val_accuracy: 0.6233\n",
            "Epoch 6/40\n",
            "30/30 [==============================] - 0s 6ms/step - loss: 0.6501 - accuracy: 0.6303 - val_loss: 0.6482 - val_accuracy: 0.6362\n",
            "Epoch 7/40\n",
            "30/30 [==============================] - 0s 6ms/step - loss: 0.6420 - accuracy: 0.6467 - val_loss: 0.6443 - val_accuracy: 0.6365\n",
            "Epoch 8/40\n",
            "30/30 [==============================] - 0s 6ms/step - loss: 0.6340 - accuracy: 0.6582 - val_loss: 0.6335 - val_accuracy: 0.6554\n",
            "Epoch 9/40\n",
            "30/30 [==============================] - 0s 6ms/step - loss: 0.6266 - accuracy: 0.6655 - val_loss: 0.6272 - val_accuracy: 0.6637\n",
            "Epoch 10/40\n",
            "30/30 [==============================] - 0s 6ms/step - loss: 0.6196 - accuracy: 0.6706 - val_loss: 0.6281 - val_accuracy: 0.6549\n",
            "Epoch 11/40\n",
            "30/30 [==============================] - 0s 6ms/step - loss: 0.6147 - accuracy: 0.6780 - val_loss: 0.6155 - val_accuracy: 0.6714\n",
            "Epoch 12/40\n",
            "30/30 [==============================] - 0s 6ms/step - loss: 0.6068 - accuracy: 0.6850 - val_loss: 0.6102 - val_accuracy: 0.6806\n",
            "Epoch 13/40\n",
            "30/30 [==============================] - 0s 6ms/step - loss: 0.6016 - accuracy: 0.6931 - val_loss: 0.6055 - val_accuracy: 0.6851\n",
            "Epoch 14/40\n",
            "30/30 [==============================] - 0s 6ms/step - loss: 0.5972 - accuracy: 0.6941 - val_loss: 0.6020 - val_accuracy: 0.6838\n",
            "Epoch 15/40\n",
            "30/30 [==============================] - 0s 6ms/step - loss: 0.5921 - accuracy: 0.7005 - val_loss: 0.5974 - val_accuracy: 0.6907\n",
            "Epoch 16/40\n",
            "30/30 [==============================] - 0s 6ms/step - loss: 0.5889 - accuracy: 0.6988 - val_loss: 0.5936 - val_accuracy: 0.6939\n",
            "Epoch 17/40\n",
            "30/30 [==============================] - 0s 6ms/step - loss: 0.5843 - accuracy: 0.7049 - val_loss: 0.5919 - val_accuracy: 0.6947\n",
            "Epoch 18/40\n",
            "30/30 [==============================] - 0s 6ms/step - loss: 0.5814 - accuracy: 0.7052 - val_loss: 0.5886 - val_accuracy: 0.6962\n",
            "Epoch 19/40\n",
            "30/30 [==============================] - 0s 6ms/step - loss: 0.5776 - accuracy: 0.7095 - val_loss: 0.5851 - val_accuracy: 0.7016\n",
            "Epoch 20/40\n",
            "30/30 [==============================] - 0s 6ms/step - loss: 0.5760 - accuracy: 0.7109 - val_loss: 0.5820 - val_accuracy: 0.7026\n",
            "Epoch 21/40\n",
            "30/30 [==============================] - 0s 6ms/step - loss: 0.5719 - accuracy: 0.7123 - val_loss: 0.5795 - val_accuracy: 0.7035\n",
            "Epoch 22/40\n",
            "30/30 [==============================] - 0s 6ms/step - loss: 0.5687 - accuracy: 0.7146 - val_loss: 0.5772 - val_accuracy: 0.7068\n",
            "Epoch 23/40\n",
            "30/30 [==============================] - 0s 6ms/step - loss: 0.5665 - accuracy: 0.7183 - val_loss: 0.5758 - val_accuracy: 0.7086\n",
            "Epoch 24/40\n",
            "30/30 [==============================] - 0s 6ms/step - loss: 0.5643 - accuracy: 0.7177 - val_loss: 0.5756 - val_accuracy: 0.7059\n",
            "Epoch 25/40\n",
            "30/30 [==============================] - 0s 6ms/step - loss: 0.5630 - accuracy: 0.7196 - val_loss: 0.5731 - val_accuracy: 0.7090\n",
            "Epoch 26/40\n",
            "30/30 [==============================] - 0s 6ms/step - loss: 0.5621 - accuracy: 0.7181 - val_loss: 0.5694 - val_accuracy: 0.7118\n",
            "Epoch 27/40\n",
            "30/30 [==============================] - 0s 6ms/step - loss: 0.5579 - accuracy: 0.7226 - val_loss: 0.5675 - val_accuracy: 0.7132\n",
            "Epoch 28/40\n",
            "30/30 [==============================] - 0s 6ms/step - loss: 0.5560 - accuracy: 0.7236 - val_loss: 0.5678 - val_accuracy: 0.7139\n",
            "Epoch 29/40\n",
            "30/30 [==============================] - 0s 6ms/step - loss: 0.5557 - accuracy: 0.7237 - val_loss: 0.5646 - val_accuracy: 0.7159\n",
            "Epoch 30/40\n",
            "30/30 [==============================] - 0s 6ms/step - loss: 0.5547 - accuracy: 0.7229 - val_loss: 0.5659 - val_accuracy: 0.7146\n",
            "Epoch 31/40\n",
            "30/30 [==============================] - 0s 6ms/step - loss: 0.5521 - accuracy: 0.7229 - val_loss: 0.5615 - val_accuracy: 0.7172\n",
            "Epoch 32/40\n",
            "30/30 [==============================] - 0s 6ms/step - loss: 0.5506 - accuracy: 0.7287 - val_loss: 0.5618 - val_accuracy: 0.7198\n",
            "Epoch 33/40\n",
            "30/30 [==============================] - 0s 6ms/step - loss: 0.5501 - accuracy: 0.7253 - val_loss: 0.5592 - val_accuracy: 0.7184\n",
            "Epoch 34/40\n",
            "30/30 [==============================] - 0s 6ms/step - loss: 0.5479 - accuracy: 0.7287 - val_loss: 0.5587 - val_accuracy: 0.7219\n",
            "Epoch 35/40\n",
            "30/30 [==============================] - 0s 6ms/step - loss: 0.5468 - accuracy: 0.7294 - val_loss: 0.5569 - val_accuracy: 0.7212\n",
            "Epoch 36/40\n",
            "30/30 [==============================] - 0s 6ms/step - loss: 0.5475 - accuracy: 0.7282 - val_loss: 0.5563 - val_accuracy: 0.7236\n",
            "Epoch 37/40\n",
            "30/30 [==============================] - 0s 6ms/step - loss: 0.5443 - accuracy: 0.7319 - val_loss: 0.5601 - val_accuracy: 0.7210\n",
            "Epoch 38/40\n",
            "30/30 [==============================] - 0s 7ms/step - loss: 0.5445 - accuracy: 0.7305 - val_loss: 0.5539 - val_accuracy: 0.7249\n",
            "Epoch 39/40\n",
            "30/30 [==============================] - 0s 6ms/step - loss: 0.5422 - accuracy: 0.7333 - val_loss: 0.5545 - val_accuracy: 0.7216\n",
            "Epoch 40/40\n",
            "30/30 [==============================] - 0s 6ms/step - loss: 0.5408 - accuracy: 0.7344 - val_loss: 0.5520 - val_accuracy: 0.7245\n"
          ]
        }
      ],
      "source": [
        "# Train and test the model\n",
        "\n",
        "history = model3_1.fit(partial_X_train,\n",
        "                    partial_y_train,\n",
        "                    epochs=40,\n",
        "                    batch_size=512,\n",
        "                    validation_data=(X_val, y_val),\n",
        "                    verbose=1)"
      ]
    },
    {
      "cell_type": "code",
      "source": [
        "plot_history(history.history, path=\"standard.png\")\n",
        "plt.show()"
      ],
      "metadata": {
        "colab": {
          "base_uri": "https://localhost:8080/",
          "height": 385
        },
        "id": "KP8Bh2mDpKw2",
        "outputId": "b50cf160-9801-416f-ecc0-787b761b069e"
      },
      "execution_count": null,
      "outputs": [
        {
          "output_type": "display_data",
          "data": {
            "text/plain": [
              "<Figure size 720x360 with 2 Axes>"
            ],
            "image/png": "[encoded data removed]"
          },
          "metadata": {
            "needs_background": "light"
          }
        }
      ]
    },
    {
      "cell_type": "code",
      "source": [
        "results = model3_1.evaluate(X_test_enc, y_test)\n",
        "print(results)"
      ],
      "metadata": {
        "colab": {
          "base_uri": "https://localhost:8080/"
        },
        "id": "zDFzTXQwl_hy",
        "outputId": "eb09bd1b-e0f5-48c7-b1b6-4ef574eb03d3"
      },
      "execution_count": null,
      "outputs": [
        {
          "output_type": "stream",
          "name": "stdout",
          "text": [
            "782/782 [==============================] - 2s 2ms/step - loss: 0.5540 - accuracy: 0.7186\n",
            "[0.5539815425872803, 0.718559980392456]\n"
          ]
        }
      ]
    },
    {
      "cell_type": "markdown",
      "source": [
        "*As you can see, the accuracy has dropped to its worst yet. This 71% is worse than the 74% achieved by the one hot encoded vector*"
      ],
      "metadata": {
        "id": "LDwh5VyB0Unn"
      }
    },
    {
      "cell_type": "markdown",
      "metadata": {
        "id": "wxJhlT3whoDE"
      },
      "source": [
        "To compare freezing and fine-tuning the pre-train embedding weights, we fine-tune the weights here:"
      ]
    },
    {
      "cell_type": "code",
      "execution_count": null,
      "metadata": {
        "colab": {
          "base_uri": "https://localhost:8080/"
        },
        "id": "u_xmeuuhhtbH",
        "outputId": "380109cc-0ef3-460d-b4b7-78cdacbb4b8f"
      },
      "outputs": [
        {
          "output_type": "stream",
          "name": "stdout",
          "text": [
            "Model: \"model_3\"\n",
            "_________________________________________________________________\n",
            " Layer (type)                Output Shape              Param #   \n",
            "=================================================================\n",
            " input_4 (InputLayer)        [(None, 256)]             0         \n",
            "                                                                 \n",
            " GloVe_Embeddings (Embedding  (None, 256, 300)         120000300 \n",
            " )                                                               \n",
            "                                                                 \n",
            " global_average_pooling1d_ma  (None, 300)              0         \n",
            " sked_3 (GlobalAveragePoolin                                     \n",
            " g1DMasked)                                                      \n",
            "                                                                 \n",
            " dense_6 (Dense)             (None, 16)                4816      \n",
            "                                                                 \n",
            " dense_7 (Dense)             (None, 1)                 17        \n",
            "                                                                 \n",
            "=================================================================\n",
            "Total params: 120,005,133\n",
            "Trainable params: 120,005,133\n",
            "Non-trainable params: 0\n",
            "_________________________________________________________________\n"
          ]
        }
      ],
      "source": [
        "# your code goes here\n",
        "embeddingLayer=createPretrainedEmbeddingLayer(wordToGlove,wordToIndex,isTrainable=True)\n",
        "\n",
        "input_layer = Input(shape=(MAX_SEQUENCE_LENGTH,))\n",
        "embedding_layer = embeddingLayer(input_layer)\n",
        "pooling_layer = GlobalAveragePooling1DMasked()(embedding_layer)\n",
        "hidden_dense_layer = Dense(16)(pooling_layer)\n",
        "output_dense_layer = Dense(1, activation = 'sigmoid')(hidden_dense_layer)\n",
        "\n",
        "model3 = Model(inputs=input_layer, outputs=output_dense_layer)\n",
        "model3.compile('adam', 'binary_crossentropy', metrics=['accuracy'])\n",
        "\n",
        "model3.summary()"
      ]
    },
    {
      "cell_type": "markdown",
      "source": [
        "*We use the pretrained GloVe again, but this time setting the trainable=True. This helps in retraining on our training data to be able to better adapt to the vocabulary used in this problem dataset*"
      ],
      "metadata": {
        "id": "pC03eRjm0kIp"
      }
    },
    {
      "cell_type": "code",
      "execution_count": null,
      "metadata": {
        "id": "3rz8MEm6iHj6",
        "colab": {
          "base_uri": "https://localhost:8080/"
        },
        "outputId": "2397c67e-1cab-437c-932c-f3ee26b02fd3"
      },
      "outputs": [
        {
          "output_type": "stream",
          "name": "stdout",
          "text": [
            "Epoch 1/40\n",
            "30/30 [==============================] - 2s 45ms/step - loss: 0.6876 - accuracy: 0.5575 - val_loss: 0.6691 - val_accuracy: 0.6423\n",
            "Epoch 2/40\n",
            "30/30 [==============================] - 1s 40ms/step - loss: 0.6489 - accuracy: 0.6757 - val_loss: 0.6282 - val_accuracy: 0.6960\n",
            "Epoch 3/40\n",
            "30/30 [==============================] - 1s 40ms/step - loss: 0.5948 - accuracy: 0.7273 - val_loss: 0.5649 - val_accuracy: 0.7560\n",
            "Epoch 4/40\n",
            "30/30 [==============================] - 1s 40ms/step - loss: 0.5149 - accuracy: 0.7939 - val_loss: 0.4849 - val_accuracy: 0.8144\n",
            "Epoch 5/40\n",
            "30/30 [==============================] - 1s 40ms/step - loss: 0.4296 - accuracy: 0.8421 - val_loss: 0.4143 - val_accuracy: 0.8413\n",
            "Epoch 6/40\n",
            "30/30 [==============================] - 1s 40ms/step - loss: 0.3602 - accuracy: 0.8697 - val_loss: 0.3671 - val_accuracy: 0.8603\n",
            "Epoch 7/40\n",
            "30/30 [==============================] - 1s 40ms/step - loss: 0.3116 - accuracy: 0.8853 - val_loss: 0.3369 - val_accuracy: 0.8715\n",
            "Epoch 8/40\n",
            "30/30 [==============================] - 1s 40ms/step - loss: 0.2734 - accuracy: 0.9003 - val_loss: 0.3182 - val_accuracy: 0.8755\n",
            "Epoch 9/40\n",
            "30/30 [==============================] - 1s 40ms/step - loss: 0.2449 - accuracy: 0.9116 - val_loss: 0.3047 - val_accuracy: 0.8802\n",
            "Epoch 10/40\n",
            "30/30 [==============================] - 1s 40ms/step - loss: 0.2207 - accuracy: 0.9207 - val_loss: 0.3011 - val_accuracy: 0.8758\n",
            "Epoch 11/40\n",
            "30/30 [==============================] - 1s 40ms/step - loss: 0.2006 - accuracy: 0.9300 - val_loss: 0.2926 - val_accuracy: 0.8841\n",
            "Epoch 12/40\n",
            "30/30 [==============================] - 1s 40ms/step - loss: 0.1812 - accuracy: 0.9386 - val_loss: 0.2918 - val_accuracy: 0.8833\n",
            "Epoch 13/40\n",
            "30/30 [==============================] - 1s 40ms/step - loss: 0.1659 - accuracy: 0.9459 - val_loss: 0.2898 - val_accuracy: 0.8847\n",
            "Epoch 14/40\n",
            "30/30 [==============================] - 1s 40ms/step - loss: 0.1512 - accuracy: 0.9519 - val_loss: 0.2909 - val_accuracy: 0.8862\n",
            "Epoch 15/40\n",
            "30/30 [==============================] - 1s 40ms/step - loss: 0.1390 - accuracy: 0.9571 - val_loss: 0.2973 - val_accuracy: 0.8834\n",
            "Epoch 16/40\n",
            "30/30 [==============================] - 1s 40ms/step - loss: 0.1272 - accuracy: 0.9623 - val_loss: 0.2991 - val_accuracy: 0.8850\n",
            "Epoch 17/40\n",
            "30/30 [==============================] - 1s 40ms/step - loss: 0.1164 - accuracy: 0.9662 - val_loss: 0.3051 - val_accuracy: 0.8830\n",
            "Epoch 18/40\n",
            "30/30 [==============================] - 1s 40ms/step - loss: 0.1073 - accuracy: 0.9691 - val_loss: 0.3200 - val_accuracy: 0.8773\n",
            "Epoch 19/40\n",
            "30/30 [==============================] - 1s 40ms/step - loss: 0.0989 - accuracy: 0.9724 - val_loss: 0.3230 - val_accuracy: 0.8788\n",
            "Epoch 20/40\n",
            "30/30 [==============================] - 1s 40ms/step - loss: 0.0922 - accuracy: 0.9733 - val_loss: 0.3271 - val_accuracy: 0.8810\n",
            "Epoch 21/40\n",
            "30/30 [==============================] - 1s 40ms/step - loss: 0.0832 - accuracy: 0.9785 - val_loss: 0.3362 - val_accuracy: 0.8795\n",
            "Epoch 22/40\n",
            "30/30 [==============================] - 1s 40ms/step - loss: 0.0765 - accuracy: 0.9807 - val_loss: 0.3454 - val_accuracy: 0.8781\n",
            "Epoch 23/40\n",
            "30/30 [==============================] - 1s 40ms/step - loss: 0.0698 - accuracy: 0.9834 - val_loss: 0.3565 - val_accuracy: 0.8778\n",
            "Epoch 24/40\n",
            "30/30 [==============================] - 1s 40ms/step - loss: 0.0638 - accuracy: 0.9851 - val_loss: 0.3668 - val_accuracy: 0.8771\n",
            "Epoch 25/40\n",
            "30/30 [==============================] - 1s 40ms/step - loss: 0.0585 - accuracy: 0.9878 - val_loss: 0.3763 - val_accuracy: 0.8767\n",
            "Epoch 26/40\n",
            "30/30 [==============================] - 1s 40ms/step - loss: 0.0537 - accuracy: 0.9900 - val_loss: 0.3906 - val_accuracy: 0.8742\n",
            "Epoch 27/40\n",
            "30/30 [==============================] - 1s 40ms/step - loss: 0.0497 - accuracy: 0.9906 - val_loss: 0.4009 - val_accuracy: 0.8751\n",
            "Epoch 28/40\n",
            "30/30 [==============================] - 1s 40ms/step - loss: 0.0452 - accuracy: 0.9929 - val_loss: 0.4120 - val_accuracy: 0.8744\n",
            "Epoch 29/40\n",
            "30/30 [==============================] - 1s 40ms/step - loss: 0.0423 - accuracy: 0.9927 - val_loss: 0.4300 - val_accuracy: 0.8712\n",
            "Epoch 30/40\n",
            "30/30 [==============================] - 1s 40ms/step - loss: 0.0386 - accuracy: 0.9942 - val_loss: 0.4376 - val_accuracy: 0.8710\n",
            "Epoch 31/40\n",
            "30/30 [==============================] - 1s 40ms/step - loss: 0.0347 - accuracy: 0.9955 - val_loss: 0.4496 - val_accuracy: 0.8718\n",
            "Epoch 32/40\n",
            "30/30 [==============================] - 1s 40ms/step - loss: 0.0318 - accuracy: 0.9957 - val_loss: 0.4626 - val_accuracy: 0.8693\n",
            "Epoch 33/40\n",
            "30/30 [==============================] - 1s 40ms/step - loss: 0.0291 - accuracy: 0.9965 - val_loss: 0.4755 - val_accuracy: 0.8689\n",
            "Epoch 34/40\n",
            "30/30 [==============================] - 1s 41ms/step - loss: 0.0267 - accuracy: 0.9967 - val_loss: 0.4907 - val_accuracy: 0.8675\n",
            "Epoch 35/40\n",
            "30/30 [==============================] - 1s 41ms/step - loss: 0.0246 - accuracy: 0.9969 - val_loss: 0.5030 - val_accuracy: 0.8675\n",
            "Epoch 36/40\n",
            "30/30 [==============================] - 1s 41ms/step - loss: 0.0224 - accuracy: 0.9976 - val_loss: 0.5140 - val_accuracy: 0.8673\n",
            "Epoch 37/40\n",
            "30/30 [==============================] - 1s 40ms/step - loss: 0.0209 - accuracy: 0.9976 - val_loss: 0.5291 - val_accuracy: 0.8661\n",
            "Epoch 38/40\n",
            "30/30 [==============================] - 1s 40ms/step - loss: 0.0193 - accuracy: 0.9981 - val_loss: 0.5405 - val_accuracy: 0.8663\n",
            "Epoch 39/40\n",
            "30/30 [==============================] - 1s 40ms/step - loss: 0.0174 - accuracy: 0.9988 - val_loss: 0.5556 - val_accuracy: 0.8653\n",
            "Epoch 40/40\n",
            "30/30 [==============================] - 1s 40ms/step - loss: 0.0159 - accuracy: 0.9989 - val_loss: 0.5652 - val_accuracy: 0.8654\n"
          ]
        }
      ],
      "source": [
        "# Train and test the model\n",
        "history = model3.fit(partial_X_train,\n",
        "                    partial_y_train,\n",
        "                    epochs=40,\n",
        "                    batch_size=512,\n",
        "                    validation_data=(X_val, y_val),\n",
        "                    verbose=1)"
      ]
    },
    {
      "cell_type": "code",
      "source": [
        "results = model3.evaluate(X_test_enc, y_test)\n",
        "print(results)"
      ],
      "metadata": {
        "colab": {
          "base_uri": "https://localhost:8080/"
        },
        "id": "MJKAs6dPm4QZ",
        "outputId": "c3c37625-fb5c-4eb1-a9af-e32c93721201"
      },
      "execution_count": null,
      "outputs": [
        {
          "output_type": "stream",
          "name": "stdout",
          "text": [
            "782/782 [==============================] - 2s 2ms/step - loss: 0.6018 - accuracy: 0.8516\n",
            "[0.6017966270446777, 0.8515599966049194]\n"
          ]
        }
      ]
    },
    {
      "cell_type": "markdown",
      "source": [
        "*We get significantly better results by training the pretrained embedding layer. A jump from 71% to 85%.*"
      ],
      "metadata": {
        "id": "lzPWiBvA02R-"
      }
    },
    {
      "cell_type": "code",
      "source": [
        "pip install plot_keras_history"
      ],
      "metadata": {
        "colab": {
          "base_uri": "https://localhost:8080/"
        },
        "id": "4Y0i-XYinqai",
        "outputId": "e8c4e075-8e4c-41a9-c9e6-79d305a06679"
      },
      "execution_count": null,
      "outputs": [
        {
          "output_type": "stream",
          "name": "stdout",
          "text": [
            "Installing collected packages: compress-json, sanitize-ml-labels, plot-keras-history\n",
            "Successfully installed compress-json-1.0.4 plot-keras-history-1.1.30 sanitize-ml-labels-1.0.29\n"
          ]
        }
      ]
    },
    {
      "cell_type": "code",
      "source": [
        "from plot_keras_history import plot_history\n",
        "import matplotlib.pyplot as plt\n",
        "plot_history(history.history, path=\"standard.png\")\n",
        "plt.show()"
      ],
      "metadata": {
        "colab": {
          "base_uri": "https://localhost:8080/",
          "height": 385
        },
        "id": "M-ewN_A_nGTX",
        "outputId": "4f1a6a5d-1ace-45a0-9455-9013f2b10748"
      },
      "execution_count": null,
      "outputs": [
        {
          "output_type": "display_data",
          "data": {
            "text/plain": [
              "<Figure size 720x360 with 2 Axes>"
            ],
            "image/png": "[encoded data removed]"
          },
          "metadata": {
            "needs_background": "light"
          }
        }
      ]
    },
    {
      "cell_type": "markdown",
      "metadata": {
        "id": "cAdOh2IHnKuT"
      },
      "source": [
        "Experiments here show that fine-tuning the pre-trained embeddings would obtain better accuracy.\n",
        "\n",
        "Note that although fine-tuning the pre-trained embeddings is better here, we do not fine-tune it in other models. You could conduct extra experiments to compare the results."
      ]
    },
    {
      "cell_type": "markdown",
      "metadata": {
        "id": "xZ1KWFKvcagS"
      },
      "source": [
        "##  Model 3-2: LSTM with pre-trained word embeddings"
      ]
    },
    {
      "cell_type": "markdown",
      "metadata": {
        "id": "S1lKisy3kb60"
      },
      "source": [
        "In previous labs, we have conducted an experiment based on LSTM. Now, we replace its embeddings with the GloVe pre-trained embeddings."
      ]
    },
    {
      "cell_type": "code",
      "execution_count": null,
      "metadata": {
        "colab": {
          "base_uri": "https://localhost:8080/"
        },
        "id": "oz92rv2iTbo8",
        "outputId": "5b886b91-12b9-461a-9e5b-27ca09a81d5e"
      },
      "outputs": [
        {
          "output_type": "stream",
          "name": "stdout",
          "text": [
            "Model: \"model_6\"\n",
            "_________________________________________________________________\n",
            " Layer (type)                Output Shape              Param #   \n",
            "=================================================================\n",
            " input_7 (InputLayer)        [(None, 256)]             0         \n",
            "                                                                 \n",
            " GloVe_Embeddings (Embedding  (None, 256, 300)         120000300 \n",
            " )                                                               \n",
            "                                                                 \n",
            " dropout_4 (Dropout)         (None, 256, 300)          0         \n",
            "                                                                 \n",
            " lstm_2 (LSTM)               (None, 100)               160400    \n",
            "                                                                 \n",
            " dropout_5 (Dropout)         (None, 100)               0         \n",
            "                                                                 \n",
            " dense_12 (Dense)            (None, 16)                1616      \n",
            "                                                                 \n",
            " dense_13 (Dense)            (None, 1)                 17        \n",
            "                                                                 \n",
            "=================================================================\n",
            "Total params: 120,162,333\n",
            "Trainable params: 162,033\n",
            "Non-trainable params: 120,000,300\n",
            "_________________________________________________________________\n"
          ]
        }
      ],
      "source": [
        "# your code goes here\n",
        "from keras.layers import Input, Embedding, Dense, LSTM, Dropout\n",
        "from keras.models import Model\n",
        "\n",
        "EMBED_SIZE = next(iter(wordToGlove.values())).shape[0]\n",
        "# YOUR CODE GOES HERE\n",
        "embeddingLayer=createPretrainedEmbeddingLayer(wordToGlove,wordToIndex,isTrainable=False)\n",
        "\n",
        "input_layer = Input(shape=(MAX_SEQUENCE_LENGTH,))\n",
        "embedding_layer = embeddingLayer(input_layer)\n",
        "dropout_layer_1 = Dropout(rate=0.2)(embedding_layer)\n",
        "lstm_layer = LSTM(100, return_sequences = False)(dropout_layer_1)\n",
        "dropout_layer_2 = Dropout(rate=0.2)(lstm_layer)\n",
        "hidden_dense_layer = Dense(16, activation = 'relu')(dropout_layer_2)\n",
        "output_dense_layer = Dense(1, activation = 'sigmoid')(hidden_dense_layer)\n",
        "\n",
        "\n",
        "model3_2 = Model(inputs= input_layer, outputs=output_dense_layer)\n",
        "model3_2.compile('adam', 'binary_crossentropy', metrics=['accuracy'])\n",
        "\n",
        "model3_2.summary()"
      ]
    },
    {
      "cell_type": "markdown",
      "source": [
        "*We attempt an LSTM model with frozen embedding, ie trainable=False*"
      ],
      "metadata": {
        "id": "xY5SJy1F1HWL"
      }
    },
    {
      "cell_type": "code",
      "execution_count": null,
      "metadata": {
        "id": "EqyL_rhaUElx",
        "colab": {
          "base_uri": "https://localhost:8080/"
        },
        "outputId": "d1483428-1ec4-4ec3-830f-50f97641dc9d"
      },
      "outputs": [
        {
          "output_type": "stream",
          "name": "stdout",
          "text": [
            "Epoch 1/40\n",
            "30/30 [==============================] - 4s 77ms/step - loss: 0.6803 - accuracy: 0.5579 - val_loss: 0.6549 - val_accuracy: 0.6014\n",
            "Epoch 2/40\n",
            "30/30 [==============================] - 2s 59ms/step - loss: 0.6217 - accuracy: 0.6525 - val_loss: 0.6234 - val_accuracy: 0.6590\n",
            "Epoch 3/40\n",
            "30/30 [==============================] - 2s 59ms/step - loss: 0.5816 - accuracy: 0.6925 - val_loss: 0.6111 - val_accuracy: 0.6901\n",
            "Epoch 4/40\n",
            "30/30 [==============================] - 2s 61ms/step - loss: 0.5528 - accuracy: 0.7175 - val_loss: 0.5251 - val_accuracy: 0.7408\n",
            "Epoch 5/40\n",
            "30/30 [==============================] - 2s 59ms/step - loss: 0.5222 - accuracy: 0.7403 - val_loss: 0.5900 - val_accuracy: 0.6792\n",
            "Epoch 6/40\n",
            "30/30 [==============================] - 2s 59ms/step - loss: 0.5110 - accuracy: 0.7466 - val_loss: 0.5118 - val_accuracy: 0.7486\n",
            "Epoch 7/40\n",
            "30/30 [==============================] - 2s 60ms/step - loss: 0.4764 - accuracy: 0.7681 - val_loss: 0.4655 - val_accuracy: 0.7768\n",
            "Epoch 8/40\n",
            "30/30 [==============================] - 2s 59ms/step - loss: 0.4837 - accuracy: 0.7653 - val_loss: 0.4730 - val_accuracy: 0.7737\n",
            "Epoch 9/40\n",
            "30/30 [==============================] - 2s 59ms/step - loss: 0.4362 - accuracy: 0.7961 - val_loss: 0.4256 - val_accuracy: 0.8017\n",
            "Epoch 10/40\n",
            "30/30 [==============================] - 2s 59ms/step - loss: 0.4234 - accuracy: 0.8017 - val_loss: 0.4162 - val_accuracy: 0.8069\n",
            "Epoch 11/40\n",
            "30/30 [==============================] - 2s 59ms/step - loss: 0.3923 - accuracy: 0.8225 - val_loss: 0.5539 - val_accuracy: 0.7917\n",
            "Epoch 12/40\n",
            "30/30 [==============================] - 2s 59ms/step - loss: 0.4200 - accuracy: 0.8073 - val_loss: 0.4348 - val_accuracy: 0.7967\n",
            "Epoch 13/40\n",
            "30/30 [==============================] - 2s 59ms/step - loss: 0.3852 - accuracy: 0.8235 - val_loss: 0.4041 - val_accuracy: 0.8179\n",
            "Epoch 14/40\n",
            "30/30 [==============================] - 2s 59ms/step - loss: 0.3750 - accuracy: 0.8318 - val_loss: 0.4204 - val_accuracy: 0.8071\n",
            "Epoch 15/40\n",
            "30/30 [==============================] - 2s 59ms/step - loss: 0.3728 - accuracy: 0.8320 - val_loss: 0.4374 - val_accuracy: 0.8173\n",
            "Epoch 16/40\n",
            "30/30 [==============================] - 2s 60ms/step - loss: 0.3192 - accuracy: 0.8625 - val_loss: 0.4075 - val_accuracy: 0.8268\n",
            "Epoch 17/40\n",
            "30/30 [==============================] - 2s 60ms/step - loss: 0.3515 - accuracy: 0.8458 - val_loss: 0.4988 - val_accuracy: 0.7729\n",
            "Epoch 18/40\n",
            "30/30 [==============================] - 2s 59ms/step - loss: 0.3353 - accuracy: 0.8554 - val_loss: 0.4197 - val_accuracy: 0.8095\n",
            "Epoch 19/40\n",
            "30/30 [==============================] - 2s 59ms/step - loss: 0.3167 - accuracy: 0.8616 - val_loss: 0.4856 - val_accuracy: 0.7814\n",
            "Epoch 20/40\n",
            "30/30 [==============================] - 2s 60ms/step - loss: 0.2991 - accuracy: 0.8701 - val_loss: 0.4026 - val_accuracy: 0.8300\n",
            "Epoch 21/40\n",
            "30/30 [==============================] - 2s 59ms/step - loss: 0.2651 - accuracy: 0.8881 - val_loss: 0.4071 - val_accuracy: 0.8284\n",
            "Epoch 22/40\n",
            "30/30 [==============================] - 2s 60ms/step - loss: 0.2624 - accuracy: 0.8901 - val_loss: 0.3989 - val_accuracy: 0.8230\n",
            "Epoch 23/40\n",
            "30/30 [==============================] - 2s 59ms/step - loss: 0.2512 - accuracy: 0.8955 - val_loss: 0.4262 - val_accuracy: 0.8267\n",
            "Epoch 24/40\n",
            "30/30 [==============================] - 2s 59ms/step - loss: 0.2798 - accuracy: 0.8815 - val_loss: 0.6738 - val_accuracy: 0.7784\n",
            "Epoch 25/40\n",
            "30/30 [==============================] - 2s 60ms/step - loss: 0.2886 - accuracy: 0.8761 - val_loss: 0.5148 - val_accuracy: 0.8140\n",
            "Epoch 26/40\n",
            "30/30 [==============================] - 2s 59ms/step - loss: 0.2231 - accuracy: 0.9091 - val_loss: 0.4165 - val_accuracy: 0.8303\n",
            "Epoch 27/40\n",
            "30/30 [==============================] - 2s 59ms/step - loss: 0.2157 - accuracy: 0.9131 - val_loss: 0.4555 - val_accuracy: 0.8196\n",
            "Epoch 28/40\n",
            "30/30 [==============================] - 2s 60ms/step - loss: 0.2219 - accuracy: 0.9073 - val_loss: 0.4308 - val_accuracy: 0.8221\n",
            "Epoch 29/40\n",
            "30/30 [==============================] - 2s 60ms/step - loss: 0.2294 - accuracy: 0.9033 - val_loss: 0.5088 - val_accuracy: 0.8198\n",
            "Epoch 30/40\n",
            "30/30 [==============================] - 2s 59ms/step - loss: 0.1916 - accuracy: 0.9210 - val_loss: 0.4964 - val_accuracy: 0.8353\n",
            "Epoch 31/40\n",
            "30/30 [==============================] - 2s 60ms/step - loss: 0.1802 - accuracy: 0.9292 - val_loss: 0.5166 - val_accuracy: 0.8334\n",
            "Epoch 32/40\n",
            "30/30 [==============================] - 2s 60ms/step - loss: 0.1752 - accuracy: 0.9314 - val_loss: 0.4898 - val_accuracy: 0.8362\n",
            "Epoch 33/40\n",
            "30/30 [==============================] - 2s 60ms/step - loss: 0.1760 - accuracy: 0.9293 - val_loss: 0.9669 - val_accuracy: 0.7679\n",
            "Epoch 34/40\n",
            "30/30 [==============================] - 2s 60ms/step - loss: 0.2018 - accuracy: 0.9203 - val_loss: 0.4622 - val_accuracy: 0.8290\n",
            "Epoch 35/40\n",
            "30/30 [==============================] - 2s 60ms/step - loss: 0.1526 - accuracy: 0.9406 - val_loss: 0.4773 - val_accuracy: 0.8320\n",
            "Epoch 36/40\n",
            "30/30 [==============================] - 2s 64ms/step - loss: 0.1789 - accuracy: 0.9269 - val_loss: 0.4501 - val_accuracy: 0.8342\n",
            "Epoch 37/40\n",
            "30/30 [==============================] - 2s 61ms/step - loss: 0.1393 - accuracy: 0.9441 - val_loss: 0.5255 - val_accuracy: 0.8213\n",
            "Epoch 38/40\n",
            "30/30 [==============================] - 2s 73ms/step - loss: 0.1379 - accuracy: 0.9483 - val_loss: 0.5639 - val_accuracy: 0.8377\n",
            "Epoch 39/40\n",
            "30/30 [==============================] - 2s 63ms/step - loss: 0.1333 - accuracy: 0.9475 - val_loss: 0.5738 - val_accuracy: 0.8200\n",
            "Epoch 40/40\n",
            "30/30 [==============================] - 2s 62ms/step - loss: 0.1633 - accuracy: 0.9325 - val_loss: 0.5164 - val_accuracy: 0.8367\n"
          ]
        }
      ],
      "source": [
        "# Train and test the model\n",
        "history = model3_2.fit(partial_X_train,\n",
        "                    partial_y_train,\n",
        "                    epochs=40,\n",
        "                    batch_size=512,\n",
        "                    validation_data=(X_val, y_val),\n",
        "                    verbose=1)"
      ]
    },
    {
      "cell_type": "code",
      "source": [
        "results = model3_2.evaluate(X_test_enc, y_test)\n",
        "print(results)"
      ],
      "metadata": {
        "colab": {
          "base_uri": "https://localhost:8080/"
        },
        "id": "sTycwzlqpNPu",
        "outputId": "54f6211f-7bec-4ac5-9d65-db07d173a34c"
      },
      "execution_count": null,
      "outputs": [
        {
          "output_type": "stream",
          "name": "stdout",
          "text": [
            "782/782 [==============================] - 7s 9ms/step - loss: 0.5030 - accuracy: 0.8460\n",
            "[0.5029751062393188, 0.8460000157356262]\n"
          ]
        }
      ]
    },
    {
      "cell_type": "markdown",
      "source": [
        "*This is quite a decent result given that we did not train the embedded layer*"
      ],
      "metadata": {
        "id": "XRLyZaPK1Uvh"
      }
    },
    {
      "cell_type": "code",
      "source": [
        "from plot_keras_history import plot_history\n",
        "import matplotlib.pyplot as plt\n",
        "plot_history(history.history, path=\"standard.png\")\n",
        "plt.show()"
      ],
      "metadata": {
        "colab": {
          "base_uri": "https://localhost:8080/",
          "height": 385
        },
        "id": "yMa4p7mDpM4k",
        "outputId": "cda1dc56-2728-4575-9604-db1474b7fc0b"
      },
      "execution_count": null,
      "outputs": [
        {
          "output_type": "display_data",
          "data": {
            "text/plain": [
              "<Figure size 720x360 with 2 Axes>"
            ],
            "image/png": "[encoded data removed]"
          },
          "metadata": {
            "needs_background": "light"
          }
        }
      ]
    },
    {
      "cell_type": "markdown",
      "metadata": {
        "id": "XOqePi5-I1Xq"
      },
      "source": [
        "Experiment show that simply replacing the lab 2 model embeddings with pre-trained word embeddings (GloVe) will cause performance to drop significantly. \n",
        "What can you do to improve the situation?"
      ]
    },
    {
      "cell_type": "markdown",
      "source": [
        "*To further improve this model we can attempt training the embedded layer as that boosts performance. We can also try early stopping as that helps reduce overfitting.*"
      ],
      "metadata": {
        "id": "UKKPl4WT1ewQ"
      }
    },
    {
      "cell_type": "code",
      "source": [
        "# your code goes here\n",
        "from keras.layers import Input, Embedding, Dense, LSTM, Dropout\n",
        "from keras.models import Model\n",
        "\n",
        "EMBED_SIZE = next(iter(wordToGlove.values())).shape[0]\n",
        "# YOUR CODE GOES HERE\n",
        "embeddingLayer=createPretrainedEmbeddingLayer(wordToGlove,wordToIndex,isTrainable=True)\n",
        "\n",
        "input_layer = Input(shape=(MAX_SEQUENCE_LENGTH,))\n",
        "embedding_layer = embeddingLayer(input_layer)\n",
        "dropout_layer_1 = Dropout(rate=0.2)(embedding_layer)\n",
        "lstm_layer = LSTM(100, return_sequences = False)(dropout_layer_1)\n",
        "dropout_layer_2 = Dropout(rate=0.2)(lstm_layer)\n",
        "hidden_dense_layer = Dense(16, activation = 'relu')(dropout_layer_2)\n",
        "output_dense_layer = Dense(1, activation = 'sigmoid')(hidden_dense_layer)\n",
        "\n",
        "\n",
        "model3_2 = Model(inputs= input_layer, outputs=output_dense_layer)\n",
        "model3_2.compile('adam', 'binary_crossentropy', metrics=['accuracy'])\n",
        "\n",
        "model3_2.summary()"
      ],
      "metadata": {
        "colab": {
          "base_uri": "https://localhost:8080/"
        },
        "id": "_4Z7PB-7xrFM",
        "outputId": "fcc8dfb0-2578-44f7-9eec-ae164b94f027"
      },
      "execution_count": null,
      "outputs": [
        {
          "output_type": "stream",
          "name": "stdout",
          "text": [
            "Model: \"model_8\"\n",
            "_________________________________________________________________\n",
            " Layer (type)                Output Shape              Param #   \n",
            "=================================================================\n",
            " input_9 (InputLayer)        [(None, 256)]             0         \n",
            "                                                                 \n",
            " GloVe_Embeddings (Embedding  (None, 256, 300)         120000300 \n",
            " )                                                               \n",
            "                                                                 \n",
            " dropout_8 (Dropout)         (None, 256, 300)          0         \n",
            "                                                                 \n",
            " lstm_4 (LSTM)               (None, 100)               160400    \n",
            "                                                                 \n",
            " dropout_9 (Dropout)         (None, 100)               0         \n",
            "                                                                 \n",
            " dense_16 (Dense)            (None, 16)                1616      \n",
            "                                                                 \n",
            " dense_17 (Dense)            (None, 1)                 17        \n",
            "                                                                 \n",
            "=================================================================\n",
            "Total params: 120,162,333\n",
            "Trainable params: 120,162,333\n",
            "Non-trainable params: 0\n",
            "_________________________________________________________________\n"
          ]
        }
      ]
    },
    {
      "cell_type": "markdown",
      "source": [
        "*This time around the LSTM model has an embedded layer that will be retrained.*"
      ],
      "metadata": {
        "id": "nd0vVs3g1tDU"
      }
    },
    {
      "cell_type": "code",
      "source": [
        "from tensorflow.keras.callbacks import EarlyStopping\n",
        "callback = EarlyStopping(monitor='val_loss', patience=3, mode='min', verbose=1, min_delta=0.01)\n",
        "\n",
        "# Train and test the model\n",
        "history = model3_2.fit(partial_X_train,\n",
        "                    partial_y_train,\n",
        "                    epochs=40,\n",
        "                    batch_size=512,\n",
        "                    validation_data=(X_val, y_val),\n",
        "                    verbose=1,\n",
        "                    callbacks = [callback])"
      ],
      "metadata": {
        "colab": {
          "base_uri": "https://localhost:8080/"
        },
        "id": "x9_PmG3mxrCF",
        "outputId": "c2d100aa-d70d-4fb8-b0d6-fb6e070833ea"
      },
      "execution_count": null,
      "outputs": [
        {
          "output_type": "stream",
          "name": "stdout",
          "text": [
            "Epoch 1/40\n",
            "30/30 [==============================] - 5s 112ms/step - loss: 0.6785 - accuracy: 0.5502 - val_loss: 0.6459 - val_accuracy: 0.6258\n",
            "Epoch 2/40\n",
            "30/30 [==============================] - 3s 95ms/step - loss: 0.5956 - accuracy: 0.6777 - val_loss: 0.5526 - val_accuracy: 0.7148\n",
            "Epoch 3/40\n",
            "30/30 [==============================] - 3s 95ms/step - loss: 0.4506 - accuracy: 0.7913 - val_loss: 0.6976 - val_accuracy: 0.7082\n",
            "Epoch 4/40\n",
            "30/30 [==============================] - 3s 95ms/step - loss: 0.3820 - accuracy: 0.8355 - val_loss: 0.4555 - val_accuracy: 0.8282\n",
            "Epoch 5/40\n",
            "30/30 [==============================] - 3s 95ms/step - loss: 0.2946 - accuracy: 0.8797 - val_loss: 0.3514 - val_accuracy: 0.8516\n",
            "Epoch 6/40\n",
            "30/30 [==============================] - 3s 95ms/step - loss: 0.2348 - accuracy: 0.9076 - val_loss: 0.3927 - val_accuracy: 0.8586\n",
            "Epoch 7/40\n",
            "30/30 [==============================] - 3s 95ms/step - loss: 0.2107 - accuracy: 0.9209 - val_loss: 0.3748 - val_accuracy: 0.8573\n",
            "Epoch 8/40\n",
            "30/30 [==============================] - 3s 96ms/step - loss: 0.1749 - accuracy: 0.9335 - val_loss: 0.3778 - val_accuracy: 0.8715\n",
            "Epoch 8: early stopping\n"
          ]
        }
      ]
    },
    {
      "cell_type": "markdown",
      "source": [
        "*We also used the early stopping callback*"
      ],
      "metadata": {
        "id": "LTjxKFIm156O"
      }
    },
    {
      "cell_type": "code",
      "source": [
        "results = model3_2.evaluate(X_test_enc, y_test)\n",
        "print(results)"
      ],
      "metadata": {
        "colab": {
          "base_uri": "https://localhost:8080/"
        },
        "id": "JoSOs0E3xq-w",
        "outputId": "4e91ca28-f5b8-4904-b048-145b54230a18"
      },
      "execution_count": null,
      "outputs": [
        {
          "output_type": "stream",
          "name": "stdout",
          "text": [
            "782/782 [==============================] - 6s 8ms/step - loss: 0.3954 - accuracy: 0.8668\n",
            "[0.39544913172721863, 0.8668000102043152]\n"
          ]
        }
      ]
    },
    {
      "cell_type": "markdown",
      "source": [
        "*As you can see, this is the best result we have achieved so far at 86.6%*"
      ],
      "metadata": {
        "id": "0MUS9lrh1_WU"
      }
    },
    {
      "cell_type": "code",
      "source": [
        "from plot_keras_history import plot_history\n",
        "import matplotlib.pyplot as plt\n",
        "plot_history(history.history, path=\"standard.png\")\n",
        "plt.show()"
      ],
      "metadata": {
        "colab": {
          "base_uri": "https://localhost:8080/",
          "height": 385
        },
        "id": "btG1J9wcxq6q",
        "outputId": "a5a8ecbe-2e90-4143-a051-09f4a5bfe06d"
      },
      "execution_count": null,
      "outputs": [
        {
          "output_type": "display_data",
          "data": {
            "text/plain": [
              "<Figure size 720x360 with 2 Axes>"
            ],
            "image/png": "[encoded data removed]"
          },
          "metadata": {
            "needs_background": "light"
          }
        }
      ]
    },
    {
      "cell_type": "markdown",
      "metadata": {
        "id": "M-bZ5SCHiIMl"
      },
      "source": [
        "#  Model 4: Adding extra dense layer into Neural averaging network model"
      ]
    },
    {
      "cell_type": "markdown",
      "metadata": {
        "id": "G85QM3lSV7qp"
      },
      "source": [
        "We add extra dense layers into model 3-1 (neural network model) to evaluate extra dense layers' contribution. We start by adding one layer, then add two. All parameters are the same as model 3-1."
      ]
    },
    {
      "cell_type": "markdown",
      "metadata": {
        "id": "ExgX8bxpVgps"
      },
      "source": [
        "### Adding one extra dense layer"
      ]
    },
    {
      "cell_type": "code",
      "execution_count": null,
      "metadata": {
        "colab": {
          "base_uri": "https://localhost:8080/"
        },
        "id": "dTgD_gMzXa1z",
        "outputId": "85b049c0-8112-4fbe-9c58-4c6341eb9ecc"
      },
      "outputs": [
        {
          "output_type": "stream",
          "name": "stdout",
          "text": [
            "Model: \"model_10\"\n",
            "_________________________________________________________________\n",
            " Layer (type)                Output Shape              Param #   \n",
            "=================================================================\n",
            " input_11 (InputLayer)       [(None, 256)]             0         \n",
            "                                                                 \n",
            " GloVe_Embeddings (Embedding  (None, 256, 300)         120000300 \n",
            " )                                                               \n",
            "                                                                 \n",
            " global_average_pooling1d_ma  (None, 300)              0         \n",
            " sked_5 (GlobalAveragePoolin                                     \n",
            " g1DMasked)                                                      \n",
            "                                                                 \n",
            " dense_21 (Dense)            (None, 100)               30100     \n",
            "                                                                 \n",
            " dense_22 (Dense)            (None, 16)                1616      \n",
            "                                                                 \n",
            " dense_23 (Dense)            (None, 1)                 17        \n",
            "                                                                 \n",
            "=================================================================\n",
            "Total params: 120,032,033\n",
            "Trainable params: 120,032,033\n",
            "Non-trainable params: 0\n",
            "_________________________________________________________________\n"
          ]
        }
      ],
      "source": [
        "# Inspect model performance with 1 hidden layer, pre-trained embeddings\n",
        "# your code goes here\n",
        "\n",
        "embeddingLayer=createPretrainedEmbeddingLayer(wordToGlove,wordToIndex,isTrainable=True)\n",
        "\n",
        "input_layer = Input(shape=(MAX_SEQUENCE_LENGTH,))\n",
        "embedding_layer = embeddingLayer(input_layer)\n",
        "pooling_layer = GlobalAveragePooling1DMasked()(embedding_layer)\n",
        "extra_dense_layer = Dense(100)(pooling_layer)\n",
        "dense_layer = Dense(16)(extra_dense_layer)\n",
        "output_dense_layer = Dense(1, activation='sigmoid')(dense_layer)\n",
        "\n",
        "model4 = Model(inputs= input_layer, outputs=output_dense_layer)\n",
        "model4.compile('adam', 'binary_crossentropy', metrics=['accuracy'])\n",
        "model4.summary()"
      ]
    },
    {
      "cell_type": "markdown",
      "source": [
        "*We use trainable embedded layer with the LSTM. But this time we have added an extra dense layer of 100 hidden neurons.*"
      ],
      "metadata": {
        "id": "pPeNB6xF2cnS"
      }
    },
    {
      "cell_type": "code",
      "source": [
        "history = model4.fit(partial_X_train,\n",
        "                    partial_y_train,\n",
        "                    epochs=40,\n",
        "                    batch_size=512,\n",
        "                    validation_data=(X_val, y_val),\n",
        "                    verbose=1,\n",
        "                     callbacks = [callback])"
      ],
      "metadata": {
        "colab": {
          "base_uri": "https://localhost:8080/"
        },
        "id": "RD6zjko4t9HE",
        "outputId": "fc8a5119-5490-4063-fa37-e7c38d1c0012"
      },
      "execution_count": null,
      "outputs": [
        {
          "output_type": "stream",
          "name": "stdout",
          "text": [
            "Epoch 1/40\n",
            "30/30 [==============================] - 2s 45ms/step - loss: 0.6754 - accuracy: 0.5847 - val_loss: 0.6488 - val_accuracy: 0.6408\n",
            "Epoch 2/40\n",
            "30/30 [==============================] - 1s 40ms/step - loss: 0.6032 - accuracy: 0.7015 - val_loss: 0.5462 - val_accuracy: 0.7483\n",
            "Epoch 3/40\n",
            "30/30 [==============================] - 1s 40ms/step - loss: 0.4602 - accuracy: 0.8061 - val_loss: 0.4239 - val_accuracy: 0.8117\n",
            "Epoch 4/40\n",
            "30/30 [==============================] - 1s 41ms/step - loss: 0.3412 - accuracy: 0.8567 - val_loss: 0.3437 - val_accuracy: 0.8572\n",
            "Epoch 5/40\n",
            "30/30 [==============================] - 1s 40ms/step - loss: 0.2682 - accuracy: 0.8941 - val_loss: 0.3170 - val_accuracy: 0.8714\n",
            "Epoch 6/40\n",
            "30/30 [==============================] - 1s 40ms/step - loss: 0.2165 - accuracy: 0.9170 - val_loss: 0.3047 - val_accuracy: 0.8771\n",
            "Epoch 7/40\n",
            "30/30 [==============================] - 1s 40ms/step - loss: 0.1802 - accuracy: 0.9327 - val_loss: 0.3045 - val_accuracy: 0.8797\n",
            "Epoch 8/40\n",
            "30/30 [==============================] - 1s 40ms/step - loss: 0.1506 - accuracy: 0.9459 - val_loss: 0.3200 - val_accuracy: 0.8773\n",
            "Epoch 9/40\n",
            "30/30 [==============================] - 1s 40ms/step - loss: 0.1241 - accuracy: 0.9563 - val_loss: 0.3341 - val_accuracy: 0.8785\n",
            "Epoch 9: early stopping\n"
          ]
        }
      ]
    },
    {
      "cell_type": "code",
      "source": [
        "results = model4.evaluate(X_test_enc, y_test)\n",
        "print(results)"
      ],
      "metadata": {
        "colab": {
          "base_uri": "https://localhost:8080/"
        },
        "id": "BMynWBENt9KX",
        "outputId": "483ca3ec-a7bf-4e29-a2a6-212004af902c"
      },
      "execution_count": null,
      "outputs": [
        {
          "output_type": "stream",
          "name": "stdout",
          "text": [
            "782/782 [==============================] - 2s 3ms/step - loss: 0.3549 - accuracy: 0.8672\n",
            "[0.3548524081707001, 0.8672000169754028]\n"
          ]
        }
      ]
    },
    {
      "cell_type": "markdown",
      "source": [
        "*This has topped the previous result of 86.6% by 0.1%. Our newest and best result so far at 86.7%*"
      ],
      "metadata": {
        "id": "xVOzNcuw2oIO"
      }
    },
    {
      "cell_type": "code",
      "source": [
        "from plot_keras_history import plot_history\n",
        "import matplotlib.pyplot as plt\n",
        "plot_history(history.history, path=\"standard.png\")\n",
        "plt.show()"
      ],
      "metadata": {
        "colab": {
          "base_uri": "https://localhost:8080/",
          "height": 385
        },
        "id": "7tvCkm7nt9Or",
        "outputId": "113fa4fb-bab1-489c-8bb9-6b3b037c5901"
      },
      "execution_count": null,
      "outputs": [
        {
          "output_type": "display_data",
          "data": {
            "text/plain": [
              "<Figure size 720x360 with 2 Axes>"
            ],
            "image/png": "[encoded data removed]"
          },
          "metadata": {
            "needs_background": "light"
          }
        }
      ]
    },
    {
      "cell_type": "markdown",
      "metadata": {
        "id": "K0npTvFuVt5R"
      },
      "source": [
        "### Adding two extra dense layers"
      ]
    },
    {
      "cell_type": "code",
      "execution_count": null,
      "metadata": {
        "colab": {
          "base_uri": "https://localhost:8080/"
        },
        "id": "PowyhyRqcdDA",
        "outputId": "0d69ccb6-7c99-4d6a-952d-4ade50c8fcca"
      },
      "outputs": [
        {
          "output_type": "stream",
          "name": "stdout",
          "text": [
            "Model: \"model_13\"\n",
            "_________________________________________________________________\n",
            " Layer (type)                Output Shape              Param #   \n",
            "=================================================================\n",
            " input_14 (InputLayer)       [(None, 256)]             0         \n",
            "                                                                 \n",
            " GloVe_Embeddings (Embedding  (None, 256, 300)         120000300 \n",
            " )                                                               \n",
            "                                                                 \n",
            " global_average_pooling1d_ma  (None, 300)              0         \n",
            " sked_8 (GlobalAveragePoolin                                     \n",
            " g1DMasked)                                                      \n",
            "                                                                 \n",
            " dense_32 (Dense)            (None, 300)               90300     \n",
            "                                                                 \n",
            " dense_33 (Dense)            (None, 100)               30100     \n",
            "                                                                 \n",
            " dense_34 (Dense)            (None, 16)                1616      \n",
            "                                                                 \n",
            " dense_35 (Dense)            (None, 1)                 17        \n",
            "                                                                 \n",
            "=================================================================\n",
            "Total params: 120,122,333\n",
            "Trainable params: 120,122,333\n",
            "Non-trainable params: 0\n",
            "_________________________________________________________________\n"
          ]
        }
      ],
      "source": [
        "# Inspect model performance with 1 hidden layer, pre-trained embeddings\n",
        "# your code goes here\n",
        "\n",
        "embeddingLayer=createPretrainedEmbeddingLayer(wordToGlove,wordToIndex,isTrainable=True)\n",
        "\n",
        "input_layer = Input(shape=(MAX_SEQUENCE_LENGTH,))\n",
        "embedding_layer = embeddingLayer(input_layer)\n",
        "pooling_layer = GlobalAveragePooling1DMasked()(embedding_layer)\n",
        "extra_dense_layer_1 = Dense(300, activation='relu')(pooling_layer)\n",
        "extra_dense_layer_2 = Dense(100, activation='relu')(extra_dense_layer_1)\n",
        "dense_layer = Dense(16, activation='relu')(extra_dense_layer_2)\n",
        "output_dense_layer = Dense(1, activation='sigmoid')(dense_layer)\n",
        "\n",
        "model4_2 = Model(inputs= input_layer, outputs=output_dense_layer)\n",
        "model4_2.compile('adam', 'binary_crossentropy', metrics=['accuracy'])\n",
        "model4_2.summary()"
      ]
    },
    {
      "cell_type": "markdown",
      "source": [
        "*This time we have addded two extra hidden layers with relu activation of 300 and 100 hidden neurons respectively*"
      ],
      "metadata": {
        "id": "eEBlBj-L3IUa"
      }
    },
    {
      "cell_type": "code",
      "source": [
        "history = model4_2.fit(partial_X_train,\n",
        "                    partial_y_train,\n",
        "                    epochs=40,\n",
        "                    batch_size=512,\n",
        "                    validation_data=(X_val, y_val),\n",
        "                    verbose=1,\n",
        "                    callbacks=[callback])"
      ],
      "metadata": {
        "colab": {
          "base_uri": "https://localhost:8080/"
        },
        "id": "mfMN5btJuruX",
        "outputId": "f411720b-87cf-41ae-c2cf-8adf6086f8c8"
      },
      "execution_count": null,
      "outputs": [
        {
          "output_type": "stream",
          "name": "stdout",
          "text": [
            "Epoch 1/40\n",
            "30/30 [==============================] - 2s 46ms/step - loss: 0.6859 - accuracy: 0.5577 - val_loss: 0.6712 - val_accuracy: 0.6117\n",
            "Epoch 2/40\n",
            "30/30 [==============================] - 1s 41ms/step - loss: 0.6379 - accuracy: 0.6531 - val_loss: 0.6089 - val_accuracy: 0.6789\n",
            "Epoch 3/40\n",
            "30/30 [==============================] - 1s 41ms/step - loss: 0.5146 - accuracy: 0.7668 - val_loss: 0.4437 - val_accuracy: 0.8056\n",
            "Epoch 4/40\n",
            "30/30 [==============================] - 1s 41ms/step - loss: 0.3771 - accuracy: 0.8428 - val_loss: 0.3687 - val_accuracy: 0.8422\n",
            "Epoch 5/40\n",
            "30/30 [==============================] - 1s 40ms/step - loss: 0.2913 - accuracy: 0.8829 - val_loss: 0.3280 - val_accuracy: 0.8672\n",
            "Epoch 6/40\n",
            "30/30 [==============================] - 1s 41ms/step - loss: 0.2385 - accuracy: 0.9073 - val_loss: 0.3365 - val_accuracy: 0.8633\n",
            "Epoch 7/40\n",
            "30/30 [==============================] - 1s 41ms/step - loss: 0.1913 - accuracy: 0.9277 - val_loss: 0.3128 - val_accuracy: 0.8764\n",
            "Epoch 8/40\n",
            "30/30 [==============================] - 1s 40ms/step - loss: 0.1578 - accuracy: 0.9429 - val_loss: 0.3178 - val_accuracy: 0.8814\n",
            "Epoch 9/40\n",
            "30/30 [==============================] - 1s 40ms/step - loss: 0.1302 - accuracy: 0.9553 - val_loss: 0.3620 - val_accuracy: 0.8692\n",
            "Epoch 10/40\n",
            "30/30 [==============================] - 1s 40ms/step - loss: 0.1166 - accuracy: 0.9590 - val_loss: 0.3512 - val_accuracy: 0.8799\n",
            "Epoch 10: early stopping\n"
          ]
        }
      ]
    },
    {
      "cell_type": "code",
      "source": [
        "results = model4_2.evaluate(X_test_enc, y_test)\n",
        "print(results)"
      ],
      "metadata": {
        "colab": {
          "base_uri": "https://localhost:8080/"
        },
        "id": "7dzI5pOFurjq",
        "outputId": "4df12024-5db1-4224-b219-d7d09542ba5a"
      },
      "execution_count": null,
      "outputs": [
        {
          "output_type": "stream",
          "name": "stdout",
          "text": [
            "782/782 [==============================] - 2s 3ms/step - loss: 0.3799 - accuracy: 0.8655\n",
            "[0.3798668682575226, 0.8654800057411194]\n"
          ]
        }
      ]
    },
    {
      "cell_type": "markdown",
      "source": [
        "*As we can see, the added relu activated dense layers are helping a little bit. But no major significant boosts.*"
      ],
      "metadata": {
        "id": "unQuDEhx3mn2"
      }
    },
    {
      "cell_type": "code",
      "source": [
        "from plot_keras_history import plot_history\n",
        "import matplotlib.pyplot as plt\n",
        "plot_history(history.history, path=\"standard.png\")\n",
        "plt.show()"
      ],
      "metadata": {
        "colab": {
          "base_uri": "https://localhost:8080/",
          "height": 385
        },
        "id": "T9OAsOdVurSk",
        "outputId": "f50b7bc1-5df8-4481-8ef7-97154bd568ce"
      },
      "execution_count": null,
      "outputs": [
        {
          "output_type": "display_data",
          "data": {
            "text/plain": [
              "<Figure size 720x360 with 2 Axes>"
            ],
            "image/png": "[encoded data removed]"
          },
          "metadata": {
            "needs_background": "light"
          }
        }
      ]
    },
    {
      "cell_type": "markdown",
      "metadata": {
        "id": "XisS32PaTATf"
      },
      "source": [
        "These two experiments show that adding extra dense layers can slightly improve accuracy over model 3-1.\n",
        "\n",
        "---\n",
        "\n"
      ]
    },
    {
      "cell_type": "markdown",
      "metadata": {
        "id": "CrfC9Mu-RHID"
      },
      "source": [
        "#  Model 5: CNN for Text Classification"
      ]
    },
    {
      "cell_type": "markdown",
      "metadata": {
        "id": "EPaFmFk1BMFf"
      },
      "source": [
        "In this section, we build a Convolutional Neural Network (CNN) for text classification. We start by using one CNN layer and then adding another layer. You could use embeddings from pre-trained or scratch."
      ]
    },
    {
      "cell_type": "markdown",
      "metadata": {
        "id": "zjOJrGCzwGM5"
      },
      "source": [
        "##  Model 5-1: Basic CNN model for Text Classification "
      ]
    },
    {
      "cell_type": "code",
      "execution_count": null,
      "metadata": {
        "colab": {
          "base_uri": "https://localhost:8080/"
        },
        "id": "rXBstOw0sCYF",
        "outputId": "016ee172-d153-482c-fa00-c36c88449476"
      },
      "outputs": [
        {
          "output_type": "stream",
          "name": "stdout",
          "text": [
            "Model: \"model_14\"\n",
            "_________________________________________________________________\n",
            " Layer (type)                Output Shape              Param #   \n",
            "=================================================================\n",
            " input_15 (InputLayer)       [(None, 256)]             0         \n",
            "                                                                 \n",
            " GloVe_Embeddings (Embedding  (None, 256, 300)         120000300 \n",
            " )                                                               \n",
            "                                                                 \n",
            " conv1d (Conv1D)             (None, 254, 100)          90100     \n",
            "                                                                 \n",
            " global_average_pooling1d_ma  (None, 100)              0         \n",
            " sked_9 (GlobalAveragePoolin                                     \n",
            " g1DMasked)                                                      \n",
            "                                                                 \n",
            " dense_36 (Dense)            (None, 1)                 101       \n",
            "                                                                 \n",
            "=================================================================\n",
            "Total params: 120,090,501\n",
            "Trainable params: 120,090,501\n",
            "Non-trainable params: 0\n",
            "_________________________________________________________________\n"
          ]
        }
      ],
      "source": [
        "hidden_layer=16\n",
        "\n",
        "# your code goes here\n",
        "\n",
        "from keras.layers import Conv1D\n",
        "\n",
        "embeddingLayer=createPretrainedEmbeddingLayer(wordToGlove,wordToIndex,isTrainable=True)\n",
        "\n",
        "input_layer = Input(shape=(MAX_SEQUENCE_LENGTH,))\n",
        "embedding_layer = embeddingLayer(input_layer)\n",
        "conv_layer = Conv1D(100, 3)(embedding_layer)\n",
        "pooling_layer = GlobalAveragePooling1DMasked()(conv_layer)\n",
        "output_dense_layer = Dense(1, activation='sigmoid')(pooling_layer)\n",
        "\n",
        "model5_1 = Model(inputs= input_layer, outputs=output_dense_layer)\n",
        "model5_1.compile('adam', 'binary_crossentropy', metrics=['accuracy'])\n",
        "model5_1.summary()"
      ]
    },
    {
      "cell_type": "markdown",
      "source": [
        "*We now use a Convolutional layer instead of an LSTM layer*"
      ],
      "metadata": {
        "id": "nsprghCl4LFJ"
      }
    },
    {
      "cell_type": "code",
      "execution_count": null,
      "metadata": {
        "id": "-G5MrDPJFBzK",
        "colab": {
          "base_uri": "https://localhost:8080/"
        },
        "outputId": "b264a786-7258-495c-a7f8-858d88705d0c"
      },
      "outputs": [
        {
          "output_type": "stream",
          "name": "stdout",
          "text": [
            "Epoch 1/40\n",
            "30/30 [==============================] - 8s 67ms/step - loss: 0.6764 - accuracy: 0.5687 - val_loss: 0.6425 - val_accuracy: 0.6416\n",
            "Epoch 2/40\n",
            "30/30 [==============================] - 2s 59ms/step - loss: 0.5970 - accuracy: 0.7013 - val_loss: 0.5462 - val_accuracy: 0.7467\n",
            "Epoch 3/40\n",
            "30/30 [==============================] - 2s 60ms/step - loss: 0.4687 - accuracy: 0.8018 - val_loss: 0.4276 - val_accuracy: 0.8150\n",
            "Epoch 4/40\n",
            "30/30 [==============================] - 2s 59ms/step - loss: 0.3583 - accuracy: 0.8527 - val_loss: 0.3667 - val_accuracy: 0.8436\n",
            "Epoch 5/40\n",
            "30/30 [==============================] - 2s 60ms/step - loss: 0.2848 - accuracy: 0.8875 - val_loss: 0.3244 - val_accuracy: 0.8651\n",
            "Epoch 6/40\n",
            "30/30 [==============================] - 2s 59ms/step - loss: 0.2378 - accuracy: 0.9086 - val_loss: 0.3072 - val_accuracy: 0.8748\n",
            "Epoch 7/40\n",
            "30/30 [==============================] - 2s 60ms/step - loss: 0.2019 - accuracy: 0.9235 - val_loss: 0.3015 - val_accuracy: 0.8800\n",
            "Epoch 8/40\n",
            "30/30 [==============================] - 2s 60ms/step - loss: 0.1739 - accuracy: 0.9378 - val_loss: 0.3021 - val_accuracy: 0.8809\n",
            "Epoch 9/40\n",
            "30/30 [==============================] - 2s 60ms/step - loss: 0.1474 - accuracy: 0.9497 - val_loss: 0.3111 - val_accuracy: 0.8780\n",
            "Epoch 9: early stopping\n"
          ]
        }
      ],
      "source": [
        "# Train and test the model\n",
        "\n",
        "# your code goes here\n",
        "history = model5_1.fit(partial_X_train,\n",
        "                    partial_y_train,\n",
        "                    epochs=40,\n",
        "                    batch_size=512,\n",
        "                    validation_data=(X_val, y_val),\n",
        "                    verbose=1,\n",
        "                    callbacks = [callback])"
      ]
    },
    {
      "cell_type": "code",
      "execution_count": null,
      "metadata": {
        "colab": {
          "base_uri": "https://localhost:8080/",
          "height": 419
        },
        "id": "8nvkxunysjhr",
        "outputId": "29193926-39b7-4f18-e131-ea03febc0d2c"
      },
      "outputs": [
        {
          "output_type": "stream",
          "name": "stdout",
          "text": [
            "782/782 [==============================] - 2s 3ms/step - loss: 0.3307 - accuracy: 0.8686\n",
            "[0.3306501507759094, 0.8685600161552429]\n"
          ]
        },
        {
          "output_type": "display_data",
          "data": {
            "text/plain": [
              "<Figure size 720x360 with 2 Axes>"
            ],
            "image/png": "[encoded data removed]"
          },
          "metadata": {
            "needs_background": "light"
          }
        }
      ],
      "source": [
        "# your code goes here\n",
        "results = model5_1.evaluate(X_test_enc, y_test)\n",
        "\n",
        "print (results)\n",
        "\n",
        "from plot_keras_history import plot_history\n",
        "import matplotlib.pyplot as plt\n",
        "plot_history(history.history, path=\"standard.png\")\n",
        "plt.show()"
      ]
    },
    {
      "cell_type": "markdown",
      "source": [
        "*This has given us quite great results. At 86.8% this is our highest score yet*"
      ],
      "metadata": {
        "id": "-VPMYXBL4W3r"
      }
    },
    {
      "cell_type": "markdown",
      "metadata": {
        "id": "XkQMLxw-wWG6"
      },
      "source": [
        "## Model 5-2: Adding extra convolutional layer"
      ]
    },
    {
      "cell_type": "code",
      "execution_count": null,
      "metadata": {
        "colab": {
          "base_uri": "https://localhost:8080/"
        },
        "id": "7nvF662HOoqg",
        "outputId": "40dc5838-0ef4-46cc-8fde-48b17540e12c"
      },
      "outputs": [
        {
          "output_type": "stream",
          "name": "stdout",
          "text": [
            "Model: \"model_15\"\n",
            "_________________________________________________________________\n",
            " Layer (type)                Output Shape              Param #   \n",
            "=================================================================\n",
            " input_16 (InputLayer)       [(None, 256)]             0         \n",
            "                                                                 \n",
            " GloVe_Embeddings (Embedding  (None, 256, 300)         120000300 \n",
            " )                                                               \n",
            "                                                                 \n",
            " conv1d_1 (Conv1D)           (None, 251, 100)          180100    \n",
            "                                                                 \n",
            " conv1d_2 (Conv1D)           (None, 249, 100)          30100     \n",
            "                                                                 \n",
            " global_average_pooling1d_ma  (None, 100)              0         \n",
            " sked_10 (GlobalAveragePooli                                     \n",
            " ng1DMasked)                                                     \n",
            "                                                                 \n",
            " dense_37 (Dense)            (None, 1)                 101       \n",
            "                                                                 \n",
            "=================================================================\n",
            "Total params: 120,210,601\n",
            "Trainable params: 120,210,601\n",
            "Non-trainable params: 0\n",
            "_________________________________________________________________\n"
          ]
        }
      ],
      "source": [
        "\n",
        "# your code goes here\n",
        "\n",
        "from keras.layers import Conv1D\n",
        "\n",
        "embeddingLayer=createPretrainedEmbeddingLayer(wordToGlove,wordToIndex,isTrainable=True)\n",
        "\n",
        "input_layer = Input(shape=(MAX_SEQUENCE_LENGTH,))\n",
        "embedding_layer = embeddingLayer(input_layer)\n",
        "conv_layer1 = Conv1D(100, 6)(embedding_layer)\n",
        "conv_layer2 = Conv1D(100, 3)(conv_layer1)\n",
        "pooling_layer = GlobalAveragePooling1DMasked()(conv_layer2)\n",
        "output_dense_layer = Dense(1, activation='sigmoid')(pooling_layer)\n",
        "\n",
        "model5_2 = Model(inputs= input_layer, outputs=output_dense_layer)\n",
        "model5_2.compile('adam', 'binary_crossentropy', metrics=['accuracy'])\n",
        "model5_2.summary()"
      ]
    },
    {
      "cell_type": "markdown",
      "source": [
        "*Now we have added 2 convolutional layers with filter sizes 6 and 3 respectively*"
      ],
      "metadata": {
        "id": "w8m1aSJ54r9f"
      }
    },
    {
      "cell_type": "code",
      "execution_count": null,
      "metadata": {
        "id": "hx8JLl4xPlua",
        "colab": {
          "base_uri": "https://localhost:8080/"
        },
        "outputId": "7a52027d-b299-4680-9afb-7320c8e03998"
      },
      "outputs": [
        {
          "output_type": "stream",
          "name": "stdout",
          "text": [
            "Epoch 1/40\n",
            "30/30 [==============================] - 4s 85ms/step - loss: 0.7124 - accuracy: 0.5133 - val_loss: 0.6721 - val_accuracy: 0.6039\n",
            "Epoch 2/40\n",
            "30/30 [==============================] - 2s 76ms/step - loss: 0.6262 - accuracy: 0.6528 - val_loss: 0.5436 - val_accuracy: 0.7348\n",
            "Epoch 3/40\n",
            "30/30 [==============================] - 2s 76ms/step - loss: 0.4385 - accuracy: 0.8009 - val_loss: 0.4009 - val_accuracy: 0.8258\n",
            "Epoch 4/40\n",
            "30/30 [==============================] - 2s 75ms/step - loss: 0.3139 - accuracy: 0.8691 - val_loss: 0.3656 - val_accuracy: 0.8494\n",
            "Epoch 5/40\n",
            "30/30 [==============================] - 2s 75ms/step - loss: 0.2466 - accuracy: 0.9042 - val_loss: 0.3431 - val_accuracy: 0.8635\n",
            "Epoch 6/40\n",
            "30/30 [==============================] - 2s 75ms/step - loss: 0.1893 - accuracy: 0.9283 - val_loss: 0.3359 - val_accuracy: 0.8720\n",
            "Epoch 7/40\n",
            "30/30 [==============================] - 2s 75ms/step - loss: 0.1494 - accuracy: 0.9451 - val_loss: 0.4407 - val_accuracy: 0.8539\n",
            "Epoch 8/40\n",
            "30/30 [==============================] - 2s 75ms/step - loss: 0.1252 - accuracy: 0.9528 - val_loss: 0.4024 - val_accuracy: 0.8697\n",
            "Epoch 8: early stopping\n"
          ]
        }
      ],
      "source": [
        "# Train and test the model\n",
        "\n",
        "# your code goes here\n",
        "history = model5_2.fit(partial_X_train,\n",
        "                    partial_y_train,\n",
        "                    epochs=40,\n",
        "                    batch_size=512,\n",
        "                    validation_data=(X_val, y_val),\n",
        "                    verbose=1,\n",
        "                    callbacks = [callback])"
      ]
    },
    {
      "cell_type": "code",
      "execution_count": null,
      "metadata": {
        "colab": {
          "base_uri": "https://localhost:8080/",
          "height": 419
        },
        "id": "T2-fqNHiRRIe",
        "outputId": "ab0d8d50-78e2-4238-fa8c-411777213fbc"
      },
      "outputs": [
        {
          "output_type": "stream",
          "name": "stdout",
          "text": [
            "782/782 [==============================] - 2s 3ms/step - loss: 0.4478 - accuracy: 0.8516\n",
            "[0.4478025436401367, 0.8515599966049194]\n"
          ]
        },
        {
          "output_type": "display_data",
          "data": {
            "text/plain": [
              "<Figure size 720x360 with 2 Axes>"
            ],
            "image/png": "[encoded data removed]"
          },
          "metadata": {
            "needs_background": "light"
          }
        }
      ],
      "source": [
        "# your code goes here\n",
        "results = model5_2.evaluate(X_test_enc, y_test)\n",
        "\n",
        "print (results)\n",
        "\n",
        "from plot_keras_history import plot_history\n",
        "import matplotlib.pyplot as plt\n",
        "plot_history(history.history, path=\"standard.png\")\n",
        "plt.show()"
      ]
    },
    {
      "cell_type": "markdown",
      "metadata": {
        "id": "Kx--Ytk3ZbLo"
      },
      "source": [
        "Although adding layer here reduces the training loss, the evaluation accuracy is worse than the model without the extra convolutional layer.\n",
        "\n",
        "Adding more layers can help you to extract more features. But we can do that up to a certain extent. After some point, instead of extracting features, we tend to overfit the data. Overfitting can lead to errors in on form or another, such as false positives. It is not easy to choose the number of units in a hidden layer or the number of hidden layers in a neural network. For many applications, one hidden layer is enough. As a general rule, the number of units in that hidden layer is between the number of inputs and the number of outputs.\n",
        " The best way to decide on the number of units and hidden layers is to try various parameters. Train several neural networks with different numbers of hidden layers and neurons, and monitor the performance of them. You will have to experiment using a series of different architectures. \n",
        "\n",
        "\n",
        "\n"
      ]
    },
    {
      "cell_type": "markdown",
      "metadata": {
        "id": "gn2GSV4ioyO2"
      },
      "source": [
        "\n",
        "\n",
        "---\n",
        "\n"
      ]
    }
  ],
  "metadata": {
    "accelerator": "GPU",
    "colab": {
      "collapsed_sections": [
        "i_9a_rybhG5J"
      ],
      "machine_shape": "hm",
      "name": "LSTM and CNN using GloVe",
      "provenance": [],
      "toc_visible": true,
      "include_colab_link": true
    },
    "kernelspec": {
      "display_name": "Python 3",
      "language": "python",
      "name": "python3"
    },
    "language_info": {
      "codemirror_mode": {
        "name": "ipython",
        "version": 3
      },
      "file_extension": ".py",
      "mimetype": "text/x-python",
      "name": "python",
      "nbconvert_exporter": "python",
      "pygments_lexer": "ipython3",
      "version": "3.8.2"
    }
  },
  "nbformat": 4,
  "nbformat_minor": 0
}